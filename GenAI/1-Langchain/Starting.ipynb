{
 "cells": [
  {
   "cell_type": "code",
   "execution_count": 2,
   "metadata": {},
   "outputs": [
    {
     "data": {
      "text/plain": [
       "<langchain_community.document_loaders.text.TextLoader at 0x20f3c189090>"
      ]
     },
     "execution_count": 2,
     "metadata": {},
     "output_type": "execute_result"
    }
   ],
   "source": [
    "##data injestion\n",
    "##text loader\n",
    "from langchain_community.document_loaders import TextLoader\n",
    "loader = TextLoader('speech.txt')\n",
    "loader"
   ]
  },
  {
   "cell_type": "code",
   "execution_count": 3,
   "metadata": {},
   "outputs": [
    {
     "data": {
      "text/plain": [
       "[Document(metadata={'source': 'speech.txt'}, page_content='Rommel was a highly decorated officer in World War I and was awarded the Pour le Mérite for his actions on the Italian Front. In 1937, he published his classic book on military tactics, Infantry Attacks, drawing on his experiences in that war. In World War II, he commanded the 7th Panzer Division during the 1940 invasion of France. His leadership of German and Italian forces in the North African campaign established his reputation as one of the ablest tank commanders of the war, and earned him the nickname der Wüstenfuchs, \"the Desert Fox\". Among his British adversaries he had a reputation for chivalry, and his phrase \"war without hate\" has been uncritically used to describe the North African campaign.[2] A number of historians have since rejected the phrase as a myth and uncovered numerous examples of German war crimes and abuses towards enemy soldiers and native populations in Africa during the conflict.[3] Other historians note that there is no clear evidence Rommel was involved or aware of these crimes,[4] with some pointing out that the war in the desert, as fought by Rommel and his opponents, still came as close to a clean fight as there was in World War II.[5] He later commanded the German forces opposing the Allied cross-channel invasion of Normandy in June 1944.\\n\\nAfter the Nazis gained power in Germany, Rommel gradually accepted the new regime. Historians have given different accounts of the specific period and his motivations.[6] He was a supporter of Adolf Hitler, at least until near the end of the war, if not necessarily sympathetic to the party and the paramilitary forces associated with it.[7] In 1944, Rommel was implicated in the 20 July plot to assassinate Hitler. Because of Rommel\\'s status as a national hero, Hitler wanted to eliminate him quietly instead of having him immediately executed, as many other plotters were. Rommel was given a choice between suicide, in return for assurances that his reputation would remain intact and that his family would not be persecuted following his death, or facing a trial that would result in his disgrace and execution; he chose the former and took a cyanide pill.[8] Rommel was given a state funeral, and it was announced that he had succumbed to his injuries from the strafing of his staff car in Normandy.\\n\\nRommel became a larger-than-life figure in both Allied and Nazi propaganda, and in postwar popular culture. Numerous authors portray him as an apolitical, brilliant commander and a victim of Nazi Germany, although other authors have contested this assessment and called it the \"Rommel myth\". Rommel\\'s reputation for conducting a clean war was used in the interest of the West German rearmament and reconciliation between the former enemies – the United Kingdom and the United States on one side and the new Federal Republic of Germany on the other. Several of Rommel\\'s former subordinates, notably his chief of staff Hans Speidel, played key roles in German rearmament and integration into NATO in the postwar era. The German Army\\'s largest military base, the Field Marshal Rommel Barracks, Augustdorf, and a third ship of Lütjens-class destroyer of the German Navy are both named in his honour. His son Manfred Rommel was the longtime mayor of Stuttgart, Germany and namesake of Stuttgart Airport')]"
      ]
     },
     "execution_count": 3,
     "metadata": {},
     "output_type": "execute_result"
    }
   ],
   "source": [
    "text_documents = loader.load()\n",
    "text_documents"
   ]
  },
  {
   "cell_type": "code",
   "execution_count": 4,
   "metadata": {},
   "outputs": [
    {
     "data": {
      "text/plain": [
       "[Document(metadata={'source': 'MSK_trauma.pdf', 'page': 0}, page_content='See discussions, st ats, and author pr ofiles f or this public ation at : https://www .researchgate.ne t/public ation/320159486\\nSurgical Management of Musculoskeletal T rauma\\nArticle \\xa0\\xa0 in\\xa0\\xa0Surgical Clinics of North Americ a · Oct ober 2017\\nDOI: 10.1016/ j.suc.2017.06.005\\nCITATIONS\\n35READS\\n1,461\\n2 author s:\\nDaniel Stinner\\nVanderbilt Univ ersity\\n132 PUBLICA TIONS \\xa0\\xa0\\xa02,847  CITATIONS \\xa0\\xa0\\xa0\\nSEE PROFILE\\nDafy dd S Edw ards\\nThe R oyal London Hospit al\\n32 PUBLICA TIONS \\xa0\\xa0\\xa0569 CITATIONS \\xa0\\xa0\\xa0\\nSEE PROFILE\\nAll c ontent f ollo wing this p age was uplo aded b y Dafy dd S Edw ards on 01 Dec ember 2017.\\nThe user has r equest ed enhanc ement of the do wnlo aded file.'),\n",
       " Document(metadata={'source': 'MSK_trauma.pdf', 'page': 1}, page_content='Surgical Management of\\nMusculoskeletal Trauma\\nDaniel J. Stinner, MDa,b,*, Dafydd Edwards, FRCS (Tr&Orth)a,c\\nSOCIETAL BURDEN OF EXTREMITY TRAUMA\\nInjuries remain a leading cause of death in people younger the age of 65 years. When\\nconsidering years of potential life lost, it ranks higher than malignant neoplasms, heartdisease, and cerebrovascular disease. However, deaths are truly just the tip of the\\niceberg. For every trauma-related death there are 13 hospital discharges and 140\\nemergency department visits related to injury or trauma.\\n1With advances in automobile\\nsafety and improvements in acute resuscitation strategies, lives are being saved, butthat comes at a cost for both the patient and society. When evaluating societal costs\\ndue to injury, 20% can be attributed to medical and related costs, another 35% are\\ndue to productivity losses due to death, and 45% are due to productivity losses\\nDisclosure: The opinions or assertions contained herein are the private views of the authors and\\nare not to be construed as official or as reflecting the views of the Department of the Army, theDepartment of Defense, or the UK Ministry of Defense.\\naRoyal School of Mines, Centre for Blast Injury Studies, Imperial College London, Prince Con-\\nsort Road, Kensington, London SW7 2BP, UK;bUS Army Institute of Surgical Research, San\\nAntonio, TX, USA;cRoyal Centre for Defence Medicine, Birmingham, UK\\n* Corresponding author. Royal School of Mines, Centre for Blast Injury Studies, Imperial CollegeLondon, Prince Consort Road, Kensington, London SW7 2BP, UK.E-mail address: Daniel.stinner@gmail.comKEYWORDS\\n/C15Extremity trauma /C15Limb salvage /C15Limb reconstruction\\n/C15Damage control orthopedics /C15Early total care /C15Early appropriate care\\nKEY POINTS\\n/C15Extremity injuries account for more than 50% of the total costs to society for nonfatal\\ninjuries.\\n/C15Communication between the orthopedic surgeon, trauma team leader, and other surgical\\nservices is paramount to optimize outcomes.\\n/C15Damage control orthopedics (DCO) is reserved for the physiologically unstable or border-\\nline patient.\\n/C15Early total care (ETC) is often ideal for the management of stable trauma patients with iso-\\nlated extremity injuries.\\n/C15Early appropriate care refers to the decision to apply either DCO or ETC depending on the\\npatient’s physiologic status and response to resuscitation.\\nSurg Clin N Am 97 (2017) 1119–1131\\nhttp://dx.doi.org/10.1016/j.suc.2017.06.005 surgical.theclinics.com\\n0039-6109/17/ ª2017 The Author(s). Published by Elsevier Inc. This is an open access article under\\nthe CC BY-NC-ND license ( http://creativecommons.org/licenses/by-nc-nd/4.0/ ).'),\n",
       " Document(metadata={'source': 'MSK_trauma.pdf', 'page': 2}, page_content='due to disability. When looking specifically at the comprehensive costs on society of\\nnonfatal injuries, upper limb injuries account for 16% and lower limb injuries accountfor 38%, attributing well more than 50% of the total costs on society for nonfatal in-\\njuries to the extremities.\\n2Furthermore, of those working before an injury from a mod-\\nerate to high-energy force with an orthopedic injury with an Abbreviated Injury Scale(AIS) of 3 or more, only 58% have returned to work at 1 year.\\n3This gives orthopedic\\nsurgeons the opportunity to have a significant impact on minimizing this burden by do-\\ning their part to optimize outcomes of those with extremity injuries.\\nNEED FOR A COORDINATED NATIONAL TRAUMA SYSTEM TO OPTIMIZE OUTCOMES\\nHaving an established and optimized trauma system is essential to improve the out-\\ncomes of those who sustain high-energy extremity trauma. Research clearly demon-\\nstrates that those sustaining severe lower-limb injuries benefit from treatment at atrauma center.\\n4,5Interestingly enough, although the total number of trauma centers\\nis increasing throughout the United States, the number of severe orthopedic injuries\\nseen at these centers seems to be decreasing, which ultimately results in less trauma\\nvolume per orthopedic surgeon.6The American College of Surgeons Committee on\\nTrauma has recognized this dilemma and has published a position statement outlining\\nseveral guidelines for the optimization of a regional trauma system, which seeks to\\nbest serve the needs of the injured patient.7In addition, through the establishment\\nof a coordinated National Trauma System, which may be on the horizon in the United\\nStates, outcomes of extremity trauma patients are likely to improve.8\\nTRAUMA-RELATED MORTALITY\\nIn the developed world, trauma is the most common cause of death in those younger\\nthan the age of 44 years and is most commonly due to road traffic accidents. Donald\\nTrunkey9described a predictable trimodal distribution of death in 1983.\\nAcute or Primary Mortality\\nThe casualties that belong in this group are ones that have sustained injuries that are\\nincompatible with life. Typical injuries include severe head injuries, major hemorrhage,high cervical vertebra (C3 and above) and spinal cord injuries, airway obstruction, ormediastinal and cardiac disruption. Casualties often succumb to these injuries within\\nseconds because they are not amenable to medical intervention regardless of the\\ntimeline.\\nSecondary Mortality\\nDeath in the second peak usually occurs within minutes to hours and is potentially pre-ventable by early and appropriate medical intervention. Examples of early or acute in-\\njuries in this group are intracranial hemorrhage, pneumothorax, cardiac tamponade,\\nhemothorax, intra-abdominal hemorrhage, pelvic fracture, or long bone fracture, inparticular femoral fractures. All of these are characterized by the need for early inva-\\nsive medical intervention to stabilize the casualty before physiologic disruption and or-\\ngan failure occurs. For the orthopedic surgeon, interventions include pelvis and longbone stabilization; however, it is important for them to be aware that patients with\\nthese injuries often require significant resuscitation.\\nTertiary Mortality\\nThirty percent of all trauma-related deaths occur within days or weeks following the\\ninjury.10The triggering of multiorgan failure and subsequent death is usually on aStinner & Edwards 1120'),\n",
       " Document(metadata={'source': 'MSK_trauma.pdf', 'page': 3}, page_content='continuum and starts with potentially reversible physiologic dysfunction usually\\ncaused by sepsis or cardiorespiratory failure. This concept of multiple, progressiveor sequential systems failure was first described in 1975 by Baue.\\n10The term multior-\\ngan dysfunction syndrome has been adopted to describe this condition and is char-\\nacterized by the failure of at least 2 organs.\\nThe goal of the orthopedic surgeon is to attempt to prevent secondary or tertiary\\ndeaths and subsequently minimize morbidity related to musculoskeletal injury. Typi-\\ncally, mortality in the secondary peak can be minimized by stabilization of fracturesto the pelvis and long bones. Stabilization of such injuries not only helps with the\\nreduction of blood loss but also deceases the pain stimuli, reducing the analgesia\\nand anesthetic requirement, which can help with the regulation and normalization ofphysiology. Furthermore, stabilization of the long bones can also minimize the riskof pulmonary complications due to fat emboli and inability to mobilize.\\nADVANCED TRAUMA LIFE SUPPORT\\nDuring the primary survey, the orthopedic surgeon can assist in the management ofmusculoskeletal injuries that have a direct impact on the primary survey or injuries\\nthat are diagnosed during primary investigations. Overtly fractured limbs impeding\\nassessment, the fractured pelvis with hemodynamic instability, and open long bonefractures with ongoing hemorrhage are all indications for the early intervention by\\nthe orthopedic surgeon. As the orthopedic surgeon identifies these injuries, they\\nmust stay in continual communication with the trauma team leader because theymay affect resuscitation strategies.\\nRestoring gross length and alignment of fractures and stabilizing long bone and/or\\npelvic ring fractures with splints and/or a pelvic binder can minimize further blood loss,\\nbone and soft tissue trauma, and reduce patient pain and analgesia requirement.However, it should be noted that resuscitation and the primary survey always take pre-\\ncedence over splinting of extremity fractures.\\nOf note, missed extremity injuries, especially in the hand and foot, can occur in more\\nthan 8% of trauma patients, which emphasizes the importance of repeat assess-\\nment.\\n11A low threshold for a high index of suspicion of spinal injuries should also\\nbe considered in an unconscious patient and triple immobilization should be main-tained until formal clinical evaluation is possible. If this is not possible due to a persis-tent unconscious or anesthetized patient, spine-specific imaging, computed\\ntomography (CT), and MRI should be performed before removal of the immobilization.\\nAdjuncts to the secondary survey include further radiographic imaging. It is nowcommonplace to perform a trauma protocol CT scan that may replace the need for\\nother radiographs.\\n12\\nORTHOPEDICS IN THE EMERGENCY DEPARTMENT: EARLY INTERVENTIONS CAN\\nIMPROVE OUTCOMES\\nAlthough the orthopedic surgeon may not be directly involved in the primary survey of\\nthe severely injured patient, their acute management of several conditions can have adramatic effect on the patient’s overall outcome.\\nMajor Hemorrhage\\nThe patient who presents in major hemorrhage is often in extremis. In the setting ofmajor hemorrhage from an extremity injury, the main goal for the orthopedic surgeon\\nis to assist in the so-called Stop the Bleed. This is initially managed by direct pressure,\\nwhether manual or via a pressure bandage. Failure to control hemorrhage throughMusculoskeletal Trauma 1121'),\n",
       " Document(metadata={'source': 'MSK_trauma.pdf', 'page': 4}, page_content='direct pressure should result in tourniquet application.13,14Because tourniquet use is\\nmore common prehospital, a patient may arrive with a tourniquet in place. Cautionshould always be taken when removing a tourniquet and it is advisable to have another\\nready to use proximally on removal or ensure it is removed in a controlled environment\\nto ensure more harm is not inflicted. In the setting of a traumatic amputation, a tour-niquet should be applied if hemorrhage control is needed and then it can be reas-\\nsessed in the operating room.\\nOpen Fractures\\nOpen fractures involve a direct communication of the injured bone with the environ-\\nment and are often the reflection of a high-energy injury. Not only does the potential\\nfor contamination worsen the injury burden but the high energy indicates severe dam-\\nage to the local soft tissues, both leading to wound complications and an increasedpotential for infection. Open fractures are commonly classified by 2 different systems.\\nThe more commonly used Gustilo-Anderson Classification and the newer Orthopaedic\\nTrauma Association’s Open Fracture Classification ( Boxes 1 and2).\\n15,16The most\\nimportant predictor of infection following open fracture seems to be timeliness of anti-\\nbiotic administration, with antibiotics given more than 60 minutes after injury being an\\nindependent risk factor for infection.17Typically, a first-generation cephalosporin is\\nrecommended with additional broader coverage only in certain scenarios.18Surgical\\ndebridement and irrigation should be performed within 24 hours, and ideally sooner\\ndepending on the level of contamination. The type of fixation, which can be either tem-porary or definitive, depends of the level of soft tissue injury and contamination. Whenrequired, wound coverage should be performed within 5 to 7 days.\\n17,19\\nFemur Fractures\\nIn the presence of hemodynamic instability and physiologic parameters that indicatehypovolemic shock, the assessment of circulation and hemorrhage involves the ex-\\namination of the lower extremity for swelling. Even in the context of a closed femoral\\nfracture, blood loss can be as much as 2.2 L.\\n20,21Furthermore, 40% of isolated\\nfemoral fractures require blood transfusion.22In such situations it is advocated that\\nskeletal immobilization of long bone fractures be performed during the primary survey.\\nBox 1\\nGustilo-Anderson open fracture classification\\nType 1\\nWound is /C201 cm with minimal soft tissue injury\\nType 2\\nWound is greater than 1 cm in length, moderate soft tissue injury\\nType 3\\n/C15Extensive soft tissue injury, degloving, or periosteal stripping, but soft tissue closure is\\npossible\\n/C15Extensive soft tissue injury with periosteal stripping, requires flap coverage\\n/C15Associated with an arterial injury requiring repair\\nFrom Gustilo RB, Mendoza RM, Williams DN. Problems in the management of type III (severe)\\nopen fractures: a new classification of type III open fractures. J Trauma 1984;24(8):743.Stinner & Edwards 1122'),\n",
       " Document(metadata={'source': 'MSK_trauma.pdf', 'page': 5}, page_content='The femur can be immobilized with in-line traction bucks or skeletal traction until early\\noperative skeletal stabilization is performed.23\\nPelvic Ring Injuries\\nBecause of the energy needed to create a pelvic ring injury, they are often associated\\nwith hemodynamic instability, head injuries, thoracoabdominal injuries, and long bone\\nfractures. In fact, pelvic fractures resulting in blood loss and hypovolemia have a mor-tality rate between 3% and 20%.\\n24With increasing fracture severity, that is, more pos-\\nterior pelvic disruption, the pelvic venous plexus, and internal iliac vessels are at an\\nincreased risk of injury and subsequent uncontrolled hemorrhage. Fluid resuscitationand hemorrhage control are vital. Many trauma centers have an algorithm based on\\nthe facility’s capabilities to direct management, which involves stabilization of the pel-\\nvic ring injury at a minimum, for example, pelvic binder initially followed by externalfixation.\\nCompartment Syndrome\\nAcute compartment syndrome (ACS) occurs when there is progressive myoneuralischemia due to the accumulation of fluid within a confined myofascial space or pro-longed elevated pressure due to an external source such as a crush injury. ACS is\\nconsidered a surgical emergency because irreversible muscle necrosis can begin\\nwithin 6 hours of injury. Clinical examination findings of ACS consist of the 5 Ps:Box 2\\nOrthopaedic Trauma Association open fracture classification\\nSkin\\n1. Can be approximated2. Cannot be approximated\\n3. Extensive degloving\\nMuscle\\n1. No muscle in area, no appreciable muscle necrosis, some muscle injury with intact muscle\\nfunction\\n2. Loss of muscle but the muscle remains functional, some localized necrosis in the zone of\\ninjury that requires excision, intact muscle-tendon unit\\n3. Dead muscle, loss of muscle function, partial or complete compartment excision, complete\\ndisruption of a muscle-tendon unit, muscle defect does not approximate\\nArterial\\n1. No injury\\n2. Artery injury without ischemia\\n3. Artery injury with distal ischemia\\nContamination\\n1. None or minimal contamination2. Surface contamination (easily removed; not embedded in bone or deep soft tissues)\\n3a. Imbedded in bone or deep soft tissues\\n3b. High-risk environmental conditions (eg, barnyard, fecal, dirty water)\\nBone loss\\n1. None\\n2. Bone missing or devascularized but still some contact between proximal and distal\\nfragments\\n3. Segmental bone loss\\nFrom Agel J, Evans AR, Marsh JL, et al. The OTA open fracture classification. J Orthop Trauma\\n2013;27(7):379–84; with permission.Musculoskeletal Trauma 1123'),\n",
       " Document(metadata={'source': 'MSK_trauma.pdf', 'page': 6}, page_content='pain out of proportion, pallor, paresthesia, pulselessness, and paralysis in the setting\\nof a swollen extremity. The extremity often feels tight and the soft tissues are lesscompressible than the contralateral limb. ACS remains a clinical diagnosis; however,\\ntools to measure intramuscular pressure and tissue oxygenation can be used to\\nconfirm the clinical diagnosis, which can be extremely useful in making the diagnosisin the obtunded patient. When obtaining intramuscular pressure measurements, a dif-\\nference of less than 30 mm Hg from the diastolic blood pressure is concerning for\\nACS. Once ACS is diagnosed, emergent fasciotomies are performed to relieve thepressure and prevent further myoneural ischemia.\\nVascular Injury\\nA vascular injury should be suspected if the injured extremity shows signs of pallor,reduced temperature, prolonged capillary refill, and reduced pulses. Before further ex-\\namination, gross limb length and alignment should be obtained and the limb re-\\nexamined. The ankle-brachial index should be obtained if a vascular injury is sus-pected with a value of 0.90 or lower having a high positive predictive value for an asso-ciated vascular injury.\\n25Re-establishment of the blood supply to the limb is an\\nemergency because muscle necrosis begins to occur within 6 hours of injury. Close\\ncoordination with the vascular surgeon is vital because each surgical plan dependson the other. The sequence of the surgical procedure must be discussed to maximize\\ncare and minimize the ischemia time and risk of further injury to the patient and\\nvascular repair if skeletal stabilization is done after the vascular repair.\\nMajor Joint Dislocations\\nThe close proximity and tethering of neurovascular structures to joints places them atsignificant risk of injury in joint dislocation. Localized soft-tissue swelling, distal ex-tremity edema, abnormal neurology or the signs of vascular compromise are all\\nmarkers for a high index of suspicion of a major joint dislocation. Expedient joint relo-\\ncation and stabilization in a splint or traction may be necessary. Unlike most disloca-tions, a hip dislocation is considered an orthopedic emergency and should be reducedimmediately on recognition because an increased time to reduction is associated with\\nsubsequent development of avascular necrosis.\\n26\\nSCORING SYSTEMS: ARE THEY RELIABLE?\\nThe decision to perform limb salvage or an amputation remains difficult. Scoring sys-tems, such as the Mangled Extremity Severity Score (MESS)\\n27and Limb Salvage In-\\ndex (LSI),28have been developed to help guide surgeons in their decision-making\\nprocess. However, the decision to salvage or amputate a limb often requires more fac-\\ntors to be considered than those commonly used in the scoring systems. As a result,\\ntheir utility came into question and, in 2001, Bosse and colleagues29found that, out of\\nall scoring systems evaluated, the MESS; the LSI; the Predictive Salvage Index; theNerve Injury, Ischemia, Soft-Tissue Injury, Skeletal Injury, Shock, and Age of Patient\\nScore; and the Hannover Fracture scale-98, none were able to predict the need for\\namputation in a large, multicenter prospective observational study. In 2008, Ly andcolleagues\\n30followed the same set of patients and found that the same scoring sys-\\ntems also lacked the ability to predict outcome and patient recovery following high-\\nenergy lower extremity trauma. Scoring systems also do not seem to have utilitywhen treating severe combat injuries, as demonstrated by Sheean and colleagues.\\n31\\nOther clinical examination findings have been considered in the decision-making\\nprocess, such as the presence of plantar sensation on presentation. In fact, theStinner & Edwards 1124'),\n",
       " Document(metadata={'source': 'MSK_trauma.pdf', 'page': 7}, page_content='absence of plantar sensation has historically been a primary reason for orthopedic and\\ngeneral surgeons to consider acute amputation.32However, an analysis performed by\\nBosse and colleagues33of subjects presenting without plantar sensation compared\\nwith matched controls following high-energy trauma demonstrated no difference in\\noutcomes between groups at 2 years. Therefore, the treating surgeon should use allfactors that are available in helping to make the decision and not hang their hat on\\n1 scoring system or 1 primary clinical examination finding. In addition, when time per-\\nmits, that is, the patient is not in extremis, it is always helpful to confer with colleagues,other members of the trauma team, and, when able, the patient before the decision is\\nmade to amputate or salvage a severely injured extremity because there may be other\\nfactors to consider.\\nWHEN SHOULD IT BE FIXED?\\nOne of the frequent discussions among orthopedic and general surgeons revolvesaround the appropriate timing to stabilize fractures. Although the discussion is often\\nshort and indications for urgent operative stabilization in those with isolated extrem-\\nities is rather clear, the discussion can be longer and may involve multiple servicesin the polytrauma patient because more factors must be considered to ensure thatthe surgical intervention does not increase patient morbidity. Ideally, the right surgery\\nis performed for each patient, personally tailored to their physiologic status. The term\\nused to describe this is the application of early appropriate care (EAC). However, toapply EAC, what constitutes appropriate care must be understood. To do so, it is help-\\nful to understand both sides of the historical argument between early total care (ETC)\\nand damage control orthopedics (DCO), which can be used to selectively provideappropriate care, depending on the patient’s clinical status and response to resusci-\\ntation. Although most research evaluating optimal timing of fracture fixation is\\ncentered on the femur, the principles can be applied to fractures of other long bonesand the pelvic ring.\\nEarly Total Care\\nPatients with unstable fractures of the femur, pelvis, acetabulum, and spine are oftenforced into a recumbent position, which predisposes them to pulmonary complica-\\ntions and prolonged systemic inflammation. Early stabilization of these injuries can\\nlead to improved pain relief and mobility. Several studies have clearly demonstratedthe benefits of ETC. Harvin and colleagues\\n34published their decade of experience\\ncomparing femur fractures definitively stabilized with intramedullary nails before and\\nafter 24 hours. After adjusting for anatomic (Injury Severity Score [ISS]) and physio-logic (Revised Trauma Score) indices, early fracture fixation was independently asso-\\nciated with a reduction in pulmonary complications by nearly 60%. It was also\\nassociated with a reduction in ventilator days, hospital length of stay, and overall hos-pital charges. These results are similar to those demonstrated by Vallier and col-leagues,\\n35who compared definitive fixation of unstable femur, acetabulum, pelvis,\\nand thoracolumbar fractures performed before and after 24 hours. After adjusting\\nfor age and ISS, days in the intensive care unit and total hospital stay were lowerwith early fixation. In addition, there were greater than 10% fewer overall complica-\\ntions (24% vs 35.8%), and lower rates of acute respiratory distress syndrome\\n(ARDS), pneumonia, and sepsis in those undergoing early versus delayed fixation.\\nAs this evidence suggests, early definitive treatment may be safely used for patients\\nwith multiple injuries. However, ETC is not ideal for all patients because there is a clear\\nsubset of patients who benefit from DCO.Musculoskeletal Trauma 1125'),\n",
       " Document(metadata={'source': 'MSK_trauma.pdf', 'page': 8}, page_content='Damage Control Orthopedics\\nAs the pendulum swung toward ETC, it was realized that not all patients did well hav-\\ning their fractures undergo definitive stabilization early. In fact, some types of patientsseemed to do quite poorly with ETC. It became apparent that in certain patients,\\nparticularly those with pulmonary or head injuries, a less aggressive approach to frac-\\nture fixation might be needed. Trauma causes a sustained response of the immunesystem and the early hyperinflammatory response is often followed by a hypoinflam-\\nmatory stage. In the polytrauma patient, extended surgery, which can lead to\\nincreased blood loss, hypothermia, and surgical trauma, can result in an excessive in-flammatory reaction, which has been termed the second hit. In these patients, exten-\\nsive surgical procedures can overwhelm the immune system, which can trigger a\\npulmonary complication, such as ARDS, or multiple organ failure.\\n36\\nOne alternative is delayed fracture care, that is, splinting or traction, of unstable\\nfractures and performing surgical skeletal stabilization days to weeks later. Before\\nthe advent of modern surgical skeletal stabilization techniques, this was the norm.There are, however, significant disadvantages to delayed fracture care. In patientswithout adequate stabilization, in the case of the femur this would usually involve\\nsome form of skeletal traction, patients cannot be mobilized. As a result, they are at\\nan increased risk for pulmonary complications and pressure ulcers. With the advance-ment in surgical skeletal stabilization techniques, there was a shift toward aggressive\\nearly stabilization of extremity fractures but, as alluded to earlier, ETC is not appro-\\npriate for everyone. Thus, the emergence of DCO.\\nDCO involves doing the necessary surgical interventions to stabilize the fracture to\\nminimize excessive blood loss, improve pain, and promote mobilization. This usually in-\\nvolves procedures such as external fixation of long bone fractures or unstable pelvic ringinjuries. Through the placement of external fixation in the acute period, that is, avoidingopen and often lengthy and/or bloody surgical procedures, the second hit is theoretically\\navoided and definitive reconstruction can occur at a later point after the patient’s phys-\\niologic parameters have improved. The benefits of this strategy on the immune systemhave been demonstrated by Pape and colleagues.\\n37In a prospective, randomized, multi-\\ncenter study, 35 polytrauma subjects (ISS >16) with a diaphyseal femur fracture were ran-\\ndomized to either ETC or DCO, and serum inflammatory markers were trended over time.In those with ETC (intramedullary nail), there was a sustained increase in serum inflamma-\\ntory markers, which was not seen in the DCO group following both the initial external fix-\\nation and subsequent conversion to definitive fixation with an intramedullary nail.\\nIn a retrospective study, Harwood and colleagues\\n38compared the Systemic Inflam-\\nmatory Response Syndrome (SIRS) Score and Marshall multiorgan dysfunction score\\nof subjects with femur fractures treated with either ETC or DCO. It was not surprisingthat the DCO group had more severe injuries based on the new ISS, and more headand thoracic injuries. Despite this, they had a smaller, shorter postoperative SIRS and\\ndid not suffer significantly more pronounced organ failure than the ETC group. Interest-\\ningly, those in the DCO group who underwent conversion to an intramedullary nail whentheir SIRS score was raised suffered the most pronounced subsequent inflammatory\\nresponse and organ failure, which emphasizes the impact that the second hit can have\\nand the importance of planning the definitive fixation based on physiologic improvement.\\nEarly Appropriate Care: When to Choose Early Total Care Versus Damage Control\\nOrthopedics\\nWhat is very clear is that stable patients should be treated with ETC, whereas unstable\\npatients should undergo DCO. The challenge has been defining the appropriateStinner & Edwards 1126'),\n",
       " Document(metadata={'source': 'MSK_trauma.pdf', 'page': 9}, page_content='clinical indications to perform DCO or ETC in the borderline patient. Various definitions\\nof the borderline patient have been made to include that by Pape and colleagues,37\\nwho define it by the following: ISS greater than 40, multiple injuries (ISS >20) in com-\\nbination with thorax trauma, multiple injuries in combination with severe abdominal or\\npelvic injury, hemorrhagic shock at the moment of administration, moderate or severehead trauma, radiographic evidence of pulmonary contusion, bilateral femur fractures,\\nor a body temperature below 35\\n/C14C.36D’Alleyrand and O’Toole39have proposed 3\\ncommon indicators for DCO of borderline patients that they use at the R. Adams Cow-ley Shock Trauma Center in Baltimore, MD: (1) closed head injury, (2) poor response to\\nresuscitation in the first 12 hours, and (3) poor respiratory status at the time of fracture\\ntreatment.\\nIt is helpful to know where these indications have come from and what defines an\\nappropriate response to resuscitation to safely apply them. One increasingly used\\nmethod of assessing response to resuscitation is trending lactate levels. In patients\\nundergoing definitive fixation of a femur fracture with an intramedullary nail within24 hours of injury, admission lactate is significantly associated with pulmonary com-\\nplications when other factors such as age, Glasgow Coma Scale, and AIS were\\ncontrolled. However, preoperative lactate was not found to be a risk factor.\\n40A me-\\ndian preoperative lactate of 2.8 mmol/L was not associated with increased pulmonary\\ncomplications, as opposed to previous publications.41These results are similar to\\nthose seen by Vallier and colleagues35,42in which admission lactate, in addition to\\nthe severity of the abdominal and thoracic injuries, contribute most to the develop-\\nment of pulmonary morbidity. It is likely that the trend in lactate, that is, a lactate level\\nimproving and approaching 2.5 mmol/L, demonstrates an adequate response toresuscitation and, therefore, can lead to safe application of ETC. On the contrary, inthose with closed head injuries, severe abdominal, or severe thoracic injuries, DCO\\nshould be considered.\\nThis was also demonstrated in a review by Vallier and colleagues\\n42of subjects with\\npelvis, acetabulum, spine, and/or proximal or diaphyseal femur fractures treated sur-\\ngically. Pulmonary complications occurred in 12% of subjects with 8.2% developing\\npneumonia. Lactate levels were greater with pulmonary complications and were thesingle most specific predictor of complications. An uncomplicated course was asso-\\nciated with absence of a chest injury and definitive fixation within 24 or 48 hours. The\\ninvestigators concluded that complications can be minimized when isolated fracturesare treated on early and, when patients have injuries to other body systems and/or se-vere hemorrhage, DCO may be advisable to optimize outcomes.\\nIn summary, if the patient demonstrates any physiologic signs of end-organ hypo-\\nperfusion, DCO should be pursued. It is also important for the orthopedic surgeon tocommunicate with both the general surgeon and the anesthetist so that care is opti-\\nmized. This allows the treatment plan to be altered in an effort to optimize the patient’s\\noutcomes if the patient’s physiologic parameters change throughout the resuscitationprocess or surgical procedure.\\nSUMMARY\\nSevere extremity injuries are not only a challenge to treat but doing so results in high\\nresource utilization and often high levels of levels of disability.3,43The decision to pur-\\nsue DCO versus ETC may lead to a shorter hospital stay and fewer complications, butthere is likely more that surgeons can do optimize patient outcomes throughout the\\nentire care continuum beyond the decisions made or actions taken within the first\\nfew hours following injury. The best available data comparing outcomes of limbMusculoskeletal Trauma 1127'),\n",
       " Document(metadata={'source': 'MSK_trauma.pdf', 'page': 10}, page_content='salvage and amputees from the Lower Extremity Assessment Project (LEAP) Study\\nGroup found no difference in outcomes between groups at both 2 and 7 years.They did, however, identify several predictors of poor outcome, regardless of group,\\nto include a poor social support network and low self-efficacy.\\n3,44This concept of self-\\nefficacy and social support network is something that many orthopedic surgeons havenot paid much attention to in the past. Multiple studies have highlighted the impor-\\ntance of various factors in a patient’s overall recovery process, such as access to\\nvocational and mental health support.\\n45In addition, certain psychological factors\\nplay a significant role in predicting pain following trauma.46,47It is important that ortho-\\npedic surgeons and members of the trauma team take their level of care a step further\\nbeyond saving life and limb, and take these factors into consideration when attempt-ing to optimize patient outcomes.\\nREFERENCES\\n1. WISQARS (Web-based Injury Statistics Query and Reporting System), Injury\\nCenter, CDC. Available at: https://www.cdc.gov/injury/wisqars/index.html . Ac-\\ncessed March 2, 2017.\\n2.Miller TR, Pindus NM, Douglass JB, et al. Databook on nonfatal injury: incidence,\\ncosts, and consequences. Washington, DC: Urban Institute Press; 1995 .\\n3.MacKenzie EJ, Bosse MJ, Pollak AN, et al. Long-term persistence of disability\\nfollowing severe lower-limb trauma. Results of a seven-year follow-up. J Bone\\nJoint Surg Am 2005;87(8):1801–9 .\\n4.Mackenzie EJ, Rivara FP, Jurkovich GJ, et al. The impact of trauma-center care\\non functional outcomes following major lower-limb trauma. J Bone Joint SurgAm 2008;90(1):101–9 .\\n5.Morshed S, Knops S, Jurkovich GJ, et al. The impact of trauma-center care on\\nmortality and function following pelvic ring and acetabular injuries. J Bone Joint\\nSurg Am 2015;97(4):265–72 .\\n6.Sielatycki JA, Sawyer JR, Mir HR. Supply and demand analysis of the orthopae-\\ndic trauma surgeon workforce in the United States. J Orthop Trauma 2016;30(5):278–83 .\\n7. American College of Surgeons Committee on Trauma. Statement on trauma cen-\\nter designation based upon system need. Bull Am Coll Surg 2015;100(1):51–2.\\nAvailable at: http://www.ncbi.nlm.nih.gov/pubmed/25626271 . Accessed March\\n2, 2017.\\n8. Stinner DJ, Johnson AE, Pollak A, et al. “Zero preventable deaths and minimizing\\ndisability” – the challenge set forth by the national academies of sciences, engi-\\nneering, and medicine. J Orthop Trauma 2017. http://dx.doi.org/10.1097/BOT.\\n0000000000000806 .\\n9. Trunkey DD. Trauma. Accidental and intentional injuries account for more years of\\nlife lost in the U.S. than cancer and heart disease. Among the prescribed rem-edies are improved preventive efforts, speedier surgery and further research.\\nSci Am 1983;249(2):28–35. Available at: http://www.ncbi.nlm.nih.gov/pubmed/\\n6623052 . Accessed March 2, 2017.\\n10. Baue AE. Multiple, progressive, or sequential systems failure. A syndrome of the\\n1970s. Arch Surg 1975;110(7):779–81. Available at: http://www.ncbi.nlm.nih.gov/\\npubmed/1079720 . Accessed March 2, 2017.\\n11.Giannakopoulos GF, Saltzherr TP , Beenen LFM, et al. Missed injuries during the\\ninitial assessment in a cohort of 1124 level-1 trauma patients. Injury 2012;43(9):\\n1517–21 .Stinner & Edwards 1128'),\n",
       " Document(metadata={'source': 'MSK_trauma.pdf', 'page': 11}, page_content='12.Huber-Wagner S, Lefering R, Qvick L-M, et al. Effect of whole-body CT during\\ntrauma resuscitation on survival: a retrospective, multicentre study. Lancet2009;373(9673):1455–61 .\\n13. Brodie S, Hodgetts TJ, Ollerton J, et al. Tourniquet use in combat trauma: UK mil-\\nitary experience. J R Army Med Corps 2007;153(4):310–3. Available at: http://\\nwww.ncbi.nlm.nih.gov/pubmed/18619170 . Accessed March 2, 2017.\\n14.Kragh JF , Walters TJ, Baer DG, et al. Survival with emergency tourniquet use to\\nstop bleeding in major limb trauma. Ann Surg 2009;249(1):1–7 .\\n15. Gustilo RB, Anderson JT. Prevention of infection in the treatment of one thousand\\nand twenty-five open fractures of long bones: retrospective and prospective an-\\nalyses. J Bone Joint Surg Am 1976;58(4):453–8. Available at: http://www.ncbi.\\nnlm.nih.gov/pubmed/773941 . Accessed March 2, 2017.\\n16.Agel J, Evans AR, Marsh JL, et al. The OTA open fracture classification. J Orthop\\nTrauma 2013;27(7):379–84 .\\n17.Lack WD, Karunakar MA, Angerame MR, et al. Type III open tibia fractures.\\nJ Orthop Trauma 2014;29(1):1 .\\n18.Murray CK, Obremskey WT, Hsu JR, et al. Prevention of infections associated with\\ncombat-related extremity injuries. J Trauma 2011;71(2 Suppl 2):S235–57 .\\n19.D’Alleyrand J-CG, Manson TT, Dancy L, et al. Is time to flap coverage of open\\ntibial fractures an independent predictor of flap-related complications?J Orthop Trauma 2014;28(5):288–93 .\\n20. Powers WF, Hensley CD. Circulating blood volume changes incident to major or-\\nthopedic surgery. J Am Med Assoc 1959;169(6):545–7. Available at: http://www.\\nncbi.nlm.nih.gov/pubmed/13620501 . Accessed March 2, 2017.\\n21. Clarke R, Topley E, Flear CT. Assessment of blood-loss in civilian trauma. Lancet\\n1955;268(6865):629–38. Available at: http://www.ncbi.nlm.nih.gov/pubmed/\\n14354953 . Accessed March 2, 2017.\\n22. Lieurance R, Benjamin JB, Rappaport WD. Blood loss and transfusion in patients\\nwith isolated femur fractures. J Orthop Trauma 1992;6(2):175–9. Available at:\\nhttp://www.ncbi.nlm.nih.gov/pubmed/1602337 . Accessed March 2, 2017.\\n23.Even JL, Richards JE, Crosby CG, et al. Preoperative skeletal versus cutaneous\\ntraction for femoral shaft fractures treated within 24 hours. J Orthop Trauma 2012;\\n26(10):e177–82 .\\n24.Giannoudis PV, Grotz MRW, Tzioupis C, et al. Prevalence of pelvic fractures,\\nassociated injuries, and mortality: the United Kingdom perspective. J Trauma\\n2007;63(4):875–83 .\\n25. Mills WJ, Barei DP, McNair P . The value of the ankle-brachial index for diagnosing\\narterial injury after knee dislocation: a prospective study. J Trauma 2004;56(6):\\n1261–5. Available at: http://www.ncbi.nlm.nih.gov/pubmed/15211135 . Accessed\\nMarch 2, 2017.\\n26.Sahin V , Karakas E, Aksu S, et al. Traumatic dislocation and fracture-dislocation of\\nthe hip: a long-term follow-up study. J Trauma 2003;54(3):520–9 .\\n27. Johansen K, Daines M, Howey T, et al. Objective criteria accurately predict\\namputation following lower extremity trauma. J Trauma 1990;30(5):568–72 [dis-\\ncussion: 572–3]. Available at: http://www.ncbi.nlm.nih.gov/pubmed/2342140 . Ac-\\ncessed March 2, 2017.\\n28. Russell WL, Sailors DM, Whittle TB, et al. Limb salvage versus traumatic amputa-\\ntion. A decision based on a seven-part predictive index. Ann Surg 1991;213(5):\\n473–80 [discussion: 480–1]. Available at: http://www.ncbi.nlm.nih.gov/pubmed/\\n2025068 . Accessed March 2, 2017.Musculoskeletal Trauma 1129'),\n",
       " Document(metadata={'source': 'MSK_trauma.pdf', 'page': 12}, page_content='29. Bosse MJ, MacKenzie EJ, Kellam JF , et al. A prospective evaluation of the clinical\\nutility of the lower-extremity injury-severity scores. J Bone Joint Surg Am 2001;83-A(1):3–14. Available at: http://www.ncbi.nlm.nih.gov/pubmed/11205855 .\\n30.Ly TV, Travison TG, Castillo RC, et al. Ability of lower-extremity injury severity\\nscores to predict functional outcome after limb salvage. J Bone Joint Surg Am\\n2008;90(8):1738–43 .\\n31.Sheean AJ, Krueger CA, Napierala MA, et al, Skeletal Trauma and Research Con-\\nsortium (STReC). Evaluation of the mangled extremity severity score in combat-\\nrelated type III open tibia fracture. J Orthop Trauma 2014;28(9):523–6 .\\n32. MacKenzie EJ, Bosse MJ, Kellam JF, et al. Factors influencing the decision to\\namputate or reconstruct after high-energy lower extremity trauma. J Trauma2002;52(4):641–9. Available at: http://www.ncbi.nlm.nih.gov/pubmed/11956376 .\\nAccessed March 2, 2017.\\n33.Bosse MJ, McCarthy ML, Jones AL, et al. The insensate foot following severe\\nlower extremity trauma: an indication for amputation? J Bone Joint Surg Am\\n2005;87(12):2601–8 .\\n34.Harvin JA, Harvin WH, Camp E, et al. Early femur fracture fixation is associated\\nwith a reduction in pulmonary complications and hospital charges: a decade ofexperience with 1,376 diaphyseal femur fractures. J Trauma Acute Care Surg\\n2012;73(6):1442–8 .\\n35.Vallier HA, Super DM, Moore TA, et al. Do patients with multiple system injury\\nbenefit from early fixation of unstable axial fractures? The effects of timing of sur-\\ngery on initial hospital course. J Orthop Trauma 2013;27(7):405–12 .\\n36.Lichte P, Kobbe P , Dombroski D, et al. Damage control orthopedics: current ev-\\nidence. Curr Opin Crit Care 2012;18(6):647–50 .\\n37.Pape HC, Grimme K, van Griensven M, et al, EPOFF Study Group. Impact of in-\\ntramedullary instrumentation versus damage control for femoral fractures on im-munoinflammatory parameters: prospective randomized analysis by the EPOFFStudy Group. J Trauma 2003;55(1):7–13 .\\n38.Harwood PJ, Giannoudis PV , van Griensven M, et al. Alterations in the systemic\\ninflammatory response after early total care and damage control procedures\\nfor femoral shaft fracture in severely injured patients. J Trauma 2005;58(3):\\n446–52 .\\n39.D’Alleyrand JCG, O’Toole RV . The evolution of damage control orthopedics. Cur-\\nrent evidence and practical applications of early appropriate care. Orthop ClinNorth Am 2013;44(4):499–507 .\\n40.Richards JE, Matuszewski PE, Griffin SM, et al. The role of elevated lactate as a\\nrisk factor for pulmonary morbidity after early fixation of femoral shaft fractures.\\nJ Orthop Trauma 2016;30(6):312–8 .\\n41. Crowl AC, Young JS, Kahler DM, et al. Occult hypoperfusion is associated with\\nincreased morbidity in patients undergoing early femur fracture fixation.\\nJ Trauma 2000;48(2):260–7. Available at: http://www.ncbi.nlm.nih.gov/pubmed/\\n10697084 . Accessed March 2, 2017.\\n42.Vallier HA, Wang X, Moore TA, et al. Timing of orthopaedic surgery in multiple\\ntrauma patients: development of a protocol for early appropriate care. J Orthop\\nTrauma 2013;27(10):543–51 .\\n43.Masini BD, Waterman SM, Wenke JC, et al. Resource utilization and disability\\noutcome assessment of combat casualties from operation Iraqi freedom and\\noperation enduring freedom. J Orthop Trauma 2009;23(4):261–6 .Stinner & Edwards 1130'),\n",
       " Document(metadata={'source': 'MSK_trauma.pdf', 'page': 13}, page_content='44.Bosse MJ, MacKenzie EJ, Kellam JF , et al. An analysis of outcomes of reconstruc-\\ntion or amputation after leg-threatening injuries. N Engl J Med 2002;347(24):1924–31 .\\n45.Archer KR, Castillo RC, MacKenzie EJ, et al, LEAP Study Group. Perceived need\\nand unmet need for vocational, mental health, and other support services aftersevere lower-extremity trauma. Arch Phys Med Rehabil 2010;91(5):774–80 .\\n46.Vranceanu A-M, Bachoura A, Weening A, et al. Psychological factors predict\\ndisability and pain intensity after skeletal trauma. J Bone Joint Surg Am 2014;96(3):e20 .\\n47.Castillo RC, Wegener ST, Heins SE, et al. Longitudinal relationships between anx-\\niety, depression, and pain: results from a two-year cohort study of lower extremitytrauma patients. Pain 2013;154(12):2860–6 .Musculoskeletal Trauma 1131\\nView publication stats')]"
      ]
     },
     "execution_count": 4,
     "metadata": {},
     "output_type": "execute_result"
    }
   ],
   "source": [
    "#reading a pdf file \n",
    "from langchain_community.document_loaders import PyPDFLoader\n",
    "loader = PyPDFLoader('MSK_trauma.pdf')\n",
    "docs = loader.load()\n",
    "docs"
   ]
  },
  {
   "cell_type": "code",
   "execution_count": 5,
   "metadata": {},
   "outputs": [
    {
     "data": {
      "text/plain": [
       "langchain_core.documents.base.Document"
      ]
     },
     "execution_count": 5,
     "metadata": {},
     "output_type": "execute_result"
    }
   ],
   "source": [
    "type(docs[0])"
   ]
  },
  {
   "cell_type": "code",
   "execution_count": 6,
   "metadata": {},
   "outputs": [
    {
     "name": "stderr",
     "output_type": "stream",
     "text": [
      "USER_AGENT environment variable not set, consider setting it to identify your requests.\n"
     ]
    }
   ],
   "source": [
    "#web absed\n",
    "from langchain_community.document_loaders import WebBaseLoader\n",
    "import bs4\n",
    "loader = WebBaseLoader(web_path=(\"https://developer.nvidia.com/blog/nvidia-gh200-superchip-accelerates-inference-by-2x-in-multiturn-interactions-with-llama-models/\",),\n",
    "                       bs_kwargs=dict(parse_only=bs4.SoupStrainer(\n",
    "                           class_=(\"entry-content\")\n",
    "                       ))\n",
    "                       )"
   ]
  },
  {
   "cell_type": "code",
   "execution_count": 7,
   "metadata": {},
   "outputs": [
    {
     "data": {
      "text/plain": [
       "[Document(metadata={'source': 'https://developer.nvidia.com/blog/nvidia-gh200-superchip-accelerates-inference-by-2x-in-multiturn-interactions-with-llama-models/'}, page_content='\\nDeploying large language models (LLMs) in production environments often requires making hard trade-offs between enhancing user interactivity and increasing system throughput. While enhancing user interactivity requires minimizing time to first token (TTFT), increasing throughput requires increasing tokens per second. Improving one aspect often results in the decline of the other, making it difficult for data centers, cloud service providers (CSPs), and AI application providers to find the right balance.\\xa0\\nLeveraging the NVIDIA GH200 Grace Hopper Superchip can minimize these tradeoffs. This post explores how IT leaders and infrastructure decision makers can harness the converged memory architecture of NVIDIA GH200 Grace Hopper Superchip to boost TTFT in multiturn user interactions by up to 2x on the popular Llama 3 70B model, compared to x86-based NVIDIA H100 servers, without any tradeoffs to system throughput.\\nKey-value cache offloading\\nLLM models are rapidly gaining adoption across various use cases, including question answering, summarization, and code generation. Before responding to a user’s prompt, these models must build a contextual understanding of the input sequence and any additional information retrieved during the inference request, such as in the case of retrieval-augmented generation (RAG).\\xa0\\nThis process involves converting the user’s prompt to tokens, and then to highly dense vectors, followed by extensive dot product operations to build a mathematical representation of the relationship between all the token’s in the prompt. The operations are repeated across the different layers of the model. The amount of compute required to generate the contextual understanding of the prompt scales quadratically with the size of the input sequence length.\\nThis compute-intensive process, which generates the key-value cache, or KV cache, is only required during the generation of the first token of the output sequence. Those values are then stored for later reuse when subsequent output tokens are generated, with new values appended as required. This dramatically reduces the amount of compute required to generate new tokens and, ultimately, the time it takes for the LLM to generate an output, improving the user experience.\\xa0\\nReusing a KV cache avoids the need to recompute it from scratch, reducing inference time and compute resources. However, in situations where user interaction with an LLM-based service is intermittent or if multiple LLM users need to interact with the same KV cache but at different times, storing the KV cache in GPU memory for long periods can waste valuable resources that could be better allocated to handle new incoming user requests, reducing overall system throughput.\\xa0\\nTo address this challenge, the KV cache can be offloaded from GPU memory to higher capacity and lower cost CPU memory, and then reloaded back to GPU memory once idle users resume their activity or new users interact with the same piece of content. This method, known as KV cache offloading, eliminates the need to recompute the KV cache without holding up valuable GPU memory.\\xa0\\nAddressing challenges of multiturn user interactions\\nKV cache offloading benefits content providers integrating generative AI capabilities into their platforms by enabling multiple users to interact with the same content—like summarizing a news article—without recalculating the KV cache for each new user. By computing the KV cache for the news article once, caching it in CPU memory, and then reusing it across multiple users, significant cost and user experience optimizations can be achieved.\\xa0\\nThis technique is also useful during code generation use cases, particularly in integrated development environments (IDEs) that have incorporated LLM capabilities. In this scenario, one or more developers can submit multiple prompts interacting with a single code script over extended periods of time. Offloading the initial KV cache calculations onto CPU memory and then reloading it for subsequent interactions avoids repeated recalculations and saves valuable GPU and infrastructure resources. Check out the NVIDIA TensorRT-LLM documentation for a detailed how-to guide on offloading and reusing the KV cache.\\nFor the Llama 3 70B model running on a server with NVIDIA H100 Tensor Core GPUs connected through PCIe to an x86 host processor, KV cache offloading can accelerate TTFT by up to 14x. This makes it a compelling deployment strategy for data centers, CSPs, and application providers seeking to serve LLMs cost effectively while maintaining positive user experiences.\\nFigure 1. In multiturn interactions, KV cache offloading for the Llama 3 70B model running on an NVIDIA H100 x86 GPU accelerates TTFT by up to 14x for large input sequence lengths compared to recalculating it from scratch\\nAccelerating KV cache offloading with NVIDIA GH200 converged CPU-GPU memory\\nIn traditional x86-based GPU servers, the KV cache offloading occurs over the 128 GB/s PCIe connection. For large batch sizes that include multiple multiturn user prompts, the slow PCIe interface can hamper performance, pushing TTFT above the 300 ms – 500 ms threshold typically associated with a realtime user experience.\\xa0\\nThe NVIDIA GH200 Grace Hopper Superchip overcomes the challenges of low speed PCIe interfaces. NVIDIA GH200 is a new class of superchip that brings together the Arm-based NVIDIA Grace CPU and NVIDIA Hopper GPU architectures using NVLink-C2C interconnect technology. NVLink-C2C delivers up to 900 GB/s total bandwidth between the CPU and the GPU. This is 7x higher bandwidth than the standard PCIe Gen5 lanes found in traditional x86-based GPU servers. Additionally, with GH200, the CPU and GPU share a single per-process page table, enabling all CPU and GPU threads to access all system-allocated memory that can reside on physical CPU or GPU memory.\\xa0\\nFigure 2. NVIDIA Grace Hopper architecture that leverages the 900 GB/s NVLink-C2C overcomes PCIe bottlenecks\\nOffloading KV cache for the Llama 3 70B model on GH200 delivers up to 2x more speedup for TTFT compared to offloading on x86-H100 in multiturn scenarios. This enables organizations deploying LLMs for where multiturn user interactions are frequent to increase user interactivity without any tradeoffs to overall system throughput.\\xa0\\nFigure 3. As a result of the 900 GB/s NVLink-C2C that connects the NVIDIA Grace CPU with the NVIDIA H200 GPU, offloading the KV cache for the Llama 3 70B model on a GH200 Superchip accelerates TTFT by up to 2x compared to on an x86-H100 GPU\\xa0\\nSuperior inference on Llama 3 with NVIDIA Grace Hopper and NVLink-C2C\\xa0\\nKV cache offloading is gaining traction among CSPs, data centers, and AI application providers due to its ability to improve TTFT in multiturn user interactions without degrading overall system throughput. By leveraging the 900 GB/s NVLink-C2C on the NVIDIA GH200 Superchip, inference on the popular Llama 3 model can be accelerated by up to 2x without any degradation to the system throughput. This enables organizations to improve user experience without additional infrastructure investments.\\nToday, NVIDIA GH200 powers nine supercomputers around the world, is offered by a wide array of system makers, and can be accessed on demand at cloud providers such as Vultr, Lambda, and CoreWeave. You can test NVIDIA GH200 for free through NVIDIA LaunchPad.\\n')]"
      ]
     },
     "execution_count": 7,
     "metadata": {},
     "output_type": "execute_result"
    }
   ],
   "source": [
    "loader.load()"
   ]
  },
  {
   "cell_type": "code",
   "execution_count": 8,
   "metadata": {},
   "outputs": [
    {
     "data": {
      "text/plain": [
       "1"
      ]
     },
     "execution_count": 8,
     "metadata": {},
     "output_type": "execute_result"
    }
   ],
   "source": [
    "from langchain_community.document_loaders import ArxivLoader\n",
    "docs = ArxivLoader(query=\"1605.08386\",load_max_docs=2).load()\n",
    "len(docs)"
   ]
  },
  {
   "cell_type": "code",
   "execution_count": 9,
   "metadata": {},
   "outputs": [
    {
     "name": "stdout",
     "output_type": "stream",
     "text": [
      "[Document(metadata={'title': 'Skibidi Toilet', 'summary': 'Skibidi Toilet is a machinima web series created by  Alexey Gerasimov and released through YouTube videos and shorts on his  channel DaFuq!?Boom!. Produced using Source Filmmaker, the series follows a fictional war between human-headed toilets and humanoid characters with electronic devices for heads. \\nSince the first short was posted in February 2023, Skibidi Toilet has become viral as an internet meme across various social media platforms, particularly among Generation Alpha. Many commentators saw their embrace of the series as Generation Alpha\\'s first development of a unique internet culture. The show has a wide range of licensed products, and Gerasimov is \"in talks\" with Adam Goodman and Michael Bay for a movie and television series adaptation.', 'source': 'https://en.wikipedia.org/wiki/Skibidi_Toilet'}, page_content='Skibidi Toilet is a machinima web series created by  Alexey Gerasimov and released through YouTube videos and shorts on his  channel DaFuq!?Boom!. Produced using Source Filmmaker, the series follows a fictional war between human-headed toilets and humanoid characters with electronic devices for heads. \\nSince the first short was posted in February 2023, Skibidi Toilet has become viral as an internet meme across various social media platforms, particularly among Generation Alpha. Many commentators saw their embrace of the series as Generation Alpha\\'s first development of a unique internet culture. The show has a wide range of licensed products, and Gerasimov is \"in talks\" with Adam Goodman and Michael Bay for a movie and television series adaptation.\\n\\n\\n== Plot ==\\nThe series depicts a conflict between singing human-headed toilets—the titular \"Skibidi Toilets\"—and humanoids with CCTV cameras, speakers, and televisions in place of their heads. The Skibidi Toilets, led by \"G-Toilet\", overtake humanity. Warfare soon develops between the toilets and the alliance of Cameramen and Speakermen. Each kind of the alliance has a colossal version of themselves, termed \"Titans\". The Titan Speakerman is infected with a mind-control parasite developed by the toilets\\' second-in-command and chief strategist, \"Scientist Toilet\", causing the Titan Speakerman to turn on the alliance. The alliance is expanded to include a  species of TV-headed humanoids, and, with their help, Titan Speakerman is eventually cured.  \\nAs the military of both sides continue to advance technologically, the Titans attempt to hunt down G-Toilet. Though their combined powers are occasionally a match for his abilities, intervention by his legions each time allow him to escape. After a strike mission on the toilets\\' secret underground laboratory, the Scientist Toilet is finally defeated, but only one member of the team survives, a Cameraman called Plungerman. Having met a mysterious human seemingly involved in the creation of the toilets, the Plungerman is assassinated as a loose end. Meanwhile, fractures between the Skibidi Toilets and the \"Astro Toilets\", a mysterious splinter faction of powerful extraterrestrial toilets, erupt into violence, and the alliance and Skibidi Toilets enter into a makeshift alliance against their common enemy.\\n\\n\\n== Characteristics ==\\nThe show contains references to video games, such as G-Toilet having the face of the G-Man, a character from the Half-Life video game series. The Speakermen\\'s oft-performed dances are from the battle royale game Fortnite. Business Insider described the series as \"an endless arms race as both the toilets and their foes [produce] stronger fighters\".  Technology website Wired credited the largely dialogue-free nature of the show for removing language barriers and aiding in the show\\'s global popularity.\\n\\n\\n== History ==\\n\\nSkibidi Toilet is produced by Alexey Gerasimov (Russian: Алексей Герасимов, born 1997 or 1998), who is also known by his alias \"Blugray\", or the name of his YouTube channel, \"DaFuq!?Boom!\" Since 2014, he has been learning animation on his own. He lives in the country of Georgia, though according to IrishStar.com, he is originally from Russia and only moved to Georgia in 2019. His channel has seen prior hits; his video I\\'M AT DIP accumulated over 45 million views by July 2023, for example.\\nThe first episode was released on 7 February 2023 (UTC), with an 11-second runtime. The video, entitled \"skibidi toilet\", depicts a toilet with a man\\'s head coming out of it singing a song which prominently features the word \"skibidi\". Every episode is produced using Source Filmmaker, a free Valve-published 3D computer graphics software, often used to create and edit clips and movies online. Some assets used in the series are taken from video games such as Half-Life 2 and Counter-Strike: Source. The Skibidi Toilet in the first episode, for example, features the head model of a Civilian (Male_07) from Half-Life 2 (pictured '), Document(metadata={'title': 'Toilet humour', 'summary': 'Toilet humour, potty humour or scatological humour (compare scatology), is a type of off-colour humour dealing with defecation (including diarrhea and constipation), urination and flatulence, and to a lesser extent vomiting and other bodily functions. \\nToilet humour is commonly an interest of toddlers and young children, for whom cultural taboos related to acknowledgement of waste excretion still have a degree of novelty. The humour comes from the rejection of such taboos, and is a part of modern culture.', 'source': 'https://en.wikipedia.org/wiki/Toilet_humour'}, page_content='Toilet humour, potty humour or scatological humour (compare scatology), is a type of off-colour humour dealing with defecation (including diarrhea and constipation), urination and flatulence, and to a lesser extent vomiting and other bodily functions. \\nToilet humour is commonly an interest of toddlers and young children, for whom cultural taboos related to acknowledgement of waste excretion still have a degree of novelty. The humour comes from the rejection of such taboos, and is a part of modern culture.\\n\\n\\n== Music ==\\nToilet humour is sometimes found in song and rhyme, particularly schoolboy songs. Examples of this are found in Mozart and scatology, and variants of the German folk schoolboys\\' song known as the Scheiße-Lied (English: \"Shit-Song\") which is indexed in the German Volksliederarchiv. A children\\'s Spanish musical duo, Enrique y Ana, made a song called \"Caca Culo Pedo Pis\", which literally translates to \"Poop Butt Fart Pee\".\\nAmerican musician Matt Farley is known for writing and performing a multitude of songs related to urine, feces, vomit and various other bodily fluids under the pseudonym The Toilet Bowl Cleaners, including one of his most popular songs, entitled \"Poop in My Fingernails\". Farley has another pseudonym, The Odd Man Who Sings About Poop, Puke, and Pee. Many of his songs are just a person\\'s name alternating with the word \"poop\". Other songs include \"I Need a Lot of Toilet Paper to Clean the Poop in My Butt\".\\nDetroit rapper Eminem famously utilises crude humour throughout his discography. His most notorious example of toilet humour was featured on the 2017 album Revival, where he raps \"Your booty is heavy duty, like diarrhea\", a line which received extensive lament from critics. The Los Angeles Times comments: \"If Hannibal Lecter could have recorded a rap album, this would have been it. Brilliant, sinister, scatological and a parent\\'s nightmare.\"\\n\\n\\n== Performance ==\\nPaul Oldfield, who performed under the name Mr. Methane, performed a stage act that included him farting the notes of music. Joseph Pujol, who performed under the name Le Pétomane (French for \"fart maniac\"), performed a similar stage act for the Paris music hall scene.\\nThe American comedy duo Tim & Eric have made numerous comedy sketches based around toilet humour. For example, they have made fake commercials for non-existent products such as the \"Poop Tube\" (a device that lets people release liquefied faecal matter into a urinal while standing up), the \"fla\\'Hat\" (a hat that is connected to the wearer\\'s anus which expands when storing flatulence), and \"D-Pants\" (an undergarment invented by \"Diah Riha-Jones\" that captures \"uncontrollable diarrhea\").\\nIn the series South Park, the Canadian comedy duo Terrance and Phillip are noted for toilet humor and often make comedic use of their flatulence e.g. in the song ‘Unclefucker’.\\nEnglish actor Adrian Edmondson, who appeared in many shows utilising toilet humour, is quoted as saying, \"Toilet humour is like jazz: everybody has an idea what it is, and most people don\\'t like it. But the people who do like it are fervent about it and like it until they die.\"\\n\\n\\n== Books ==\\nIn 1929 comedian Charles \"Chic\" Sale published a small book, The Specialist, which was a large \"underground\" success. Its entire premise centered on sales of outhouses, touting the advantages of one kind or another, and labeling them in \"technical\" terms such as \"one-holers\", \"two-holers\", etc. Over a million copies were sold. In 1931 his monologue \"I\\'m a Specialist\" was made into a hit record (Victor 22859) by  recording artist Frank Crumit (music by Nels Bitterman). As memorialized in the \"Outhouse Wall of Fame\", the term \"Chic Sale\" became a rural slang synonym for privies, an appropriation of Mr. Sale\\'s name that he personally considered unfortunate.\\nMore recently, one of the most popular books about defecation, diarrhea and accidents in toilets is by straight-talking physician Jane Wilson-Howarth, a guide that began as Shitting Pr')]\n"
     ]
    }
   ],
   "source": [
    "from langchain_community.document_loaders import WikipediaLoader\n",
    "docs = WikipediaLoader(query=\"skibidi toilet\",load_max_docs=2).load()\n",
    "len(docs)\n",
    "print(docs)"
   ]
  },
  {
   "cell_type": "code",
   "execution_count": 10,
   "metadata": {},
   "outputs": [
    {
     "data": {
      "text/plain": [
       "[Document(metadata={'source': 'MSK_trauma.pdf', 'page': 0}, page_content='See discussions, st ats, and author pr ofiles f or this public ation at : https://www .researchgate.ne t/public ation/320159486\\nSurgical Management of Musculoskeletal T rauma\\nArticle \\xa0\\xa0 in\\xa0\\xa0Surgical Clinics of North Americ a · Oct ober 2017\\nDOI: 10.1016/ j.suc.2017.06.005\\nCITATIONS\\n35READS\\n1,461\\n2 author s:\\nDaniel Stinner\\nVanderbilt Univ ersity\\n132 PUBLICA TIONS \\xa0\\xa0\\xa02,847  CITATIONS \\xa0\\xa0\\xa0\\nSEE PROFILE\\nDafy dd S Edw ards\\nThe R oyal London Hospit al\\n32 PUBLICA TIONS \\xa0\\xa0\\xa0569 CITATIONS \\xa0\\xa0\\xa0\\nSEE PROFILE\\nAll c ontent f ollo wing this p age was uplo aded b y Dafy dd S Edw ards on 01 Dec ember 2017.\\nThe user has r equest ed enhanc ement of the do wnlo aded file.'),\n",
       " Document(metadata={'source': 'MSK_trauma.pdf', 'page': 1}, page_content='Surgical Management of\\nMusculoskeletal Trauma\\nDaniel J. Stinner, MDa,b,*, Dafydd Edwards, FRCS (Tr&Orth)a,c\\nSOCIETAL BURDEN OF EXTREMITY TRAUMA\\nInjuries remain a leading cause of death in people younger the age of 65 years. When\\nconsidering years of potential life lost, it ranks higher than malignant neoplasms, heartdisease, and cerebrovascular disease. However, deaths are truly just the tip of the\\niceberg. For every trauma-related death there are 13 hospital discharges and 140\\nemergency department visits related to injury or trauma.\\n1With advances in automobile\\nsafety and improvements in acute resuscitation strategies, lives are being saved, butthat comes at a cost for both the patient and society. When evaluating societal costs\\ndue to injury, 20% can be attributed to medical and related costs, another 35% are\\ndue to productivity losses due to death, and 45% are due to productivity losses\\nDisclosure: The opinions or assertions contained herein are the private views of the authors and\\nare not to be construed as official or as reflecting the views of the Department of the Army, theDepartment of Defense, or the UK Ministry of Defense.\\naRoyal School of Mines, Centre for Blast Injury Studies, Imperial College London, Prince Con-\\nsort Road, Kensington, London SW7 2BP, UK;bUS Army Institute of Surgical Research, San\\nAntonio, TX, USA;cRoyal Centre for Defence Medicine, Birmingham, UK\\n* Corresponding author. Royal School of Mines, Centre for Blast Injury Studies, Imperial CollegeLondon, Prince Consort Road, Kensington, London SW7 2BP, UK.E-mail address: Daniel.stinner@gmail.comKEYWORDS\\n/C15Extremity trauma /C15Limb salvage /C15Limb reconstruction\\n/C15Damage control orthopedics /C15Early total care /C15Early appropriate care\\nKEY POINTS\\n/C15Extremity injuries account for more than 50% of the total costs to society for nonfatal\\ninjuries.\\n/C15Communication between the orthopedic surgeon, trauma team leader, and other surgical\\nservices is paramount to optimize outcomes.\\n/C15Damage control orthopedics (DCO) is reserved for the physiologically unstable or border-\\nline patient.\\n/C15Early total care (ETC) is often ideal for the management of stable trauma patients with iso-\\nlated extremity injuries.\\n/C15Early appropriate care refers to the decision to apply either DCO or ETC depending on the\\npatient’s physiologic status and response to resuscitation.\\nSurg Clin N Am 97 (2017) 1119–1131\\nhttp://dx.doi.org/10.1016/j.suc.2017.06.005 surgical.theclinics.com\\n0039-6109/17/ ª2017 The Author(s). Published by Elsevier Inc. This is an open access article under\\nthe CC BY-NC-ND license ( http://creativecommons.org/licenses/by-nc-nd/4.0/ ).'),\n",
       " Document(metadata={'source': 'MSK_trauma.pdf', 'page': 2}, page_content='due to disability. When looking specifically at the comprehensive costs on society of\\nnonfatal injuries, upper limb injuries account for 16% and lower limb injuries accountfor 38%, attributing well more than 50% of the total costs on society for nonfatal in-\\njuries to the extremities.\\n2Furthermore, of those working before an injury from a mod-\\nerate to high-energy force with an orthopedic injury with an Abbreviated Injury Scale(AIS) of 3 or more, only 58% have returned to work at 1 year.\\n3This gives orthopedic\\nsurgeons the opportunity to have a significant impact on minimizing this burden by do-\\ning their part to optimize outcomes of those with extremity injuries.\\nNEED FOR A COORDINATED NATIONAL TRAUMA SYSTEM TO OPTIMIZE OUTCOMES\\nHaving an established and optimized trauma system is essential to improve the out-\\ncomes of those who sustain high-energy extremity trauma. Research clearly demon-\\nstrates that those sustaining severe lower-limb injuries benefit from treatment at atrauma center.\\n4,5Interestingly enough, although the total number of trauma centers\\nis increasing throughout the United States, the number of severe orthopedic injuries\\nseen at these centers seems to be decreasing, which ultimately results in less trauma\\nvolume per orthopedic surgeon.6The American College of Surgeons Committee on\\nTrauma has recognized this dilemma and has published a position statement outlining\\nseveral guidelines for the optimization of a regional trauma system, which seeks to\\nbest serve the needs of the injured patient.7In addition, through the establishment\\nof a coordinated National Trauma System, which may be on the horizon in the United\\nStates, outcomes of extremity trauma patients are likely to improve.8\\nTRAUMA-RELATED MORTALITY\\nIn the developed world, trauma is the most common cause of death in those younger\\nthan the age of 44 years and is most commonly due to road traffic accidents. Donald\\nTrunkey9described a predictable trimodal distribution of death in 1983.\\nAcute or Primary Mortality\\nThe casualties that belong in this group are ones that have sustained injuries that are\\nincompatible with life. Typical injuries include severe head injuries, major hemorrhage,high cervical vertebra (C3 and above) and spinal cord injuries, airway obstruction, ormediastinal and cardiac disruption. Casualties often succumb to these injuries within\\nseconds because they are not amenable to medical intervention regardless of the\\ntimeline.\\nSecondary Mortality\\nDeath in the second peak usually occurs within minutes to hours and is potentially pre-ventable by early and appropriate medical intervention. Examples of early or acute in-\\njuries in this group are intracranial hemorrhage, pneumothorax, cardiac tamponade,\\nhemothorax, intra-abdominal hemorrhage, pelvic fracture, or long bone fracture, inparticular femoral fractures. All of these are characterized by the need for early inva-\\nsive medical intervention to stabilize the casualty before physiologic disruption and or-\\ngan failure occurs. For the orthopedic surgeon, interventions include pelvis and longbone stabilization; however, it is important for them to be aware that patients with\\nthese injuries often require significant resuscitation.\\nTertiary Mortality\\nThirty percent of all trauma-related deaths occur within days or weeks following the\\ninjury.10The triggering of multiorgan failure and subsequent death is usually on aStinner & Edwards 1120'),\n",
       " Document(metadata={'source': 'MSK_trauma.pdf', 'page': 3}, page_content='continuum and starts with potentially reversible physiologic dysfunction usually\\ncaused by sepsis or cardiorespiratory failure. This concept of multiple, progressiveor sequential systems failure was first described in 1975 by Baue.\\n10The term multior-\\ngan dysfunction syndrome has been adopted to describe this condition and is char-\\nacterized by the failure of at least 2 organs.\\nThe goal of the orthopedic surgeon is to attempt to prevent secondary or tertiary\\ndeaths and subsequently minimize morbidity related to musculoskeletal injury. Typi-\\ncally, mortality in the secondary peak can be minimized by stabilization of fracturesto the pelvis and long bones. Stabilization of such injuries not only helps with the\\nreduction of blood loss but also deceases the pain stimuli, reducing the analgesia\\nand anesthetic requirement, which can help with the regulation and normalization ofphysiology. Furthermore, stabilization of the long bones can also minimize the riskof pulmonary complications due to fat emboli and inability to mobilize.\\nADVANCED TRAUMA LIFE SUPPORT\\nDuring the primary survey, the orthopedic surgeon can assist in the management ofmusculoskeletal injuries that have a direct impact on the primary survey or injuries\\nthat are diagnosed during primary investigations. Overtly fractured limbs impeding\\nassessment, the fractured pelvis with hemodynamic instability, and open long bonefractures with ongoing hemorrhage are all indications for the early intervention by\\nthe orthopedic surgeon. As the orthopedic surgeon identifies these injuries, they\\nmust stay in continual communication with the trauma team leader because theymay affect resuscitation strategies.\\nRestoring gross length and alignment of fractures and stabilizing long bone and/or\\npelvic ring fractures with splints and/or a pelvic binder can minimize further blood loss,\\nbone and soft tissue trauma, and reduce patient pain and analgesia requirement.However, it should be noted that resuscitation and the primary survey always take pre-\\ncedence over splinting of extremity fractures.\\nOf note, missed extremity injuries, especially in the hand and foot, can occur in more\\nthan 8% of trauma patients, which emphasizes the importance of repeat assess-\\nment.\\n11A low threshold for a high index of suspicion of spinal injuries should also\\nbe considered in an unconscious patient and triple immobilization should be main-tained until formal clinical evaluation is possible. If this is not possible due to a persis-tent unconscious or anesthetized patient, spine-specific imaging, computed\\ntomography (CT), and MRI should be performed before removal of the immobilization.\\nAdjuncts to the secondary survey include further radiographic imaging. It is nowcommonplace to perform a trauma protocol CT scan that may replace the need for\\nother radiographs.\\n12\\nORTHOPEDICS IN THE EMERGENCY DEPARTMENT: EARLY INTERVENTIONS CAN\\nIMPROVE OUTCOMES\\nAlthough the orthopedic surgeon may not be directly involved in the primary survey of\\nthe severely injured patient, their acute management of several conditions can have adramatic effect on the patient’s overall outcome.\\nMajor Hemorrhage\\nThe patient who presents in major hemorrhage is often in extremis. In the setting ofmajor hemorrhage from an extremity injury, the main goal for the orthopedic surgeon\\nis to assist in the so-called Stop the Bleed. This is initially managed by direct pressure,\\nwhether manual or via a pressure bandage. Failure to control hemorrhage throughMusculoskeletal Trauma 1121'),\n",
       " Document(metadata={'source': 'MSK_trauma.pdf', 'page': 4}, page_content='direct pressure should result in tourniquet application.13,14Because tourniquet use is\\nmore common prehospital, a patient may arrive with a tourniquet in place. Cautionshould always be taken when removing a tourniquet and it is advisable to have another\\nready to use proximally on removal or ensure it is removed in a controlled environment\\nto ensure more harm is not inflicted. In the setting of a traumatic amputation, a tour-niquet should be applied if hemorrhage control is needed and then it can be reas-\\nsessed in the operating room.\\nOpen Fractures\\nOpen fractures involve a direct communication of the injured bone with the environ-\\nment and are often the reflection of a high-energy injury. Not only does the potential\\nfor contamination worsen the injury burden but the high energy indicates severe dam-\\nage to the local soft tissues, both leading to wound complications and an increasedpotential for infection. Open fractures are commonly classified by 2 different systems.\\nThe more commonly used Gustilo-Anderson Classification and the newer Orthopaedic\\nTrauma Association’s Open Fracture Classification ( Boxes 1 and2).\\n15,16The most\\nimportant predictor of infection following open fracture seems to be timeliness of anti-\\nbiotic administration, with antibiotics given more than 60 minutes after injury being an\\nindependent risk factor for infection.17Typically, a first-generation cephalosporin is\\nrecommended with additional broader coverage only in certain scenarios.18Surgical\\ndebridement and irrigation should be performed within 24 hours, and ideally sooner\\ndepending on the level of contamination. The type of fixation, which can be either tem-porary or definitive, depends of the level of soft tissue injury and contamination. Whenrequired, wound coverage should be performed within 5 to 7 days.\\n17,19\\nFemur Fractures\\nIn the presence of hemodynamic instability and physiologic parameters that indicatehypovolemic shock, the assessment of circulation and hemorrhage involves the ex-\\namination of the lower extremity for swelling. Even in the context of a closed femoral\\nfracture, blood loss can be as much as 2.2 L.\\n20,21Furthermore, 40% of isolated\\nfemoral fractures require blood transfusion.22In such situations it is advocated that\\nskeletal immobilization of long bone fractures be performed during the primary survey.\\nBox 1\\nGustilo-Anderson open fracture classification\\nType 1\\nWound is /C201 cm with minimal soft tissue injury\\nType 2\\nWound is greater than 1 cm in length, moderate soft tissue injury\\nType 3\\n/C15Extensive soft tissue injury, degloving, or periosteal stripping, but soft tissue closure is\\npossible\\n/C15Extensive soft tissue injury with periosteal stripping, requires flap coverage\\n/C15Associated with an arterial injury requiring repair\\nFrom Gustilo RB, Mendoza RM, Williams DN. Problems in the management of type III (severe)\\nopen fractures: a new classification of type III open fractures. J Trauma 1984;24(8):743.Stinner & Edwards 1122'),\n",
       " Document(metadata={'source': 'MSK_trauma.pdf', 'page': 5}, page_content='The femur can be immobilized with in-line traction bucks or skeletal traction until early\\noperative skeletal stabilization is performed.23\\nPelvic Ring Injuries\\nBecause of the energy needed to create a pelvic ring injury, they are often associated\\nwith hemodynamic instability, head injuries, thoracoabdominal injuries, and long bone\\nfractures. In fact, pelvic fractures resulting in blood loss and hypovolemia have a mor-tality rate between 3% and 20%.\\n24With increasing fracture severity, that is, more pos-\\nterior pelvic disruption, the pelvic venous plexus, and internal iliac vessels are at an\\nincreased risk of injury and subsequent uncontrolled hemorrhage. Fluid resuscitationand hemorrhage control are vital. Many trauma centers have an algorithm based on\\nthe facility’s capabilities to direct management, which involves stabilization of the pel-\\nvic ring injury at a minimum, for example, pelvic binder initially followed by externalfixation.\\nCompartment Syndrome\\nAcute compartment syndrome (ACS) occurs when there is progressive myoneuralischemia due to the accumulation of fluid within a confined myofascial space or pro-longed elevated pressure due to an external source such as a crush injury. ACS is\\nconsidered a surgical emergency because irreversible muscle necrosis can begin\\nwithin 6 hours of injury. Clinical examination findings of ACS consist of the 5 Ps:Box 2\\nOrthopaedic Trauma Association open fracture classification\\nSkin\\n1. Can be approximated2. Cannot be approximated\\n3. Extensive degloving\\nMuscle\\n1. No muscle in area, no appreciable muscle necrosis, some muscle injury with intact muscle\\nfunction\\n2. Loss of muscle but the muscle remains functional, some localized necrosis in the zone of\\ninjury that requires excision, intact muscle-tendon unit\\n3. Dead muscle, loss of muscle function, partial or complete compartment excision, complete\\ndisruption of a muscle-tendon unit, muscle defect does not approximate\\nArterial\\n1. No injury\\n2. Artery injury without ischemia\\n3. Artery injury with distal ischemia\\nContamination\\n1. None or minimal contamination2. Surface contamination (easily removed; not embedded in bone or deep soft tissues)\\n3a. Imbedded in bone or deep soft tissues\\n3b. High-risk environmental conditions (eg, barnyard, fecal, dirty water)\\nBone loss\\n1. None\\n2. Bone missing or devascularized but still some contact between proximal and distal\\nfragments\\n3. Segmental bone loss\\nFrom Agel J, Evans AR, Marsh JL, et al. The OTA open fracture classification. J Orthop Trauma\\n2013;27(7):379–84; with permission.Musculoskeletal Trauma 1123'),\n",
       " Document(metadata={'source': 'MSK_trauma.pdf', 'page': 6}, page_content='pain out of proportion, pallor, paresthesia, pulselessness, and paralysis in the setting\\nof a swollen extremity. The extremity often feels tight and the soft tissues are lesscompressible than the contralateral limb. ACS remains a clinical diagnosis; however,\\ntools to measure intramuscular pressure and tissue oxygenation can be used to\\nconfirm the clinical diagnosis, which can be extremely useful in making the diagnosisin the obtunded patient. When obtaining intramuscular pressure measurements, a dif-\\nference of less than 30 mm Hg from the diastolic blood pressure is concerning for\\nACS. Once ACS is diagnosed, emergent fasciotomies are performed to relieve thepressure and prevent further myoneural ischemia.\\nVascular Injury\\nA vascular injury should be suspected if the injured extremity shows signs of pallor,reduced temperature, prolonged capillary refill, and reduced pulses. Before further ex-\\namination, gross limb length and alignment should be obtained and the limb re-\\nexamined. The ankle-brachial index should be obtained if a vascular injury is sus-pected with a value of 0.90 or lower having a high positive predictive value for an asso-ciated vascular injury.\\n25Re-establishment of the blood supply to the limb is an\\nemergency because muscle necrosis begins to occur within 6 hours of injury. Close\\ncoordination with the vascular surgeon is vital because each surgical plan dependson the other. The sequence of the surgical procedure must be discussed to maximize\\ncare and minimize the ischemia time and risk of further injury to the patient and\\nvascular repair if skeletal stabilization is done after the vascular repair.\\nMajor Joint Dislocations\\nThe close proximity and tethering of neurovascular structures to joints places them atsignificant risk of injury in joint dislocation. Localized soft-tissue swelling, distal ex-tremity edema, abnormal neurology or the signs of vascular compromise are all\\nmarkers for a high index of suspicion of a major joint dislocation. Expedient joint relo-\\ncation and stabilization in a splint or traction may be necessary. Unlike most disloca-tions, a hip dislocation is considered an orthopedic emergency and should be reducedimmediately on recognition because an increased time to reduction is associated with\\nsubsequent development of avascular necrosis.\\n26\\nSCORING SYSTEMS: ARE THEY RELIABLE?\\nThe decision to perform limb salvage or an amputation remains difficult. Scoring sys-tems, such as the Mangled Extremity Severity Score (MESS)\\n27and Limb Salvage In-\\ndex (LSI),28have been developed to help guide surgeons in their decision-making\\nprocess. However, the decision to salvage or amputate a limb often requires more fac-\\ntors to be considered than those commonly used in the scoring systems. As a result,\\ntheir utility came into question and, in 2001, Bosse and colleagues29found that, out of\\nall scoring systems evaluated, the MESS; the LSI; the Predictive Salvage Index; theNerve Injury, Ischemia, Soft-Tissue Injury, Skeletal Injury, Shock, and Age of Patient\\nScore; and the Hannover Fracture scale-98, none were able to predict the need for\\namputation in a large, multicenter prospective observational study. In 2008, Ly andcolleagues\\n30followed the same set of patients and found that the same scoring sys-\\ntems also lacked the ability to predict outcome and patient recovery following high-\\nenergy lower extremity trauma. Scoring systems also do not seem to have utilitywhen treating severe combat injuries, as demonstrated by Sheean and colleagues.\\n31\\nOther clinical examination findings have been considered in the decision-making\\nprocess, such as the presence of plantar sensation on presentation. In fact, theStinner & Edwards 1124'),\n",
       " Document(metadata={'source': 'MSK_trauma.pdf', 'page': 7}, page_content='absence of plantar sensation has historically been a primary reason for orthopedic and\\ngeneral surgeons to consider acute amputation.32However, an analysis performed by\\nBosse and colleagues33of subjects presenting without plantar sensation compared\\nwith matched controls following high-energy trauma demonstrated no difference in\\noutcomes between groups at 2 years. Therefore, the treating surgeon should use allfactors that are available in helping to make the decision and not hang their hat on\\n1 scoring system or 1 primary clinical examination finding. In addition, when time per-\\nmits, that is, the patient is not in extremis, it is always helpful to confer with colleagues,other members of the trauma team, and, when able, the patient before the decision is\\nmade to amputate or salvage a severely injured extremity because there may be other\\nfactors to consider.\\nWHEN SHOULD IT BE FIXED?\\nOne of the frequent discussions among orthopedic and general surgeons revolvesaround the appropriate timing to stabilize fractures. Although the discussion is often\\nshort and indications for urgent operative stabilization in those with isolated extrem-\\nities is rather clear, the discussion can be longer and may involve multiple servicesin the polytrauma patient because more factors must be considered to ensure thatthe surgical intervention does not increase patient morbidity. Ideally, the right surgery\\nis performed for each patient, personally tailored to their physiologic status. The term\\nused to describe this is the application of early appropriate care (EAC). However, toapply EAC, what constitutes appropriate care must be understood. To do so, it is help-\\nful to understand both sides of the historical argument between early total care (ETC)\\nand damage control orthopedics (DCO), which can be used to selectively provideappropriate care, depending on the patient’s clinical status and response to resusci-\\ntation. Although most research evaluating optimal timing of fracture fixation is\\ncentered on the femur, the principles can be applied to fractures of other long bonesand the pelvic ring.\\nEarly Total Care\\nPatients with unstable fractures of the femur, pelvis, acetabulum, and spine are oftenforced into a recumbent position, which predisposes them to pulmonary complica-\\ntions and prolonged systemic inflammation. Early stabilization of these injuries can\\nlead to improved pain relief and mobility. Several studies have clearly demonstratedthe benefits of ETC. Harvin and colleagues\\n34published their decade of experience\\ncomparing femur fractures definitively stabilized with intramedullary nails before and\\nafter 24 hours. After adjusting for anatomic (Injury Severity Score [ISS]) and physio-logic (Revised Trauma Score) indices, early fracture fixation was independently asso-\\nciated with a reduction in pulmonary complications by nearly 60%. It was also\\nassociated with a reduction in ventilator days, hospital length of stay, and overall hos-pital charges. These results are similar to those demonstrated by Vallier and col-leagues,\\n35who compared definitive fixation of unstable femur, acetabulum, pelvis,\\nand thoracolumbar fractures performed before and after 24 hours. After adjusting\\nfor age and ISS, days in the intensive care unit and total hospital stay were lowerwith early fixation. In addition, there were greater than 10% fewer overall complica-\\ntions (24% vs 35.8%), and lower rates of acute respiratory distress syndrome\\n(ARDS), pneumonia, and sepsis in those undergoing early versus delayed fixation.\\nAs this evidence suggests, early definitive treatment may be safely used for patients\\nwith multiple injuries. However, ETC is not ideal for all patients because there is a clear\\nsubset of patients who benefit from DCO.Musculoskeletal Trauma 1125'),\n",
       " Document(metadata={'source': 'MSK_trauma.pdf', 'page': 8}, page_content='Damage Control Orthopedics\\nAs the pendulum swung toward ETC, it was realized that not all patients did well hav-\\ning their fractures undergo definitive stabilization early. In fact, some types of patientsseemed to do quite poorly with ETC. It became apparent that in certain patients,\\nparticularly those with pulmonary or head injuries, a less aggressive approach to frac-\\nture fixation might be needed. Trauma causes a sustained response of the immunesystem and the early hyperinflammatory response is often followed by a hypoinflam-\\nmatory stage. In the polytrauma patient, extended surgery, which can lead to\\nincreased blood loss, hypothermia, and surgical trauma, can result in an excessive in-flammatory reaction, which has been termed the second hit. In these patients, exten-\\nsive surgical procedures can overwhelm the immune system, which can trigger a\\npulmonary complication, such as ARDS, or multiple organ failure.\\n36\\nOne alternative is delayed fracture care, that is, splinting or traction, of unstable\\nfractures and performing surgical skeletal stabilization days to weeks later. Before\\nthe advent of modern surgical skeletal stabilization techniques, this was the norm.There are, however, significant disadvantages to delayed fracture care. In patientswithout adequate stabilization, in the case of the femur this would usually involve\\nsome form of skeletal traction, patients cannot be mobilized. As a result, they are at\\nan increased risk for pulmonary complications and pressure ulcers. With the advance-ment in surgical skeletal stabilization techniques, there was a shift toward aggressive\\nearly stabilization of extremity fractures but, as alluded to earlier, ETC is not appro-\\npriate for everyone. Thus, the emergence of DCO.\\nDCO involves doing the necessary surgical interventions to stabilize the fracture to\\nminimize excessive blood loss, improve pain, and promote mobilization. This usually in-\\nvolves procedures such as external fixation of long bone fractures or unstable pelvic ringinjuries. Through the placement of external fixation in the acute period, that is, avoidingopen and often lengthy and/or bloody surgical procedures, the second hit is theoretically\\navoided and definitive reconstruction can occur at a later point after the patient’s phys-\\niologic parameters have improved. The benefits of this strategy on the immune systemhave been demonstrated by Pape and colleagues.\\n37In a prospective, randomized, multi-\\ncenter study, 35 polytrauma subjects (ISS >16) with a diaphyseal femur fracture were ran-\\ndomized to either ETC or DCO, and serum inflammatory markers were trended over time.In those with ETC (intramedullary nail), there was a sustained increase in serum inflamma-\\ntory markers, which was not seen in the DCO group following both the initial external fix-\\nation and subsequent conversion to definitive fixation with an intramedullary nail.\\nIn a retrospective study, Harwood and colleagues\\n38compared the Systemic Inflam-\\nmatory Response Syndrome (SIRS) Score and Marshall multiorgan dysfunction score\\nof subjects with femur fractures treated with either ETC or DCO. It was not surprisingthat the DCO group had more severe injuries based on the new ISS, and more headand thoracic injuries. Despite this, they had a smaller, shorter postoperative SIRS and\\ndid not suffer significantly more pronounced organ failure than the ETC group. Interest-\\ningly, those in the DCO group who underwent conversion to an intramedullary nail whentheir SIRS score was raised suffered the most pronounced subsequent inflammatory\\nresponse and organ failure, which emphasizes the impact that the second hit can have\\nand the importance of planning the definitive fixation based on physiologic improvement.\\nEarly Appropriate Care: When to Choose Early Total Care Versus Damage Control\\nOrthopedics\\nWhat is very clear is that stable patients should be treated with ETC, whereas unstable\\npatients should undergo DCO. The challenge has been defining the appropriateStinner & Edwards 1126'),\n",
       " Document(metadata={'source': 'MSK_trauma.pdf', 'page': 9}, page_content='clinical indications to perform DCO or ETC in the borderline patient. Various definitions\\nof the borderline patient have been made to include that by Pape and colleagues,37\\nwho define it by the following: ISS greater than 40, multiple injuries (ISS >20) in com-\\nbination with thorax trauma, multiple injuries in combination with severe abdominal or\\npelvic injury, hemorrhagic shock at the moment of administration, moderate or severehead trauma, radiographic evidence of pulmonary contusion, bilateral femur fractures,\\nor a body temperature below 35\\n/C14C.36D’Alleyrand and O’Toole39have proposed 3\\ncommon indicators for DCO of borderline patients that they use at the R. Adams Cow-ley Shock Trauma Center in Baltimore, MD: (1) closed head injury, (2) poor response to\\nresuscitation in the first 12 hours, and (3) poor respiratory status at the time of fracture\\ntreatment.\\nIt is helpful to know where these indications have come from and what defines an\\nappropriate response to resuscitation to safely apply them. One increasingly used\\nmethod of assessing response to resuscitation is trending lactate levels. In patients\\nundergoing definitive fixation of a femur fracture with an intramedullary nail within24 hours of injury, admission lactate is significantly associated with pulmonary com-\\nplications when other factors such as age, Glasgow Coma Scale, and AIS were\\ncontrolled. However, preoperative lactate was not found to be a risk factor.\\n40A me-\\ndian preoperative lactate of 2.8 mmol/L was not associated with increased pulmonary\\ncomplications, as opposed to previous publications.41These results are similar to\\nthose seen by Vallier and colleagues35,42in which admission lactate, in addition to\\nthe severity of the abdominal and thoracic injuries, contribute most to the develop-\\nment of pulmonary morbidity. It is likely that the trend in lactate, that is, a lactate level\\nimproving and approaching 2.5 mmol/L, demonstrates an adequate response toresuscitation and, therefore, can lead to safe application of ETC. On the contrary, inthose with closed head injuries, severe abdominal, or severe thoracic injuries, DCO\\nshould be considered.\\nThis was also demonstrated in a review by Vallier and colleagues\\n42of subjects with\\npelvis, acetabulum, spine, and/or proximal or diaphyseal femur fractures treated sur-\\ngically. Pulmonary complications occurred in 12% of subjects with 8.2% developing\\npneumonia. Lactate levels were greater with pulmonary complications and were thesingle most specific predictor of complications. An uncomplicated course was asso-\\nciated with absence of a chest injury and definitive fixation within 24 or 48 hours. The\\ninvestigators concluded that complications can be minimized when isolated fracturesare treated on early and, when patients have injuries to other body systems and/or se-vere hemorrhage, DCO may be advisable to optimize outcomes.\\nIn summary, if the patient demonstrates any physiologic signs of end-organ hypo-\\nperfusion, DCO should be pursued. It is also important for the orthopedic surgeon tocommunicate with both the general surgeon and the anesthetist so that care is opti-\\nmized. This allows the treatment plan to be altered in an effort to optimize the patient’s\\noutcomes if the patient’s physiologic parameters change throughout the resuscitationprocess or surgical procedure.\\nSUMMARY\\nSevere extremity injuries are not only a challenge to treat but doing so results in high\\nresource utilization and often high levels of levels of disability.3,43The decision to pur-\\nsue DCO versus ETC may lead to a shorter hospital stay and fewer complications, butthere is likely more that surgeons can do optimize patient outcomes throughout the\\nentire care continuum beyond the decisions made or actions taken within the first\\nfew hours following injury. The best available data comparing outcomes of limbMusculoskeletal Trauma 1127'),\n",
       " Document(metadata={'source': 'MSK_trauma.pdf', 'page': 10}, page_content='salvage and amputees from the Lower Extremity Assessment Project (LEAP) Study\\nGroup found no difference in outcomes between groups at both 2 and 7 years.They did, however, identify several predictors of poor outcome, regardless of group,\\nto include a poor social support network and low self-efficacy.\\n3,44This concept of self-\\nefficacy and social support network is something that many orthopedic surgeons havenot paid much attention to in the past. Multiple studies have highlighted the impor-\\ntance of various factors in a patient’s overall recovery process, such as access to\\nvocational and mental health support.\\n45In addition, certain psychological factors\\nplay a significant role in predicting pain following trauma.46,47It is important that ortho-\\npedic surgeons and members of the trauma team take their level of care a step further\\nbeyond saving life and limb, and take these factors into consideration when attempt-ing to optimize patient outcomes.\\nREFERENCES\\n1. WISQARS (Web-based Injury Statistics Query and Reporting System), Injury\\nCenter, CDC. Available at: https://www.cdc.gov/injury/wisqars/index.html . Ac-\\ncessed March 2, 2017.\\n2.Miller TR, Pindus NM, Douglass JB, et al. Databook on nonfatal injury: incidence,\\ncosts, and consequences. Washington, DC: Urban Institute Press; 1995 .\\n3.MacKenzie EJ, Bosse MJ, Pollak AN, et al. Long-term persistence of disability\\nfollowing severe lower-limb trauma. Results of a seven-year follow-up. J Bone\\nJoint Surg Am 2005;87(8):1801–9 .\\n4.Mackenzie EJ, Rivara FP, Jurkovich GJ, et al. The impact of trauma-center care\\non functional outcomes following major lower-limb trauma. J Bone Joint SurgAm 2008;90(1):101–9 .\\n5.Morshed S, Knops S, Jurkovich GJ, et al. The impact of trauma-center care on\\nmortality and function following pelvic ring and acetabular injuries. J Bone Joint\\nSurg Am 2015;97(4):265–72 .\\n6.Sielatycki JA, Sawyer JR, Mir HR. Supply and demand analysis of the orthopae-\\ndic trauma surgeon workforce in the United States. J Orthop Trauma 2016;30(5):278–83 .\\n7. American College of Surgeons Committee on Trauma. Statement on trauma cen-\\nter designation based upon system need. Bull Am Coll Surg 2015;100(1):51–2.\\nAvailable at: http://www.ncbi.nlm.nih.gov/pubmed/25626271 . Accessed March\\n2, 2017.\\n8. Stinner DJ, Johnson AE, Pollak A, et al. “Zero preventable deaths and minimizing\\ndisability” – the challenge set forth by the national academies of sciences, engi-\\nneering, and medicine. J Orthop Trauma 2017. http://dx.doi.org/10.1097/BOT.\\n0000000000000806 .\\n9. Trunkey DD. Trauma. Accidental and intentional injuries account for more years of\\nlife lost in the U.S. than cancer and heart disease. Among the prescribed rem-edies are improved preventive efforts, speedier surgery and further research.\\nSci Am 1983;249(2):28–35. Available at: http://www.ncbi.nlm.nih.gov/pubmed/\\n6623052 . Accessed March 2, 2017.\\n10. Baue AE. Multiple, progressive, or sequential systems failure. A syndrome of the\\n1970s. Arch Surg 1975;110(7):779–81. Available at: http://www.ncbi.nlm.nih.gov/\\npubmed/1079720 . Accessed March 2, 2017.\\n11.Giannakopoulos GF, Saltzherr TP , Beenen LFM, et al. Missed injuries during the\\ninitial assessment in a cohort of 1124 level-1 trauma patients. Injury 2012;43(9):\\n1517–21 .Stinner & Edwards 1128'),\n",
       " Document(metadata={'source': 'MSK_trauma.pdf', 'page': 11}, page_content='12.Huber-Wagner S, Lefering R, Qvick L-M, et al. Effect of whole-body CT during\\ntrauma resuscitation on survival: a retrospective, multicentre study. Lancet2009;373(9673):1455–61 .\\n13. Brodie S, Hodgetts TJ, Ollerton J, et al. Tourniquet use in combat trauma: UK mil-\\nitary experience. J R Army Med Corps 2007;153(4):310–3. Available at: http://\\nwww.ncbi.nlm.nih.gov/pubmed/18619170 . Accessed March 2, 2017.\\n14.Kragh JF , Walters TJ, Baer DG, et al. Survival with emergency tourniquet use to\\nstop bleeding in major limb trauma. Ann Surg 2009;249(1):1–7 .\\n15. Gustilo RB, Anderson JT. Prevention of infection in the treatment of one thousand\\nand twenty-five open fractures of long bones: retrospective and prospective an-\\nalyses. J Bone Joint Surg Am 1976;58(4):453–8. Available at: http://www.ncbi.\\nnlm.nih.gov/pubmed/773941 . Accessed March 2, 2017.\\n16.Agel J, Evans AR, Marsh JL, et al. The OTA open fracture classification. J Orthop\\nTrauma 2013;27(7):379–84 .\\n17.Lack WD, Karunakar MA, Angerame MR, et al. Type III open tibia fractures.\\nJ Orthop Trauma 2014;29(1):1 .\\n18.Murray CK, Obremskey WT, Hsu JR, et al. Prevention of infections associated with\\ncombat-related extremity injuries. J Trauma 2011;71(2 Suppl 2):S235–57 .\\n19.D’Alleyrand J-CG, Manson TT, Dancy L, et al. Is time to flap coverage of open\\ntibial fractures an independent predictor of flap-related complications?J Orthop Trauma 2014;28(5):288–93 .\\n20. Powers WF, Hensley CD. Circulating blood volume changes incident to major or-\\nthopedic surgery. J Am Med Assoc 1959;169(6):545–7. Available at: http://www.\\nncbi.nlm.nih.gov/pubmed/13620501 . Accessed March 2, 2017.\\n21. Clarke R, Topley E, Flear CT. Assessment of blood-loss in civilian trauma. Lancet\\n1955;268(6865):629–38. Available at: http://www.ncbi.nlm.nih.gov/pubmed/\\n14354953 . Accessed March 2, 2017.\\n22. Lieurance R, Benjamin JB, Rappaport WD. Blood loss and transfusion in patients\\nwith isolated femur fractures. J Orthop Trauma 1992;6(2):175–9. Available at:\\nhttp://www.ncbi.nlm.nih.gov/pubmed/1602337 . Accessed March 2, 2017.\\n23.Even JL, Richards JE, Crosby CG, et al. Preoperative skeletal versus cutaneous\\ntraction for femoral shaft fractures treated within 24 hours. J Orthop Trauma 2012;\\n26(10):e177–82 .\\n24.Giannoudis PV, Grotz MRW, Tzioupis C, et al. Prevalence of pelvic fractures,\\nassociated injuries, and mortality: the United Kingdom perspective. J Trauma\\n2007;63(4):875–83 .\\n25. Mills WJ, Barei DP, McNair P . The value of the ankle-brachial index for diagnosing\\narterial injury after knee dislocation: a prospective study. J Trauma 2004;56(6):\\n1261–5. Available at: http://www.ncbi.nlm.nih.gov/pubmed/15211135 . Accessed\\nMarch 2, 2017.\\n26.Sahin V , Karakas E, Aksu S, et al. Traumatic dislocation and fracture-dislocation of\\nthe hip: a long-term follow-up study. J Trauma 2003;54(3):520–9 .\\n27. Johansen K, Daines M, Howey T, et al. Objective criteria accurately predict\\namputation following lower extremity trauma. J Trauma 1990;30(5):568–72 [dis-\\ncussion: 572–3]. Available at: http://www.ncbi.nlm.nih.gov/pubmed/2342140 . Ac-\\ncessed March 2, 2017.\\n28. Russell WL, Sailors DM, Whittle TB, et al. Limb salvage versus traumatic amputa-\\ntion. A decision based on a seven-part predictive index. Ann Surg 1991;213(5):\\n473–80 [discussion: 480–1]. Available at: http://www.ncbi.nlm.nih.gov/pubmed/\\n2025068 . Accessed March 2, 2017.Musculoskeletal Trauma 1129'),\n",
       " Document(metadata={'source': 'MSK_trauma.pdf', 'page': 12}, page_content='29. Bosse MJ, MacKenzie EJ, Kellam JF , et al. A prospective evaluation of the clinical\\nutility of the lower-extremity injury-severity scores. J Bone Joint Surg Am 2001;83-A(1):3–14. Available at: http://www.ncbi.nlm.nih.gov/pubmed/11205855 .\\n30.Ly TV, Travison TG, Castillo RC, et al. Ability of lower-extremity injury severity\\nscores to predict functional outcome after limb salvage. J Bone Joint Surg Am\\n2008;90(8):1738–43 .\\n31.Sheean AJ, Krueger CA, Napierala MA, et al, Skeletal Trauma and Research Con-\\nsortium (STReC). Evaluation of the mangled extremity severity score in combat-\\nrelated type III open tibia fracture. J Orthop Trauma 2014;28(9):523–6 .\\n32. MacKenzie EJ, Bosse MJ, Kellam JF, et al. Factors influencing the decision to\\namputate or reconstruct after high-energy lower extremity trauma. J Trauma2002;52(4):641–9. Available at: http://www.ncbi.nlm.nih.gov/pubmed/11956376 .\\nAccessed March 2, 2017.\\n33.Bosse MJ, McCarthy ML, Jones AL, et al. The insensate foot following severe\\nlower extremity trauma: an indication for amputation? J Bone Joint Surg Am\\n2005;87(12):2601–8 .\\n34.Harvin JA, Harvin WH, Camp E, et al. Early femur fracture fixation is associated\\nwith a reduction in pulmonary complications and hospital charges: a decade ofexperience with 1,376 diaphyseal femur fractures. J Trauma Acute Care Surg\\n2012;73(6):1442–8 .\\n35.Vallier HA, Super DM, Moore TA, et al. Do patients with multiple system injury\\nbenefit from early fixation of unstable axial fractures? The effects of timing of sur-\\ngery on initial hospital course. J Orthop Trauma 2013;27(7):405–12 .\\n36.Lichte P, Kobbe P , Dombroski D, et al. Damage control orthopedics: current ev-\\nidence. Curr Opin Crit Care 2012;18(6):647–50 .\\n37.Pape HC, Grimme K, van Griensven M, et al, EPOFF Study Group. Impact of in-\\ntramedullary instrumentation versus damage control for femoral fractures on im-munoinflammatory parameters: prospective randomized analysis by the EPOFFStudy Group. J Trauma 2003;55(1):7–13 .\\n38.Harwood PJ, Giannoudis PV , van Griensven M, et al. Alterations in the systemic\\ninflammatory response after early total care and damage control procedures\\nfor femoral shaft fracture in severely injured patients. J Trauma 2005;58(3):\\n446–52 .\\n39.D’Alleyrand JCG, O’Toole RV . The evolution of damage control orthopedics. Cur-\\nrent evidence and practical applications of early appropriate care. Orthop ClinNorth Am 2013;44(4):499–507 .\\n40.Richards JE, Matuszewski PE, Griffin SM, et al. The role of elevated lactate as a\\nrisk factor for pulmonary morbidity after early fixation of femoral shaft fractures.\\nJ Orthop Trauma 2016;30(6):312–8 .\\n41. Crowl AC, Young JS, Kahler DM, et al. Occult hypoperfusion is associated with\\nincreased morbidity in patients undergoing early femur fracture fixation.\\nJ Trauma 2000;48(2):260–7. Available at: http://www.ncbi.nlm.nih.gov/pubmed/\\n10697084 . Accessed March 2, 2017.\\n42.Vallier HA, Wang X, Moore TA, et al. Timing of orthopaedic surgery in multiple\\ntrauma patients: development of a protocol for early appropriate care. J Orthop\\nTrauma 2013;27(10):543–51 .\\n43.Masini BD, Waterman SM, Wenke JC, et al. Resource utilization and disability\\noutcome assessment of combat casualties from operation Iraqi freedom and\\noperation enduring freedom. J Orthop Trauma 2009;23(4):261–6 .Stinner & Edwards 1130'),\n",
       " Document(metadata={'source': 'MSK_trauma.pdf', 'page': 13}, page_content='44.Bosse MJ, MacKenzie EJ, Kellam JF , et al. An analysis of outcomes of reconstruc-\\ntion or amputation after leg-threatening injuries. N Engl J Med 2002;347(24):1924–31 .\\n45.Archer KR, Castillo RC, MacKenzie EJ, et al, LEAP Study Group. Perceived need\\nand unmet need for vocational, mental health, and other support services aftersevere lower-extremity trauma. Arch Phys Med Rehabil 2010;91(5):774–80 .\\n46.Vranceanu A-M, Bachoura A, Weening A, et al. Psychological factors predict\\ndisability and pain intensity after skeletal trauma. J Bone Joint Surg Am 2014;96(3):e20 .\\n47.Castillo RC, Wegener ST, Heins SE, et al. Longitudinal relationships between anx-\\niety, depression, and pain: results from a two-year cohort study of lower extremitytrauma patients. Pain 2013;154(12):2860–6 .Musculoskeletal Trauma 1131\\nView publication stats')]"
      ]
     },
     "execution_count": 10,
     "metadata": {},
     "output_type": "execute_result"
    }
   ],
   "source": [
    "#reading a pdf file \n",
    "from langchain_community.document_loaders import PyPDFLoader\n",
    "loader = PyPDFLoader('MSK_trauma.pdf')\n",
    "docs = loader.load()\n",
    "docs"
   ]
  },
  {
   "cell_type": "code",
   "execution_count": 11,
   "metadata": {},
   "outputs": [
    {
     "data": {
      "text/plain": [
       "[Document(metadata={'source': 'MSK_trauma.pdf', 'page': 0}, page_content='See discussions, st ats, and author pr ofiles f or this public ation at : https://www .researchgate.ne t/public ation/320159486\\nSurgical Management of Musculoskeletal T rauma\\nArticle \\xa0\\xa0 in\\xa0\\xa0Surgical Clinics of North Americ a · Oct ober 2017\\nDOI: 10.1016/ j.suc.2017.06.005\\nCITATIONS\\n35READS\\n1,461\\n2 author s:\\nDaniel Stinner\\nVanderbilt Univ ersity\\n132 PUBLICA TIONS \\xa0\\xa0\\xa02,847  CITATIONS \\xa0\\xa0\\xa0\\nSEE PROFILE\\nDafy dd S Edw ards\\nThe R oyal London Hospit al\\n32 PUBLICA TIONS \\xa0\\xa0\\xa0569 CITATIONS \\xa0\\xa0\\xa0\\nSEE PROFILE'),\n",
       " Document(metadata={'source': 'MSK_trauma.pdf', 'page': 0}, page_content='32 PUBLICA TIONS \\xa0\\xa0\\xa0569 CITATIONS \\xa0\\xa0\\xa0\\nSEE PROFILE\\nAll c ontent f ollo wing this p age was uplo aded b y Dafy dd S Edw ards on 01 Dec ember 2017.\\nThe user has r equest ed enhanc ement of the do wnlo aded file.'),\n",
       " Document(metadata={'source': 'MSK_trauma.pdf', 'page': 1}, page_content='Surgical Management of\\nMusculoskeletal Trauma\\nDaniel J. Stinner, MDa,b,*, Dafydd Edwards, FRCS (Tr&Orth)a,c\\nSOCIETAL BURDEN OF EXTREMITY TRAUMA\\nInjuries remain a leading cause of death in people younger the age of 65 years. When\\nconsidering years of potential life lost, it ranks higher than malignant neoplasms, heartdisease, and cerebrovascular disease. However, deaths are truly just the tip of the\\niceberg. For every trauma-related death there are 13 hospital discharges and 140'),\n",
       " Document(metadata={'source': 'MSK_trauma.pdf', 'page': 1}, page_content='emergency department visits related to injury or trauma.\\n1With advances in automobile\\nsafety and improvements in acute resuscitation strategies, lives are being saved, butthat comes at a cost for both the patient and society. When evaluating societal costs\\ndue to injury, 20% can be attributed to medical and related costs, another 35% are\\ndue to productivity losses due to death, and 45% are due to productivity losses'),\n",
       " Document(metadata={'source': 'MSK_trauma.pdf', 'page': 1}, page_content='Disclosure: The opinions or assertions contained herein are the private views of the authors and\\nare not to be construed as official or as reflecting the views of the Department of the Army, theDepartment of Defense, or the UK Ministry of Defense.\\naRoyal School of Mines, Centre for Blast Injury Studies, Imperial College London, Prince Con-\\nsort Road, Kensington, London SW7 2BP, UK;bUS Army Institute of Surgical Research, San\\nAntonio, TX, USA;cRoyal Centre for Defence Medicine, Birmingham, UK'),\n",
       " Document(metadata={'source': 'MSK_trauma.pdf', 'page': 1}, page_content='* Corresponding author. Royal School of Mines, Centre for Blast Injury Studies, Imperial CollegeLondon, Prince Consort Road, Kensington, London SW7 2BP, UK.E-mail address: Daniel.stinner@gmail.comKEYWORDS\\n/C15Extremity trauma /C15Limb salvage /C15Limb reconstruction\\n/C15Damage control orthopedics /C15Early total care /C15Early appropriate care\\nKEY POINTS\\n/C15Extremity injuries account for more than 50% of the total costs to society for nonfatal\\ninjuries.'),\n",
       " Document(metadata={'source': 'MSK_trauma.pdf', 'page': 1}, page_content='injuries.\\n/C15Communication between the orthopedic surgeon, trauma team leader, and other surgical\\nservices is paramount to optimize outcomes.\\n/C15Damage control orthopedics (DCO) is reserved for the physiologically unstable or border-\\nline patient.\\n/C15Early total care (ETC) is often ideal for the management of stable trauma patients with iso-\\nlated extremity injuries.\\n/C15Early appropriate care refers to the decision to apply either DCO or ETC depending on the'),\n",
       " Document(metadata={'source': 'MSK_trauma.pdf', 'page': 1}, page_content='patient’s physiologic status and response to resuscitation.\\nSurg Clin N Am 97 (2017) 1119–1131\\nhttp://dx.doi.org/10.1016/j.suc.2017.06.005 surgical.theclinics.com\\n0039-6109/17/ ª2017 The Author(s). Published by Elsevier Inc. This is an open access article under\\nthe CC BY-NC-ND license ( http://creativecommons.org/licenses/by-nc-nd/4.0/ ).'),\n",
       " Document(metadata={'source': 'MSK_trauma.pdf', 'page': 2}, page_content='due to disability. When looking specifically at the comprehensive costs on society of\\nnonfatal injuries, upper limb injuries account for 16% and lower limb injuries accountfor 38%, attributing well more than 50% of the total costs on society for nonfatal in-\\njuries to the extremities.\\n2Furthermore, of those working before an injury from a mod-\\nerate to high-energy force with an orthopedic injury with an Abbreviated Injury Scale(AIS) of 3 or more, only 58% have returned to work at 1 year.'),\n",
       " Document(metadata={'source': 'MSK_trauma.pdf', 'page': 2}, page_content='3This gives orthopedic\\nsurgeons the opportunity to have a significant impact on minimizing this burden by do-\\ning their part to optimize outcomes of those with extremity injuries.\\nNEED FOR A COORDINATED NATIONAL TRAUMA SYSTEM TO OPTIMIZE OUTCOMES\\nHaving an established and optimized trauma system is essential to improve the out-\\ncomes of those who sustain high-energy extremity trauma. Research clearly demon-'),\n",
       " Document(metadata={'source': 'MSK_trauma.pdf', 'page': 2}, page_content='strates that those sustaining severe lower-limb injuries benefit from treatment at atrauma center.\\n4,5Interestingly enough, although the total number of trauma centers\\nis increasing throughout the United States, the number of severe orthopedic injuries\\nseen at these centers seems to be decreasing, which ultimately results in less trauma\\nvolume per orthopedic surgeon.6The American College of Surgeons Committee on\\nTrauma has recognized this dilemma and has published a position statement outlining'),\n",
       " Document(metadata={'source': 'MSK_trauma.pdf', 'page': 2}, page_content='several guidelines for the optimization of a regional trauma system, which seeks to\\nbest serve the needs of the injured patient.7In addition, through the establishment\\nof a coordinated National Trauma System, which may be on the horizon in the United\\nStates, outcomes of extremity trauma patients are likely to improve.8\\nTRAUMA-RELATED MORTALITY\\nIn the developed world, trauma is the most common cause of death in those younger'),\n",
       " Document(metadata={'source': 'MSK_trauma.pdf', 'page': 2}, page_content='than the age of 44 years and is most commonly due to road traffic accidents. Donald\\nTrunkey9described a predictable trimodal distribution of death in 1983.\\nAcute or Primary Mortality\\nThe casualties that belong in this group are ones that have sustained injuries that are'),\n",
       " Document(metadata={'source': 'MSK_trauma.pdf', 'page': 2}, page_content='incompatible with life. Typical injuries include severe head injuries, major hemorrhage,high cervical vertebra (C3 and above) and spinal cord injuries, airway obstruction, ormediastinal and cardiac disruption. Casualties often succumb to these injuries within\\nseconds because they are not amenable to medical intervention regardless of the\\ntimeline.\\nSecondary Mortality'),\n",
       " Document(metadata={'source': 'MSK_trauma.pdf', 'page': 2}, page_content='timeline.\\nSecondary Mortality\\nDeath in the second peak usually occurs within minutes to hours and is potentially pre-ventable by early and appropriate medical intervention. Examples of early or acute in-\\njuries in this group are intracranial hemorrhage, pneumothorax, cardiac tamponade,\\nhemothorax, intra-abdominal hemorrhage, pelvic fracture, or long bone fracture, inparticular femoral fractures. All of these are characterized by the need for early inva-'),\n",
       " Document(metadata={'source': 'MSK_trauma.pdf', 'page': 2}, page_content='sive medical intervention to stabilize the casualty before physiologic disruption and or-\\ngan failure occurs. For the orthopedic surgeon, interventions include pelvis and longbone stabilization; however, it is important for them to be aware that patients with\\nthese injuries often require significant resuscitation.\\nTertiary Mortality\\nThirty percent of all trauma-related deaths occur within days or weeks following the'),\n",
       " Document(metadata={'source': 'MSK_trauma.pdf', 'page': 2}, page_content='injury.10The triggering of multiorgan failure and subsequent death is usually on aStinner & Edwards 1120'),\n",
       " Document(metadata={'source': 'MSK_trauma.pdf', 'page': 3}, page_content='continuum and starts with potentially reversible physiologic dysfunction usually\\ncaused by sepsis or cardiorespiratory failure. This concept of multiple, progressiveor sequential systems failure was first described in 1975 by Baue.\\n10The term multior-\\ngan dysfunction syndrome has been adopted to describe this condition and is char-\\nacterized by the failure of at least 2 organs.\\nThe goal of the orthopedic surgeon is to attempt to prevent secondary or tertiary'),\n",
       " Document(metadata={'source': 'MSK_trauma.pdf', 'page': 3}, page_content='deaths and subsequently minimize morbidity related to musculoskeletal injury. Typi-\\ncally, mortality in the secondary peak can be minimized by stabilization of fracturesto the pelvis and long bones. Stabilization of such injuries not only helps with the\\nreduction of blood loss but also deceases the pain stimuli, reducing the analgesia'),\n",
       " Document(metadata={'source': 'MSK_trauma.pdf', 'page': 3}, page_content='and anesthetic requirement, which can help with the regulation and normalization ofphysiology. Furthermore, stabilization of the long bones can also minimize the riskof pulmonary complications due to fat emboli and inability to mobilize.\\nADVANCED TRAUMA LIFE SUPPORT\\nDuring the primary survey, the orthopedic surgeon can assist in the management ofmusculoskeletal injuries that have a direct impact on the primary survey or injuries'),\n",
       " Document(metadata={'source': 'MSK_trauma.pdf', 'page': 3}, page_content='that are diagnosed during primary investigations. Overtly fractured limbs impeding\\nassessment, the fractured pelvis with hemodynamic instability, and open long bonefractures with ongoing hemorrhage are all indications for the early intervention by\\nthe orthopedic surgeon. As the orthopedic surgeon identifies these injuries, they\\nmust stay in continual communication with the trauma team leader because theymay affect resuscitation strategies.'),\n",
       " Document(metadata={'source': 'MSK_trauma.pdf', 'page': 3}, page_content='Restoring gross length and alignment of fractures and stabilizing long bone and/or\\npelvic ring fractures with splints and/or a pelvic binder can minimize further blood loss,\\nbone and soft tissue trauma, and reduce patient pain and analgesia requirement.However, it should be noted that resuscitation and the primary survey always take pre-\\ncedence over splinting of extremity fractures.\\nOf note, missed extremity injuries, especially in the hand and foot, can occur in more'),\n",
       " Document(metadata={'source': 'MSK_trauma.pdf', 'page': 3}, page_content='than 8% of trauma patients, which emphasizes the importance of repeat assess-\\nment.\\n11A low threshold for a high index of suspicion of spinal injuries should also\\nbe considered in an unconscious patient and triple immobilization should be main-tained until formal clinical evaluation is possible. If this is not possible due to a persis-tent unconscious or anesthetized patient, spine-specific imaging, computed\\ntomography (CT), and MRI should be performed before removal of the immobilization.'),\n",
       " Document(metadata={'source': 'MSK_trauma.pdf', 'page': 3}, page_content='Adjuncts to the secondary survey include further radiographic imaging. It is nowcommonplace to perform a trauma protocol CT scan that may replace the need for\\nother radiographs.\\n12\\nORTHOPEDICS IN THE EMERGENCY DEPARTMENT: EARLY INTERVENTIONS CAN\\nIMPROVE OUTCOMES\\nAlthough the orthopedic surgeon may not be directly involved in the primary survey of\\nthe severely injured patient, their acute management of several conditions can have adramatic effect on the patient’s overall outcome.'),\n",
       " Document(metadata={'source': 'MSK_trauma.pdf', 'page': 3}, page_content='Major Hemorrhage\\nThe patient who presents in major hemorrhage is often in extremis. In the setting ofmajor hemorrhage from an extremity injury, the main goal for the orthopedic surgeon\\nis to assist in the so-called Stop the Bleed. This is initially managed by direct pressure,\\nwhether manual or via a pressure bandage. Failure to control hemorrhage throughMusculoskeletal Trauma 1121'),\n",
       " Document(metadata={'source': 'MSK_trauma.pdf', 'page': 4}, page_content='direct pressure should result in tourniquet application.13,14Because tourniquet use is\\nmore common prehospital, a patient may arrive with a tourniquet in place. Cautionshould always be taken when removing a tourniquet and it is advisable to have another\\nready to use proximally on removal or ensure it is removed in a controlled environment'),\n",
       " Document(metadata={'source': 'MSK_trauma.pdf', 'page': 4}, page_content='to ensure more harm is not inflicted. In the setting of a traumatic amputation, a tour-niquet should be applied if hemorrhage control is needed and then it can be reas-\\nsessed in the operating room.\\nOpen Fractures\\nOpen fractures involve a direct communication of the injured bone with the environ-\\nment and are often the reflection of a high-energy injury. Not only does the potential\\nfor contamination worsen the injury burden but the high energy indicates severe dam-'),\n",
       " Document(metadata={'source': 'MSK_trauma.pdf', 'page': 4}, page_content='age to the local soft tissues, both leading to wound complications and an increasedpotential for infection. Open fractures are commonly classified by 2 different systems.\\nThe more commonly used Gustilo-Anderson Classification and the newer Orthopaedic\\nTrauma Association’s Open Fracture Classification ( Boxes 1 and2).\\n15,16The most\\nimportant predictor of infection following open fracture seems to be timeliness of anti-'),\n",
       " Document(metadata={'source': 'MSK_trauma.pdf', 'page': 4}, page_content='biotic administration, with antibiotics given more than 60 minutes after injury being an\\nindependent risk factor for infection.17Typically, a first-generation cephalosporin is\\nrecommended with additional broader coverage only in certain scenarios.18Surgical\\ndebridement and irrigation should be performed within 24 hours, and ideally sooner'),\n",
       " Document(metadata={'source': 'MSK_trauma.pdf', 'page': 4}, page_content='depending on the level of contamination. The type of fixation, which can be either tem-porary or definitive, depends of the level of soft tissue injury and contamination. Whenrequired, wound coverage should be performed within 5 to 7 days.\\n17,19\\nFemur Fractures\\nIn the presence of hemodynamic instability and physiologic parameters that indicatehypovolemic shock, the assessment of circulation and hemorrhage involves the ex-'),\n",
       " Document(metadata={'source': 'MSK_trauma.pdf', 'page': 4}, page_content='amination of the lower extremity for swelling. Even in the context of a closed femoral\\nfracture, blood loss can be as much as 2.2 L.\\n20,21Furthermore, 40% of isolated\\nfemoral fractures require blood transfusion.22In such situations it is advocated that\\nskeletal immobilization of long bone fractures be performed during the primary survey.\\nBox 1\\nGustilo-Anderson open fracture classification\\nType 1\\nWound is /C201 cm with minimal soft tissue injury\\nType 2'),\n",
       " Document(metadata={'source': 'MSK_trauma.pdf', 'page': 4}, page_content='Type 2\\nWound is greater than 1 cm in length, moderate soft tissue injury\\nType 3\\n/C15Extensive soft tissue injury, degloving, or periosteal stripping, but soft tissue closure is\\npossible\\n/C15Extensive soft tissue injury with periosteal stripping, requires flap coverage\\n/C15Associated with an arterial injury requiring repair\\nFrom Gustilo RB, Mendoza RM, Williams DN. Problems in the management of type III (severe)'),\n",
       " Document(metadata={'source': 'MSK_trauma.pdf', 'page': 4}, page_content='open fractures: a new classification of type III open fractures. J Trauma 1984;24(8):743.Stinner & Edwards 1122'),\n",
       " Document(metadata={'source': 'MSK_trauma.pdf', 'page': 5}, page_content='The femur can be immobilized with in-line traction bucks or skeletal traction until early\\noperative skeletal stabilization is performed.23\\nPelvic Ring Injuries\\nBecause of the energy needed to create a pelvic ring injury, they are often associated\\nwith hemodynamic instability, head injuries, thoracoabdominal injuries, and long bone\\nfractures. In fact, pelvic fractures resulting in blood loss and hypovolemia have a mor-tality rate between 3% and 20%.'),\n",
       " Document(metadata={'source': 'MSK_trauma.pdf', 'page': 5}, page_content='24With increasing fracture severity, that is, more pos-\\nterior pelvic disruption, the pelvic venous plexus, and internal iliac vessels are at an\\nincreased risk of injury and subsequent uncontrolled hemorrhage. Fluid resuscitationand hemorrhage control are vital. Many trauma centers have an algorithm based on\\nthe facility’s capabilities to direct management, which involves stabilization of the pel-\\nvic ring injury at a minimum, for example, pelvic binder initially followed by externalfixation.'),\n",
       " Document(metadata={'source': 'MSK_trauma.pdf', 'page': 5}, page_content='Compartment Syndrome\\nAcute compartment syndrome (ACS) occurs when there is progressive myoneuralischemia due to the accumulation of fluid within a confined myofascial space or pro-longed elevated pressure due to an external source such as a crush injury. ACS is\\nconsidered a surgical emergency because irreversible muscle necrosis can begin\\nwithin 6 hours of injury. Clinical examination findings of ACS consist of the 5 Ps:Box 2\\nOrthopaedic Trauma Association open fracture classification\\nSkin'),\n",
       " Document(metadata={'source': 'MSK_trauma.pdf', 'page': 5}, page_content='Skin\\n1. Can be approximated2. Cannot be approximated\\n3. Extensive degloving\\nMuscle\\n1. No muscle in area, no appreciable muscle necrosis, some muscle injury with intact muscle\\nfunction\\n2. Loss of muscle but the muscle remains functional, some localized necrosis in the zone of\\ninjury that requires excision, intact muscle-tendon unit\\n3. Dead muscle, loss of muscle function, partial or complete compartment excision, complete\\ndisruption of a muscle-tendon unit, muscle defect does not approximate'),\n",
       " Document(metadata={'source': 'MSK_trauma.pdf', 'page': 5}, page_content='Arterial\\n1. No injury\\n2. Artery injury without ischemia\\n3. Artery injury with distal ischemia\\nContamination\\n1. None or minimal contamination2. Surface contamination (easily removed; not embedded in bone or deep soft tissues)\\n3a. Imbedded in bone or deep soft tissues\\n3b. High-risk environmental conditions (eg, barnyard, fecal, dirty water)\\nBone loss\\n1. None\\n2. Bone missing or devascularized but still some contact between proximal and distal\\nfragments\\n3. Segmental bone loss'),\n",
       " Document(metadata={'source': 'MSK_trauma.pdf', 'page': 5}, page_content='fragments\\n3. Segmental bone loss\\nFrom Agel J, Evans AR, Marsh JL, et al. The OTA open fracture classification. J Orthop Trauma\\n2013;27(7):379–84; with permission.Musculoskeletal Trauma 1123'),\n",
       " Document(metadata={'source': 'MSK_trauma.pdf', 'page': 6}, page_content='pain out of proportion, pallor, paresthesia, pulselessness, and paralysis in the setting\\nof a swollen extremity. The extremity often feels tight and the soft tissues are lesscompressible than the contralateral limb. ACS remains a clinical diagnosis; however,\\ntools to measure intramuscular pressure and tissue oxygenation can be used to'),\n",
       " Document(metadata={'source': 'MSK_trauma.pdf', 'page': 6}, page_content='confirm the clinical diagnosis, which can be extremely useful in making the diagnosisin the obtunded patient. When obtaining intramuscular pressure measurements, a dif-\\nference of less than 30 mm Hg from the diastolic blood pressure is concerning for\\nACS. Once ACS is diagnosed, emergent fasciotomies are performed to relieve thepressure and prevent further myoneural ischemia.\\nVascular Injury'),\n",
       " Document(metadata={'source': 'MSK_trauma.pdf', 'page': 6}, page_content='Vascular Injury\\nA vascular injury should be suspected if the injured extremity shows signs of pallor,reduced temperature, prolonged capillary refill, and reduced pulses. Before further ex-\\namination, gross limb length and alignment should be obtained and the limb re-\\nexamined. The ankle-brachial index should be obtained if a vascular injury is sus-pected with a value of 0.90 or lower having a high positive predictive value for an asso-ciated vascular injury.'),\n",
       " Document(metadata={'source': 'MSK_trauma.pdf', 'page': 6}, page_content='25Re-establishment of the blood supply to the limb is an\\nemergency because muscle necrosis begins to occur within 6 hours of injury. Close\\ncoordination with the vascular surgeon is vital because each surgical plan dependson the other. The sequence of the surgical procedure must be discussed to maximize\\ncare and minimize the ischemia time and risk of further injury to the patient and\\nvascular repair if skeletal stabilization is done after the vascular repair.\\nMajor Joint Dislocations'),\n",
       " Document(metadata={'source': 'MSK_trauma.pdf', 'page': 6}, page_content='Major Joint Dislocations\\nThe close proximity and tethering of neurovascular structures to joints places them atsignificant risk of injury in joint dislocation. Localized soft-tissue swelling, distal ex-tremity edema, abnormal neurology or the signs of vascular compromise are all\\nmarkers for a high index of suspicion of a major joint dislocation. Expedient joint relo-'),\n",
       " Document(metadata={'source': 'MSK_trauma.pdf', 'page': 6}, page_content='cation and stabilization in a splint or traction may be necessary. Unlike most disloca-tions, a hip dislocation is considered an orthopedic emergency and should be reducedimmediately on recognition because an increased time to reduction is associated with\\nsubsequent development of avascular necrosis.\\n26\\nSCORING SYSTEMS: ARE THEY RELIABLE?\\nThe decision to perform limb salvage or an amputation remains difficult. Scoring sys-tems, such as the Mangled Extremity Severity Score (MESS)'),\n",
       " Document(metadata={'source': 'MSK_trauma.pdf', 'page': 6}, page_content='27and Limb Salvage In-\\ndex (LSI),28have been developed to help guide surgeons in their decision-making\\nprocess. However, the decision to salvage or amputate a limb often requires more fac-\\ntors to be considered than those commonly used in the scoring systems. As a result,\\ntheir utility came into question and, in 2001, Bosse and colleagues29found that, out of'),\n",
       " Document(metadata={'source': 'MSK_trauma.pdf', 'page': 6}, page_content='all scoring systems evaluated, the MESS; the LSI; the Predictive Salvage Index; theNerve Injury, Ischemia, Soft-Tissue Injury, Skeletal Injury, Shock, and Age of Patient\\nScore; and the Hannover Fracture scale-98, none were able to predict the need for\\namputation in a large, multicenter prospective observational study. In 2008, Ly andcolleagues\\n30followed the same set of patients and found that the same scoring sys-'),\n",
       " Document(metadata={'source': 'MSK_trauma.pdf', 'page': 6}, page_content='tems also lacked the ability to predict outcome and patient recovery following high-\\nenergy lower extremity trauma. Scoring systems also do not seem to have utilitywhen treating severe combat injuries, as demonstrated by Sheean and colleagues.\\n31\\nOther clinical examination findings have been considered in the decision-making\\nprocess, such as the presence of plantar sensation on presentation. In fact, theStinner & Edwards 1124'),\n",
       " Document(metadata={'source': 'MSK_trauma.pdf', 'page': 7}, page_content='absence of plantar sensation has historically been a primary reason for orthopedic and\\ngeneral surgeons to consider acute amputation.32However, an analysis performed by\\nBosse and colleagues33of subjects presenting without plantar sensation compared\\nwith matched controls following high-energy trauma demonstrated no difference in\\noutcomes between groups at 2 years. Therefore, the treating surgeon should use allfactors that are available in helping to make the decision and not hang their hat on'),\n",
       " Document(metadata={'source': 'MSK_trauma.pdf', 'page': 7}, page_content='1 scoring system or 1 primary clinical examination finding. In addition, when time per-\\nmits, that is, the patient is not in extremis, it is always helpful to confer with colleagues,other members of the trauma team, and, when able, the patient before the decision is\\nmade to amputate or salvage a severely injured extremity because there may be other\\nfactors to consider.\\nWHEN SHOULD IT BE FIXED?'),\n",
       " Document(metadata={'source': 'MSK_trauma.pdf', 'page': 7}, page_content='factors to consider.\\nWHEN SHOULD IT BE FIXED?\\nOne of the frequent discussions among orthopedic and general surgeons revolvesaround the appropriate timing to stabilize fractures. Although the discussion is often\\nshort and indications for urgent operative stabilization in those with isolated extrem-'),\n",
       " Document(metadata={'source': 'MSK_trauma.pdf', 'page': 7}, page_content='ities is rather clear, the discussion can be longer and may involve multiple servicesin the polytrauma patient because more factors must be considered to ensure thatthe surgical intervention does not increase patient morbidity. Ideally, the right surgery\\nis performed for each patient, personally tailored to their physiologic status. The term'),\n",
       " Document(metadata={'source': 'MSK_trauma.pdf', 'page': 7}, page_content='used to describe this is the application of early appropriate care (EAC). However, toapply EAC, what constitutes appropriate care must be understood. To do so, it is help-\\nful to understand both sides of the historical argument between early total care (ETC)\\nand damage control orthopedics (DCO), which can be used to selectively provideappropriate care, depending on the patient’s clinical status and response to resusci-'),\n",
       " Document(metadata={'source': 'MSK_trauma.pdf', 'page': 7}, page_content='tation. Although most research evaluating optimal timing of fracture fixation is\\ncentered on the femur, the principles can be applied to fractures of other long bonesand the pelvic ring.\\nEarly Total Care\\nPatients with unstable fractures of the femur, pelvis, acetabulum, and spine are oftenforced into a recumbent position, which predisposes them to pulmonary complica-\\ntions and prolonged systemic inflammation. Early stabilization of these injuries can'),\n",
       " Document(metadata={'source': 'MSK_trauma.pdf', 'page': 7}, page_content='lead to improved pain relief and mobility. Several studies have clearly demonstratedthe benefits of ETC. Harvin and colleagues\\n34published their decade of experience\\ncomparing femur fractures definitively stabilized with intramedullary nails before and\\nafter 24 hours. After adjusting for anatomic (Injury Severity Score [ISS]) and physio-logic (Revised Trauma Score) indices, early fracture fixation was independently asso-'),\n",
       " Document(metadata={'source': 'MSK_trauma.pdf', 'page': 7}, page_content='ciated with a reduction in pulmonary complications by nearly 60%. It was also\\nassociated with a reduction in ventilator days, hospital length of stay, and overall hos-pital charges. These results are similar to those demonstrated by Vallier and col-leagues,\\n35who compared definitive fixation of unstable femur, acetabulum, pelvis,\\nand thoracolumbar fractures performed before and after 24 hours. After adjusting'),\n",
       " Document(metadata={'source': 'MSK_trauma.pdf', 'page': 7}, page_content='for age and ISS, days in the intensive care unit and total hospital stay were lowerwith early fixation. In addition, there were greater than 10% fewer overall complica-\\ntions (24% vs 35.8%), and lower rates of acute respiratory distress syndrome\\n(ARDS), pneumonia, and sepsis in those undergoing early versus delayed fixation.\\nAs this evidence suggests, early definitive treatment may be safely used for patients'),\n",
       " Document(metadata={'source': 'MSK_trauma.pdf', 'page': 7}, page_content='with multiple injuries. However, ETC is not ideal for all patients because there is a clear\\nsubset of patients who benefit from DCO.Musculoskeletal Trauma 1125'),\n",
       " Document(metadata={'source': 'MSK_trauma.pdf', 'page': 8}, page_content='Damage Control Orthopedics\\nAs the pendulum swung toward ETC, it was realized that not all patients did well hav-\\ning their fractures undergo definitive stabilization early. In fact, some types of patientsseemed to do quite poorly with ETC. It became apparent that in certain patients,\\nparticularly those with pulmonary or head injuries, a less aggressive approach to frac-'),\n",
       " Document(metadata={'source': 'MSK_trauma.pdf', 'page': 8}, page_content='ture fixation might be needed. Trauma causes a sustained response of the immunesystem and the early hyperinflammatory response is often followed by a hypoinflam-\\nmatory stage. In the polytrauma patient, extended surgery, which can lead to\\nincreased blood loss, hypothermia, and surgical trauma, can result in an excessive in-flammatory reaction, which has been termed the second hit. In these patients, exten-\\nsive surgical procedures can overwhelm the immune system, which can trigger a'),\n",
       " Document(metadata={'source': 'MSK_trauma.pdf', 'page': 8}, page_content='pulmonary complication, such as ARDS, or multiple organ failure.\\n36\\nOne alternative is delayed fracture care, that is, splinting or traction, of unstable\\nfractures and performing surgical skeletal stabilization days to weeks later. Before\\nthe advent of modern surgical skeletal stabilization techniques, this was the norm.There are, however, significant disadvantages to delayed fracture care. In patientswithout adequate stabilization, in the case of the femur this would usually involve'),\n",
       " Document(metadata={'source': 'MSK_trauma.pdf', 'page': 8}, page_content='some form of skeletal traction, patients cannot be mobilized. As a result, they are at\\nan increased risk for pulmonary complications and pressure ulcers. With the advance-ment in surgical skeletal stabilization techniques, there was a shift toward aggressive\\nearly stabilization of extremity fractures but, as alluded to earlier, ETC is not appro-\\npriate for everyone. Thus, the emergence of DCO.\\nDCO involves doing the necessary surgical interventions to stabilize the fracture to'),\n",
       " Document(metadata={'source': 'MSK_trauma.pdf', 'page': 8}, page_content='minimize excessive blood loss, improve pain, and promote mobilization. This usually in-\\nvolves procedures such as external fixation of long bone fractures or unstable pelvic ringinjuries. Through the placement of external fixation in the acute period, that is, avoidingopen and often lengthy and/or bloody surgical procedures, the second hit is theoretically\\navoided and definitive reconstruction can occur at a later point after the patient’s phys-'),\n",
       " Document(metadata={'source': 'MSK_trauma.pdf', 'page': 8}, page_content='iologic parameters have improved. The benefits of this strategy on the immune systemhave been demonstrated by Pape and colleagues.\\n37In a prospective, randomized, multi-\\ncenter study, 35 polytrauma subjects (ISS >16) with a diaphyseal femur fracture were ran-\\ndomized to either ETC or DCO, and serum inflammatory markers were trended over time.In those with ETC (intramedullary nail), there was a sustained increase in serum inflamma-'),\n",
       " Document(metadata={'source': 'MSK_trauma.pdf', 'page': 8}, page_content='tory markers, which was not seen in the DCO group following both the initial external fix-\\nation and subsequent conversion to definitive fixation with an intramedullary nail.\\nIn a retrospective study, Harwood and colleagues\\n38compared the Systemic Inflam-\\nmatory Response Syndrome (SIRS) Score and Marshall multiorgan dysfunction score'),\n",
       " Document(metadata={'source': 'MSK_trauma.pdf', 'page': 8}, page_content='of subjects with femur fractures treated with either ETC or DCO. It was not surprisingthat the DCO group had more severe injuries based on the new ISS, and more headand thoracic injuries. Despite this, they had a smaller, shorter postoperative SIRS and\\ndid not suffer significantly more pronounced organ failure than the ETC group. Interest-'),\n",
       " Document(metadata={'source': 'MSK_trauma.pdf', 'page': 8}, page_content='ingly, those in the DCO group who underwent conversion to an intramedullary nail whentheir SIRS score was raised suffered the most pronounced subsequent inflammatory\\nresponse and organ failure, which emphasizes the impact that the second hit can have\\nand the importance of planning the definitive fixation based on physiologic improvement.\\nEarly Appropriate Care: When to Choose Early Total Care Versus Damage Control\\nOrthopedics'),\n",
       " Document(metadata={'source': 'MSK_trauma.pdf', 'page': 8}, page_content='Orthopedics\\nWhat is very clear is that stable patients should be treated with ETC, whereas unstable\\npatients should undergo DCO. The challenge has been defining the appropriateStinner & Edwards 1126'),\n",
       " Document(metadata={'source': 'MSK_trauma.pdf', 'page': 9}, page_content='clinical indications to perform DCO or ETC in the borderline patient. Various definitions\\nof the borderline patient have been made to include that by Pape and colleagues,37\\nwho define it by the following: ISS greater than 40, multiple injuries (ISS >20) in com-\\nbination with thorax trauma, multiple injuries in combination with severe abdominal or'),\n",
       " Document(metadata={'source': 'MSK_trauma.pdf', 'page': 9}, page_content='pelvic injury, hemorrhagic shock at the moment of administration, moderate or severehead trauma, radiographic evidence of pulmonary contusion, bilateral femur fractures,\\nor a body temperature below 35\\n/C14C.36D’Alleyrand and O’Toole39have proposed 3\\ncommon indicators for DCO of borderline patients that they use at the R. Adams Cow-ley Shock Trauma Center in Baltimore, MD: (1) closed head injury, (2) poor response to'),\n",
       " Document(metadata={'source': 'MSK_trauma.pdf', 'page': 9}, page_content='resuscitation in the first 12 hours, and (3) poor respiratory status at the time of fracture\\ntreatment.\\nIt is helpful to know where these indications have come from and what defines an\\nappropriate response to resuscitation to safely apply them. One increasingly used\\nmethod of assessing response to resuscitation is trending lactate levels. In patients'),\n",
       " Document(metadata={'source': 'MSK_trauma.pdf', 'page': 9}, page_content='undergoing definitive fixation of a femur fracture with an intramedullary nail within24 hours of injury, admission lactate is significantly associated with pulmonary com-\\nplications when other factors such as age, Glasgow Coma Scale, and AIS were\\ncontrolled. However, preoperative lactate was not found to be a risk factor.\\n40A me-\\ndian preoperative lactate of 2.8 mmol/L was not associated with increased pulmonary\\ncomplications, as opposed to previous publications.41These results are similar to'),\n",
       " Document(metadata={'source': 'MSK_trauma.pdf', 'page': 9}, page_content='those seen by Vallier and colleagues35,42in which admission lactate, in addition to\\nthe severity of the abdominal and thoracic injuries, contribute most to the develop-\\nment of pulmonary morbidity. It is likely that the trend in lactate, that is, a lactate level'),\n",
       " Document(metadata={'source': 'MSK_trauma.pdf', 'page': 9}, page_content='improving and approaching 2.5 mmol/L, demonstrates an adequate response toresuscitation and, therefore, can lead to safe application of ETC. On the contrary, inthose with closed head injuries, severe abdominal, or severe thoracic injuries, DCO\\nshould be considered.\\nThis was also demonstrated in a review by Vallier and colleagues\\n42of subjects with\\npelvis, acetabulum, spine, and/or proximal or diaphyseal femur fractures treated sur-'),\n",
       " Document(metadata={'source': 'MSK_trauma.pdf', 'page': 9}, page_content='gically. Pulmonary complications occurred in 12% of subjects with 8.2% developing\\npneumonia. Lactate levels were greater with pulmonary complications and were thesingle most specific predictor of complications. An uncomplicated course was asso-\\nciated with absence of a chest injury and definitive fixation within 24 or 48 hours. The'),\n",
       " Document(metadata={'source': 'MSK_trauma.pdf', 'page': 9}, page_content='investigators concluded that complications can be minimized when isolated fracturesare treated on early and, when patients have injuries to other body systems and/or se-vere hemorrhage, DCO may be advisable to optimize outcomes.\\nIn summary, if the patient demonstrates any physiologic signs of end-organ hypo-\\nperfusion, DCO should be pursued. It is also important for the orthopedic surgeon tocommunicate with both the general surgeon and the anesthetist so that care is opti-'),\n",
       " Document(metadata={'source': 'MSK_trauma.pdf', 'page': 9}, page_content='mized. This allows the treatment plan to be altered in an effort to optimize the patient’s\\noutcomes if the patient’s physiologic parameters change throughout the resuscitationprocess or surgical procedure.\\nSUMMARY\\nSevere extremity injuries are not only a challenge to treat but doing so results in high\\nresource utilization and often high levels of levels of disability.3,43The decision to pur-'),\n",
       " Document(metadata={'source': 'MSK_trauma.pdf', 'page': 9}, page_content='sue DCO versus ETC may lead to a shorter hospital stay and fewer complications, butthere is likely more that surgeons can do optimize patient outcomes throughout the\\nentire care continuum beyond the decisions made or actions taken within the first\\nfew hours following injury. The best available data comparing outcomes of limbMusculoskeletal Trauma 1127'),\n",
       " Document(metadata={'source': 'MSK_trauma.pdf', 'page': 10}, page_content='salvage and amputees from the Lower Extremity Assessment Project (LEAP) Study\\nGroup found no difference in outcomes between groups at both 2 and 7 years.They did, however, identify several predictors of poor outcome, regardless of group,\\nto include a poor social support network and low self-efficacy.\\n3,44This concept of self-\\nefficacy and social support network is something that many orthopedic surgeons havenot paid much attention to in the past. Multiple studies have highlighted the impor-'),\n",
       " Document(metadata={'source': 'MSK_trauma.pdf', 'page': 10}, page_content='tance of various factors in a patient’s overall recovery process, such as access to\\nvocational and mental health support.\\n45In addition, certain psychological factors\\nplay a significant role in predicting pain following trauma.46,47It is important that ortho-\\npedic surgeons and members of the trauma team take their level of care a step further\\nbeyond saving life and limb, and take these factors into consideration when attempt-ing to optimize patient outcomes.\\nREFERENCES'),\n",
       " Document(metadata={'source': 'MSK_trauma.pdf', 'page': 10}, page_content='REFERENCES\\n1. WISQARS (Web-based Injury Statistics Query and Reporting System), Injury\\nCenter, CDC. Available at: https://www.cdc.gov/injury/wisqars/index.html . Ac-\\ncessed March 2, 2017.\\n2.Miller TR, Pindus NM, Douglass JB, et al. Databook on nonfatal injury: incidence,\\ncosts, and consequences. Washington, DC: Urban Institute Press; 1995 .\\n3.MacKenzie EJ, Bosse MJ, Pollak AN, et al. Long-term persistence of disability'),\n",
       " Document(metadata={'source': 'MSK_trauma.pdf', 'page': 10}, page_content='following severe lower-limb trauma. Results of a seven-year follow-up. J Bone\\nJoint Surg Am 2005;87(8):1801–9 .\\n4.Mackenzie EJ, Rivara FP, Jurkovich GJ, et al. The impact of trauma-center care\\non functional outcomes following major lower-limb trauma. J Bone Joint SurgAm 2008;90(1):101–9 .\\n5.Morshed S, Knops S, Jurkovich GJ, et al. The impact of trauma-center care on\\nmortality and function following pelvic ring and acetabular injuries. J Bone Joint\\nSurg Am 2015;97(4):265–72 .'),\n",
       " Document(metadata={'source': 'MSK_trauma.pdf', 'page': 10}, page_content='Surg Am 2015;97(4):265–72 .\\n6.Sielatycki JA, Sawyer JR, Mir HR. Supply and demand analysis of the orthopae-\\ndic trauma surgeon workforce in the United States. J Orthop Trauma 2016;30(5):278–83 .\\n7. American College of Surgeons Committee on Trauma. Statement on trauma cen-\\nter designation based upon system need. Bull Am Coll Surg 2015;100(1):51–2.\\nAvailable at: http://www.ncbi.nlm.nih.gov/pubmed/25626271 . Accessed March\\n2, 2017.'),\n",
       " Document(metadata={'source': 'MSK_trauma.pdf', 'page': 10}, page_content='2, 2017.\\n8. Stinner DJ, Johnson AE, Pollak A, et al. “Zero preventable deaths and minimizing\\ndisability” – the challenge set forth by the national academies of sciences, engi-\\nneering, and medicine. J Orthop Trauma 2017. http://dx.doi.org/10.1097/BOT.\\n0000000000000806 .\\n9. Trunkey DD. Trauma. Accidental and intentional injuries account for more years of'),\n",
       " Document(metadata={'source': 'MSK_trauma.pdf', 'page': 10}, page_content='life lost in the U.S. than cancer and heart disease. Among the prescribed rem-edies are improved preventive efforts, speedier surgery and further research.\\nSci Am 1983;249(2):28–35. Available at: http://www.ncbi.nlm.nih.gov/pubmed/\\n6623052 . Accessed March 2, 2017.\\n10. Baue AE. Multiple, progressive, or sequential systems failure. A syndrome of the\\n1970s. Arch Surg 1975;110(7):779–81. Available at: http://www.ncbi.nlm.nih.gov/\\npubmed/1079720 . Accessed March 2, 2017.'),\n",
       " Document(metadata={'source': 'MSK_trauma.pdf', 'page': 10}, page_content='pubmed/1079720 . Accessed March 2, 2017.\\n11.Giannakopoulos GF, Saltzherr TP , Beenen LFM, et al. Missed injuries during the\\ninitial assessment in a cohort of 1124 level-1 trauma patients. Injury 2012;43(9):\\n1517–21 .Stinner & Edwards 1128'),\n",
       " Document(metadata={'source': 'MSK_trauma.pdf', 'page': 11}, page_content='12.Huber-Wagner S, Lefering R, Qvick L-M, et al. Effect of whole-body CT during\\ntrauma resuscitation on survival: a retrospective, multicentre study. Lancet2009;373(9673):1455–61 .\\n13. Brodie S, Hodgetts TJ, Ollerton J, et al. Tourniquet use in combat trauma: UK mil-\\nitary experience. J R Army Med Corps 2007;153(4):310–3. Available at: http://\\nwww.ncbi.nlm.nih.gov/pubmed/18619170 . Accessed March 2, 2017.\\n14.Kragh JF , Walters TJ, Baer DG, et al. Survival with emergency tourniquet use to'),\n",
       " Document(metadata={'source': 'MSK_trauma.pdf', 'page': 11}, page_content='stop bleeding in major limb trauma. Ann Surg 2009;249(1):1–7 .\\n15. Gustilo RB, Anderson JT. Prevention of infection in the treatment of one thousand\\nand twenty-five open fractures of long bones: retrospective and prospective an-\\nalyses. J Bone Joint Surg Am 1976;58(4):453–8. Available at: http://www.ncbi.\\nnlm.nih.gov/pubmed/773941 . Accessed March 2, 2017.\\n16.Agel J, Evans AR, Marsh JL, et al. The OTA open fracture classification. J Orthop\\nTrauma 2013;27(7):379–84 .'),\n",
       " Document(metadata={'source': 'MSK_trauma.pdf', 'page': 11}, page_content='Trauma 2013;27(7):379–84 .\\n17.Lack WD, Karunakar MA, Angerame MR, et al. Type III open tibia fractures.\\nJ Orthop Trauma 2014;29(1):1 .\\n18.Murray CK, Obremskey WT, Hsu JR, et al. Prevention of infections associated with\\ncombat-related extremity injuries. J Trauma 2011;71(2 Suppl 2):S235–57 .\\n19.D’Alleyrand J-CG, Manson TT, Dancy L, et al. Is time to flap coverage of open\\ntibial fractures an independent predictor of flap-related complications?J Orthop Trauma 2014;28(5):288–93 .'),\n",
       " Document(metadata={'source': 'MSK_trauma.pdf', 'page': 11}, page_content='20. Powers WF, Hensley CD. Circulating blood volume changes incident to major or-\\nthopedic surgery. J Am Med Assoc 1959;169(6):545–7. Available at: http://www.\\nncbi.nlm.nih.gov/pubmed/13620501 . Accessed March 2, 2017.\\n21. Clarke R, Topley E, Flear CT. Assessment of blood-loss in civilian trauma. Lancet\\n1955;268(6865):629–38. Available at: http://www.ncbi.nlm.nih.gov/pubmed/\\n14354953 . Accessed March 2, 2017.\\n22. Lieurance R, Benjamin JB, Rappaport WD. Blood loss and transfusion in patients'),\n",
       " Document(metadata={'source': 'MSK_trauma.pdf', 'page': 11}, page_content='with isolated femur fractures. J Orthop Trauma 1992;6(2):175–9. Available at:\\nhttp://www.ncbi.nlm.nih.gov/pubmed/1602337 . Accessed March 2, 2017.\\n23.Even JL, Richards JE, Crosby CG, et al. Preoperative skeletal versus cutaneous\\ntraction for femoral shaft fractures treated within 24 hours. J Orthop Trauma 2012;\\n26(10):e177–82 .\\n24.Giannoudis PV, Grotz MRW, Tzioupis C, et al. Prevalence of pelvic fractures,\\nassociated injuries, and mortality: the United Kingdom perspective. J Trauma'),\n",
       " Document(metadata={'source': 'MSK_trauma.pdf', 'page': 11}, page_content='2007;63(4):875–83 .\\n25. Mills WJ, Barei DP, McNair P . The value of the ankle-brachial index for diagnosing\\narterial injury after knee dislocation: a prospective study. J Trauma 2004;56(6):\\n1261–5. Available at: http://www.ncbi.nlm.nih.gov/pubmed/15211135 . Accessed\\nMarch 2, 2017.\\n26.Sahin V , Karakas E, Aksu S, et al. Traumatic dislocation and fracture-dislocation of\\nthe hip: a long-term follow-up study. J Trauma 2003;54(3):520–9 .'),\n",
       " Document(metadata={'source': 'MSK_trauma.pdf', 'page': 11}, page_content='27. Johansen K, Daines M, Howey T, et al. Objective criteria accurately predict\\namputation following lower extremity trauma. J Trauma 1990;30(5):568–72 [dis-\\ncussion: 572–3]. Available at: http://www.ncbi.nlm.nih.gov/pubmed/2342140 . Ac-\\ncessed March 2, 2017.\\n28. Russell WL, Sailors DM, Whittle TB, et al. Limb salvage versus traumatic amputa-\\ntion. A decision based on a seven-part predictive index. Ann Surg 1991;213(5):'),\n",
       " Document(metadata={'source': 'MSK_trauma.pdf', 'page': 11}, page_content='473–80 [discussion: 480–1]. Available at: http://www.ncbi.nlm.nih.gov/pubmed/\\n2025068 . Accessed March 2, 2017.Musculoskeletal Trauma 1129'),\n",
       " Document(metadata={'source': 'MSK_trauma.pdf', 'page': 12}, page_content='29. Bosse MJ, MacKenzie EJ, Kellam JF , et al. A prospective evaluation of the clinical\\nutility of the lower-extremity injury-severity scores. J Bone Joint Surg Am 2001;83-A(1):3–14. Available at: http://www.ncbi.nlm.nih.gov/pubmed/11205855 .\\n30.Ly TV, Travison TG, Castillo RC, et al. Ability of lower-extremity injury severity\\nscores to predict functional outcome after limb salvage. J Bone Joint Surg Am\\n2008;90(8):1738–43 .'),\n",
       " Document(metadata={'source': 'MSK_trauma.pdf', 'page': 12}, page_content='2008;90(8):1738–43 .\\n31.Sheean AJ, Krueger CA, Napierala MA, et al, Skeletal Trauma and Research Con-\\nsortium (STReC). Evaluation of the mangled extremity severity score in combat-\\nrelated type III open tibia fracture. J Orthop Trauma 2014;28(9):523–6 .\\n32. MacKenzie EJ, Bosse MJ, Kellam JF, et al. Factors influencing the decision to\\namputate or reconstruct after high-energy lower extremity trauma. J Trauma2002;52(4):641–9. Available at: http://www.ncbi.nlm.nih.gov/pubmed/11956376 .'),\n",
       " Document(metadata={'source': 'MSK_trauma.pdf', 'page': 12}, page_content='Accessed March 2, 2017.\\n33.Bosse MJ, McCarthy ML, Jones AL, et al. The insensate foot following severe\\nlower extremity trauma: an indication for amputation? J Bone Joint Surg Am\\n2005;87(12):2601–8 .\\n34.Harvin JA, Harvin WH, Camp E, et al. Early femur fracture fixation is associated\\nwith a reduction in pulmonary complications and hospital charges: a decade ofexperience with 1,376 diaphyseal femur fractures. J Trauma Acute Care Surg\\n2012;73(6):1442–8 .'),\n",
       " Document(metadata={'source': 'MSK_trauma.pdf', 'page': 12}, page_content='2012;73(6):1442–8 .\\n35.Vallier HA, Super DM, Moore TA, et al. Do patients with multiple system injury\\nbenefit from early fixation of unstable axial fractures? The effects of timing of sur-\\ngery on initial hospital course. J Orthop Trauma 2013;27(7):405–12 .\\n36.Lichte P, Kobbe P , Dombroski D, et al. Damage control orthopedics: current ev-\\nidence. Curr Opin Crit Care 2012;18(6):647–50 .\\n37.Pape HC, Grimme K, van Griensven M, et al, EPOFF Study Group. Impact of in-'),\n",
       " Document(metadata={'source': 'MSK_trauma.pdf', 'page': 12}, page_content='tramedullary instrumentation versus damage control for femoral fractures on im-munoinflammatory parameters: prospective randomized analysis by the EPOFFStudy Group. J Trauma 2003;55(1):7–13 .\\n38.Harwood PJ, Giannoudis PV , van Griensven M, et al. Alterations in the systemic\\ninflammatory response after early total care and damage control procedures\\nfor femoral shaft fracture in severely injured patients. J Trauma 2005;58(3):\\n446–52 .'),\n",
       " Document(metadata={'source': 'MSK_trauma.pdf', 'page': 12}, page_content='446–52 .\\n39.D’Alleyrand JCG, O’Toole RV . The evolution of damage control orthopedics. Cur-\\nrent evidence and practical applications of early appropriate care. Orthop ClinNorth Am 2013;44(4):499–507 .\\n40.Richards JE, Matuszewski PE, Griffin SM, et al. The role of elevated lactate as a\\nrisk factor for pulmonary morbidity after early fixation of femoral shaft fractures.\\nJ Orthop Trauma 2016;30(6):312–8 .\\n41. Crowl AC, Young JS, Kahler DM, et al. Occult hypoperfusion is associated with'),\n",
       " Document(metadata={'source': 'MSK_trauma.pdf', 'page': 12}, page_content='increased morbidity in patients undergoing early femur fracture fixation.\\nJ Trauma 2000;48(2):260–7. Available at: http://www.ncbi.nlm.nih.gov/pubmed/\\n10697084 . Accessed March 2, 2017.\\n42.Vallier HA, Wang X, Moore TA, et al. Timing of orthopaedic surgery in multiple\\ntrauma patients: development of a protocol for early appropriate care. J Orthop\\nTrauma 2013;27(10):543–51 .\\n43.Masini BD, Waterman SM, Wenke JC, et al. Resource utilization and disability'),\n",
       " Document(metadata={'source': 'MSK_trauma.pdf', 'page': 12}, page_content='outcome assessment of combat casualties from operation Iraqi freedom and\\noperation enduring freedom. J Orthop Trauma 2009;23(4):261–6 .Stinner & Edwards 1130'),\n",
       " Document(metadata={'source': 'MSK_trauma.pdf', 'page': 13}, page_content='44.Bosse MJ, MacKenzie EJ, Kellam JF , et al. An analysis of outcomes of reconstruc-\\ntion or amputation after leg-threatening injuries. N Engl J Med 2002;347(24):1924–31 .\\n45.Archer KR, Castillo RC, MacKenzie EJ, et al, LEAP Study Group. Perceived need\\nand unmet need for vocational, mental health, and other support services aftersevere lower-extremity trauma. Arch Phys Med Rehabil 2010;91(5):774–80 .\\n46.Vranceanu A-M, Bachoura A, Weening A, et al. Psychological factors predict'),\n",
       " Document(metadata={'source': 'MSK_trauma.pdf', 'page': 13}, page_content='disability and pain intensity after skeletal trauma. J Bone Joint Surg Am 2014;96(3):e20 .\\n47.Castillo RC, Wegener ST, Heins SE, et al. Longitudinal relationships between anx-\\niety, depression, and pain: results from a two-year cohort study of lower extremitytrauma patients. Pain 2013;154(12):2860–6 .Musculoskeletal Trauma 1131\\nView publication stats')]"
      ]
     },
     "execution_count": 11,
     "metadata": {},
     "output_type": "execute_result"
    }
   ],
   "source": [
    "##how to  recursively split text by character\n",
    "from langchain_text_splitters import RecursiveCharacterTextSplitter\n",
    "text_splitter = RecursiveCharacterTextSplitter(chunk_size=500,chunk_overlap=50)\n",
    "final_documents = text_splitter.split_documents(docs)\n",
    "final_documents\n"
   ]
  },
  {
   "cell_type": "code",
   "execution_count": 12,
   "metadata": {},
   "outputs": [
    {
     "data": {
      "text/plain": [
       "[Document(metadata={'source': 'MSK_trauma.pdf', 'page': 0}, page_content='See discussions, st ats, and author pr ofiles f or this public ation at : https://www .researchgate.ne t/public ation/320159486\\nSurgical Management of Musculoskeletal T rauma\\nArticle \\xa0\\xa0 in\\xa0\\xa0Surgical Clinics of North Americ a · Oct ober 2017\\nDOI: 10.1016/ j.suc.2017.06.005\\nCITATIONS\\n35READS\\n1,461\\n2 author s:\\nDaniel Stinner\\nVanderbilt Univ ersity\\n132 PUBLICA TIONS \\xa0\\xa0\\xa02,847  CITATIONS \\xa0\\xa0\\xa0\\nSEE PROFILE\\nDafy dd S Edw ards\\nThe R oyal London Hospit al\\n32 PUBLICA TIONS \\xa0\\xa0\\xa0569 CITATIONS \\xa0\\xa0\\xa0\\nSEE PROFILE'),\n",
       " Document(metadata={'source': 'MSK_trauma.pdf', 'page': 0}, page_content='32 PUBLICA TIONS \\xa0\\xa0\\xa0569 CITATIONS \\xa0\\xa0\\xa0\\nSEE PROFILE\\nAll c ontent f ollo wing this p age was uplo aded b y Dafy dd S Edw ards on 01 Dec ember 2017.\\nThe user has r equest ed enhanc ement of the do wnlo aded file.'),\n",
       " Document(metadata={'source': 'MSK_trauma.pdf', 'page': 1}, page_content='Surgical Management of\\nMusculoskeletal Trauma\\nDaniel J. Stinner, MDa,b,*, Dafydd Edwards, FRCS (Tr&Orth)a,c\\nSOCIETAL BURDEN OF EXTREMITY TRAUMA\\nInjuries remain a leading cause of death in people younger the age of 65 years. When\\nconsidering years of potential life lost, it ranks higher than malignant neoplasms, heartdisease, and cerebrovascular disease. However, deaths are truly just the tip of the\\niceberg. For every trauma-related death there are 13 hospital discharges and 140'),\n",
       " Document(metadata={'source': 'MSK_trauma.pdf', 'page': 1}, page_content='emergency department visits related to injury or trauma.\\n1With advances in automobile\\nsafety and improvements in acute resuscitation strategies, lives are being saved, butthat comes at a cost for both the patient and society. When evaluating societal costs\\ndue to injury, 20% can be attributed to medical and related costs, another 35% are\\ndue to productivity losses due to death, and 45% are due to productivity losses'),\n",
       " Document(metadata={'source': 'MSK_trauma.pdf', 'page': 1}, page_content='Disclosure: The opinions or assertions contained herein are the private views of the authors and\\nare not to be construed as official or as reflecting the views of the Department of the Army, theDepartment of Defense, or the UK Ministry of Defense.\\naRoyal School of Mines, Centre for Blast Injury Studies, Imperial College London, Prince Con-\\nsort Road, Kensington, London SW7 2BP, UK;bUS Army Institute of Surgical Research, San\\nAntonio, TX, USA;cRoyal Centre for Defence Medicine, Birmingham, UK'),\n",
       " Document(metadata={'source': 'MSK_trauma.pdf', 'page': 1}, page_content='* Corresponding author. Royal School of Mines, Centre for Blast Injury Studies, Imperial CollegeLondon, Prince Consort Road, Kensington, London SW7 2BP, UK.E-mail address: Daniel.stinner@gmail.comKEYWORDS\\n/C15Extremity trauma /C15Limb salvage /C15Limb reconstruction\\n/C15Damage control orthopedics /C15Early total care /C15Early appropriate care\\nKEY POINTS\\n/C15Extremity injuries account for more than 50% of the total costs to society for nonfatal\\ninjuries.'),\n",
       " Document(metadata={'source': 'MSK_trauma.pdf', 'page': 1}, page_content='injuries.\\n/C15Communication between the orthopedic surgeon, trauma team leader, and other surgical\\nservices is paramount to optimize outcomes.\\n/C15Damage control orthopedics (DCO) is reserved for the physiologically unstable or border-\\nline patient.\\n/C15Early total care (ETC) is often ideal for the management of stable trauma patients with iso-\\nlated extremity injuries.\\n/C15Early appropriate care refers to the decision to apply either DCO or ETC depending on the'),\n",
       " Document(metadata={'source': 'MSK_trauma.pdf', 'page': 1}, page_content='patient’s physiologic status and response to resuscitation.\\nSurg Clin N Am 97 (2017) 1119–1131\\nhttp://dx.doi.org/10.1016/j.suc.2017.06.005 surgical.theclinics.com\\n0039-6109/17/ ª2017 The Author(s). Published by Elsevier Inc. This is an open access article under\\nthe CC BY-NC-ND license ( http://creativecommons.org/licenses/by-nc-nd/4.0/ ).'),\n",
       " Document(metadata={'source': 'MSK_trauma.pdf', 'page': 2}, page_content='due to disability. When looking specifically at the comprehensive costs on society of\\nnonfatal injuries, upper limb injuries account for 16% and lower limb injuries accountfor 38%, attributing well more than 50% of the total costs on society for nonfatal in-\\njuries to the extremities.\\n2Furthermore, of those working before an injury from a mod-\\nerate to high-energy force with an orthopedic injury with an Abbreviated Injury Scale(AIS) of 3 or more, only 58% have returned to work at 1 year.'),\n",
       " Document(metadata={'source': 'MSK_trauma.pdf', 'page': 2}, page_content='3This gives orthopedic\\nsurgeons the opportunity to have a significant impact on minimizing this burden by do-\\ning their part to optimize outcomes of those with extremity injuries.\\nNEED FOR A COORDINATED NATIONAL TRAUMA SYSTEM TO OPTIMIZE OUTCOMES\\nHaving an established and optimized trauma system is essential to improve the out-\\ncomes of those who sustain high-energy extremity trauma. Research clearly demon-'),\n",
       " Document(metadata={'source': 'MSK_trauma.pdf', 'page': 2}, page_content='strates that those sustaining severe lower-limb injuries benefit from treatment at atrauma center.\\n4,5Interestingly enough, although the total number of trauma centers\\nis increasing throughout the United States, the number of severe orthopedic injuries\\nseen at these centers seems to be decreasing, which ultimately results in less trauma\\nvolume per orthopedic surgeon.6The American College of Surgeons Committee on\\nTrauma has recognized this dilemma and has published a position statement outlining'),\n",
       " Document(metadata={'source': 'MSK_trauma.pdf', 'page': 2}, page_content='several guidelines for the optimization of a regional trauma system, which seeks to\\nbest serve the needs of the injured patient.7In addition, through the establishment\\nof a coordinated National Trauma System, which may be on the horizon in the United\\nStates, outcomes of extremity trauma patients are likely to improve.8\\nTRAUMA-RELATED MORTALITY\\nIn the developed world, trauma is the most common cause of death in those younger'),\n",
       " Document(metadata={'source': 'MSK_trauma.pdf', 'page': 2}, page_content='than the age of 44 years and is most commonly due to road traffic accidents. Donald\\nTrunkey9described a predictable trimodal distribution of death in 1983.\\nAcute or Primary Mortality\\nThe casualties that belong in this group are ones that have sustained injuries that are'),\n",
       " Document(metadata={'source': 'MSK_trauma.pdf', 'page': 2}, page_content='incompatible with life. Typical injuries include severe head injuries, major hemorrhage,high cervical vertebra (C3 and above) and spinal cord injuries, airway obstruction, ormediastinal and cardiac disruption. Casualties often succumb to these injuries within\\nseconds because they are not amenable to medical intervention regardless of the\\ntimeline.\\nSecondary Mortality'),\n",
       " Document(metadata={'source': 'MSK_trauma.pdf', 'page': 2}, page_content='timeline.\\nSecondary Mortality\\nDeath in the second peak usually occurs within minutes to hours and is potentially pre-ventable by early and appropriate medical intervention. Examples of early or acute in-\\njuries in this group are intracranial hemorrhage, pneumothorax, cardiac tamponade,\\nhemothorax, intra-abdominal hemorrhage, pelvic fracture, or long bone fracture, inparticular femoral fractures. All of these are characterized by the need for early inva-'),\n",
       " Document(metadata={'source': 'MSK_trauma.pdf', 'page': 2}, page_content='sive medical intervention to stabilize the casualty before physiologic disruption and or-\\ngan failure occurs. For the orthopedic surgeon, interventions include pelvis and longbone stabilization; however, it is important for them to be aware that patients with\\nthese injuries often require significant resuscitation.\\nTertiary Mortality\\nThirty percent of all trauma-related deaths occur within days or weeks following the'),\n",
       " Document(metadata={'source': 'MSK_trauma.pdf', 'page': 2}, page_content='injury.10The triggering of multiorgan failure and subsequent death is usually on aStinner & Edwards 1120'),\n",
       " Document(metadata={'source': 'MSK_trauma.pdf', 'page': 3}, page_content='continuum and starts with potentially reversible physiologic dysfunction usually\\ncaused by sepsis or cardiorespiratory failure. This concept of multiple, progressiveor sequential systems failure was first described in 1975 by Baue.\\n10The term multior-\\ngan dysfunction syndrome has been adopted to describe this condition and is char-\\nacterized by the failure of at least 2 organs.\\nThe goal of the orthopedic surgeon is to attempt to prevent secondary or tertiary'),\n",
       " Document(metadata={'source': 'MSK_trauma.pdf', 'page': 3}, page_content='deaths and subsequently minimize morbidity related to musculoskeletal injury. Typi-\\ncally, mortality in the secondary peak can be minimized by stabilization of fracturesto the pelvis and long bones. Stabilization of such injuries not only helps with the\\nreduction of blood loss but also deceases the pain stimuli, reducing the analgesia'),\n",
       " Document(metadata={'source': 'MSK_trauma.pdf', 'page': 3}, page_content='and anesthetic requirement, which can help with the regulation and normalization ofphysiology. Furthermore, stabilization of the long bones can also minimize the riskof pulmonary complications due to fat emboli and inability to mobilize.\\nADVANCED TRAUMA LIFE SUPPORT\\nDuring the primary survey, the orthopedic surgeon can assist in the management ofmusculoskeletal injuries that have a direct impact on the primary survey or injuries'),\n",
       " Document(metadata={'source': 'MSK_trauma.pdf', 'page': 3}, page_content='that are diagnosed during primary investigations. Overtly fractured limbs impeding\\nassessment, the fractured pelvis with hemodynamic instability, and open long bonefractures with ongoing hemorrhage are all indications for the early intervention by\\nthe orthopedic surgeon. As the orthopedic surgeon identifies these injuries, they\\nmust stay in continual communication with the trauma team leader because theymay affect resuscitation strategies.'),\n",
       " Document(metadata={'source': 'MSK_trauma.pdf', 'page': 3}, page_content='Restoring gross length and alignment of fractures and stabilizing long bone and/or\\npelvic ring fractures with splints and/or a pelvic binder can minimize further blood loss,\\nbone and soft tissue trauma, and reduce patient pain and analgesia requirement.However, it should be noted that resuscitation and the primary survey always take pre-\\ncedence over splinting of extremity fractures.\\nOf note, missed extremity injuries, especially in the hand and foot, can occur in more'),\n",
       " Document(metadata={'source': 'MSK_trauma.pdf', 'page': 3}, page_content='than 8% of trauma patients, which emphasizes the importance of repeat assess-\\nment.\\n11A low threshold for a high index of suspicion of spinal injuries should also\\nbe considered in an unconscious patient and triple immobilization should be main-tained until formal clinical evaluation is possible. If this is not possible due to a persis-tent unconscious or anesthetized patient, spine-specific imaging, computed\\ntomography (CT), and MRI should be performed before removal of the immobilization.'),\n",
       " Document(metadata={'source': 'MSK_trauma.pdf', 'page': 3}, page_content='Adjuncts to the secondary survey include further radiographic imaging. It is nowcommonplace to perform a trauma protocol CT scan that may replace the need for\\nother radiographs.\\n12\\nORTHOPEDICS IN THE EMERGENCY DEPARTMENT: EARLY INTERVENTIONS CAN\\nIMPROVE OUTCOMES\\nAlthough the orthopedic surgeon may not be directly involved in the primary survey of\\nthe severely injured patient, their acute management of several conditions can have adramatic effect on the patient’s overall outcome.'),\n",
       " Document(metadata={'source': 'MSK_trauma.pdf', 'page': 3}, page_content='Major Hemorrhage\\nThe patient who presents in major hemorrhage is often in extremis. In the setting ofmajor hemorrhage from an extremity injury, the main goal for the orthopedic surgeon\\nis to assist in the so-called Stop the Bleed. This is initially managed by direct pressure,\\nwhether manual or via a pressure bandage. Failure to control hemorrhage throughMusculoskeletal Trauma 1121'),\n",
       " Document(metadata={'source': 'MSK_trauma.pdf', 'page': 4}, page_content='direct pressure should result in tourniquet application.13,14Because tourniquet use is\\nmore common prehospital, a patient may arrive with a tourniquet in place. Cautionshould always be taken when removing a tourniquet and it is advisable to have another\\nready to use proximally on removal or ensure it is removed in a controlled environment'),\n",
       " Document(metadata={'source': 'MSK_trauma.pdf', 'page': 4}, page_content='to ensure more harm is not inflicted. In the setting of a traumatic amputation, a tour-niquet should be applied if hemorrhage control is needed and then it can be reas-\\nsessed in the operating room.\\nOpen Fractures\\nOpen fractures involve a direct communication of the injured bone with the environ-\\nment and are often the reflection of a high-energy injury. Not only does the potential\\nfor contamination worsen the injury burden but the high energy indicates severe dam-'),\n",
       " Document(metadata={'source': 'MSK_trauma.pdf', 'page': 4}, page_content='age to the local soft tissues, both leading to wound complications and an increasedpotential for infection. Open fractures are commonly classified by 2 different systems.\\nThe more commonly used Gustilo-Anderson Classification and the newer Orthopaedic\\nTrauma Association’s Open Fracture Classification ( Boxes 1 and2).\\n15,16The most\\nimportant predictor of infection following open fracture seems to be timeliness of anti-'),\n",
       " Document(metadata={'source': 'MSK_trauma.pdf', 'page': 4}, page_content='biotic administration, with antibiotics given more than 60 minutes after injury being an\\nindependent risk factor for infection.17Typically, a first-generation cephalosporin is\\nrecommended with additional broader coverage only in certain scenarios.18Surgical\\ndebridement and irrigation should be performed within 24 hours, and ideally sooner'),\n",
       " Document(metadata={'source': 'MSK_trauma.pdf', 'page': 4}, page_content='depending on the level of contamination. The type of fixation, which can be either tem-porary or definitive, depends of the level of soft tissue injury and contamination. Whenrequired, wound coverage should be performed within 5 to 7 days.\\n17,19\\nFemur Fractures\\nIn the presence of hemodynamic instability and physiologic parameters that indicatehypovolemic shock, the assessment of circulation and hemorrhage involves the ex-'),\n",
       " Document(metadata={'source': 'MSK_trauma.pdf', 'page': 4}, page_content='amination of the lower extremity for swelling. Even in the context of a closed femoral\\nfracture, blood loss can be as much as 2.2 L.\\n20,21Furthermore, 40% of isolated\\nfemoral fractures require blood transfusion.22In such situations it is advocated that\\nskeletal immobilization of long bone fractures be performed during the primary survey.\\nBox 1\\nGustilo-Anderson open fracture classification\\nType 1\\nWound is /C201 cm with minimal soft tissue injury\\nType 2'),\n",
       " Document(metadata={'source': 'MSK_trauma.pdf', 'page': 4}, page_content='Type 2\\nWound is greater than 1 cm in length, moderate soft tissue injury\\nType 3\\n/C15Extensive soft tissue injury, degloving, or periosteal stripping, but soft tissue closure is\\npossible\\n/C15Extensive soft tissue injury with periosteal stripping, requires flap coverage\\n/C15Associated with an arterial injury requiring repair\\nFrom Gustilo RB, Mendoza RM, Williams DN. Problems in the management of type III (severe)'),\n",
       " Document(metadata={'source': 'MSK_trauma.pdf', 'page': 4}, page_content='open fractures: a new classification of type III open fractures. J Trauma 1984;24(8):743.Stinner & Edwards 1122'),\n",
       " Document(metadata={'source': 'MSK_trauma.pdf', 'page': 5}, page_content='The femur can be immobilized with in-line traction bucks or skeletal traction until early\\noperative skeletal stabilization is performed.23\\nPelvic Ring Injuries\\nBecause of the energy needed to create a pelvic ring injury, they are often associated\\nwith hemodynamic instability, head injuries, thoracoabdominal injuries, and long bone\\nfractures. In fact, pelvic fractures resulting in blood loss and hypovolemia have a mor-tality rate between 3% and 20%.'),\n",
       " Document(metadata={'source': 'MSK_trauma.pdf', 'page': 5}, page_content='24With increasing fracture severity, that is, more pos-\\nterior pelvic disruption, the pelvic venous plexus, and internal iliac vessels are at an\\nincreased risk of injury and subsequent uncontrolled hemorrhage. Fluid resuscitationand hemorrhage control are vital. Many trauma centers have an algorithm based on\\nthe facility’s capabilities to direct management, which involves stabilization of the pel-\\nvic ring injury at a minimum, for example, pelvic binder initially followed by externalfixation.'),\n",
       " Document(metadata={'source': 'MSK_trauma.pdf', 'page': 5}, page_content='Compartment Syndrome\\nAcute compartment syndrome (ACS) occurs when there is progressive myoneuralischemia due to the accumulation of fluid within a confined myofascial space or pro-longed elevated pressure due to an external source such as a crush injury. ACS is\\nconsidered a surgical emergency because irreversible muscle necrosis can begin\\nwithin 6 hours of injury. Clinical examination findings of ACS consist of the 5 Ps:Box 2\\nOrthopaedic Trauma Association open fracture classification\\nSkin'),\n",
       " Document(metadata={'source': 'MSK_trauma.pdf', 'page': 5}, page_content='Skin\\n1. Can be approximated2. Cannot be approximated\\n3. Extensive degloving\\nMuscle\\n1. No muscle in area, no appreciable muscle necrosis, some muscle injury with intact muscle\\nfunction\\n2. Loss of muscle but the muscle remains functional, some localized necrosis in the zone of\\ninjury that requires excision, intact muscle-tendon unit\\n3. Dead muscle, loss of muscle function, partial or complete compartment excision, complete\\ndisruption of a muscle-tendon unit, muscle defect does not approximate'),\n",
       " Document(metadata={'source': 'MSK_trauma.pdf', 'page': 5}, page_content='Arterial\\n1. No injury\\n2. Artery injury without ischemia\\n3. Artery injury with distal ischemia\\nContamination\\n1. None or minimal contamination2. Surface contamination (easily removed; not embedded in bone or deep soft tissues)\\n3a. Imbedded in bone or deep soft tissues\\n3b. High-risk environmental conditions (eg, barnyard, fecal, dirty water)\\nBone loss\\n1. None\\n2. Bone missing or devascularized but still some contact between proximal and distal\\nfragments\\n3. Segmental bone loss'),\n",
       " Document(metadata={'source': 'MSK_trauma.pdf', 'page': 5}, page_content='fragments\\n3. Segmental bone loss\\nFrom Agel J, Evans AR, Marsh JL, et al. The OTA open fracture classification. J Orthop Trauma\\n2013;27(7):379–84; with permission.Musculoskeletal Trauma 1123'),\n",
       " Document(metadata={'source': 'MSK_trauma.pdf', 'page': 6}, page_content='pain out of proportion, pallor, paresthesia, pulselessness, and paralysis in the setting\\nof a swollen extremity. The extremity often feels tight and the soft tissues are lesscompressible than the contralateral limb. ACS remains a clinical diagnosis; however,\\ntools to measure intramuscular pressure and tissue oxygenation can be used to'),\n",
       " Document(metadata={'source': 'MSK_trauma.pdf', 'page': 6}, page_content='confirm the clinical diagnosis, which can be extremely useful in making the diagnosisin the obtunded patient. When obtaining intramuscular pressure measurements, a dif-\\nference of less than 30 mm Hg from the diastolic blood pressure is concerning for\\nACS. Once ACS is diagnosed, emergent fasciotomies are performed to relieve thepressure and prevent further myoneural ischemia.\\nVascular Injury'),\n",
       " Document(metadata={'source': 'MSK_trauma.pdf', 'page': 6}, page_content='Vascular Injury\\nA vascular injury should be suspected if the injured extremity shows signs of pallor,reduced temperature, prolonged capillary refill, and reduced pulses. Before further ex-\\namination, gross limb length and alignment should be obtained and the limb re-\\nexamined. The ankle-brachial index should be obtained if a vascular injury is sus-pected with a value of 0.90 or lower having a high positive predictive value for an asso-ciated vascular injury.'),\n",
       " Document(metadata={'source': 'MSK_trauma.pdf', 'page': 6}, page_content='25Re-establishment of the blood supply to the limb is an\\nemergency because muscle necrosis begins to occur within 6 hours of injury. Close\\ncoordination with the vascular surgeon is vital because each surgical plan dependson the other. The sequence of the surgical procedure must be discussed to maximize\\ncare and minimize the ischemia time and risk of further injury to the patient and\\nvascular repair if skeletal stabilization is done after the vascular repair.\\nMajor Joint Dislocations'),\n",
       " Document(metadata={'source': 'MSK_trauma.pdf', 'page': 6}, page_content='Major Joint Dislocations\\nThe close proximity and tethering of neurovascular structures to joints places them atsignificant risk of injury in joint dislocation. Localized soft-tissue swelling, distal ex-tremity edema, abnormal neurology or the signs of vascular compromise are all\\nmarkers for a high index of suspicion of a major joint dislocation. Expedient joint relo-'),\n",
       " Document(metadata={'source': 'MSK_trauma.pdf', 'page': 6}, page_content='cation and stabilization in a splint or traction may be necessary. Unlike most disloca-tions, a hip dislocation is considered an orthopedic emergency and should be reducedimmediately on recognition because an increased time to reduction is associated with\\nsubsequent development of avascular necrosis.\\n26\\nSCORING SYSTEMS: ARE THEY RELIABLE?\\nThe decision to perform limb salvage or an amputation remains difficult. Scoring sys-tems, such as the Mangled Extremity Severity Score (MESS)'),\n",
       " Document(metadata={'source': 'MSK_trauma.pdf', 'page': 6}, page_content='27and Limb Salvage In-\\ndex (LSI),28have been developed to help guide surgeons in their decision-making\\nprocess. However, the decision to salvage or amputate a limb often requires more fac-\\ntors to be considered than those commonly used in the scoring systems. As a result,\\ntheir utility came into question and, in 2001, Bosse and colleagues29found that, out of'),\n",
       " Document(metadata={'source': 'MSK_trauma.pdf', 'page': 6}, page_content='all scoring systems evaluated, the MESS; the LSI; the Predictive Salvage Index; theNerve Injury, Ischemia, Soft-Tissue Injury, Skeletal Injury, Shock, and Age of Patient\\nScore; and the Hannover Fracture scale-98, none were able to predict the need for\\namputation in a large, multicenter prospective observational study. In 2008, Ly andcolleagues\\n30followed the same set of patients and found that the same scoring sys-'),\n",
       " Document(metadata={'source': 'MSK_trauma.pdf', 'page': 6}, page_content='tems also lacked the ability to predict outcome and patient recovery following high-\\nenergy lower extremity trauma. Scoring systems also do not seem to have utilitywhen treating severe combat injuries, as demonstrated by Sheean and colleagues.\\n31\\nOther clinical examination findings have been considered in the decision-making\\nprocess, such as the presence of plantar sensation on presentation. In fact, theStinner & Edwards 1124'),\n",
       " Document(metadata={'source': 'MSK_trauma.pdf', 'page': 7}, page_content='absence of plantar sensation has historically been a primary reason for orthopedic and\\ngeneral surgeons to consider acute amputation.32However, an analysis performed by\\nBosse and colleagues33of subjects presenting without plantar sensation compared\\nwith matched controls following high-energy trauma demonstrated no difference in\\noutcomes between groups at 2 years. Therefore, the treating surgeon should use allfactors that are available in helping to make the decision and not hang their hat on'),\n",
       " Document(metadata={'source': 'MSK_trauma.pdf', 'page': 7}, page_content='1 scoring system or 1 primary clinical examination finding. In addition, when time per-\\nmits, that is, the patient is not in extremis, it is always helpful to confer with colleagues,other members of the trauma team, and, when able, the patient before the decision is\\nmade to amputate or salvage a severely injured extremity because there may be other\\nfactors to consider.\\nWHEN SHOULD IT BE FIXED?'),\n",
       " Document(metadata={'source': 'MSK_trauma.pdf', 'page': 7}, page_content='factors to consider.\\nWHEN SHOULD IT BE FIXED?\\nOne of the frequent discussions among orthopedic and general surgeons revolvesaround the appropriate timing to stabilize fractures. Although the discussion is often\\nshort and indications for urgent operative stabilization in those with isolated extrem-'),\n",
       " Document(metadata={'source': 'MSK_trauma.pdf', 'page': 7}, page_content='ities is rather clear, the discussion can be longer and may involve multiple servicesin the polytrauma patient because more factors must be considered to ensure thatthe surgical intervention does not increase patient morbidity. Ideally, the right surgery\\nis performed for each patient, personally tailored to their physiologic status. The term'),\n",
       " Document(metadata={'source': 'MSK_trauma.pdf', 'page': 7}, page_content='used to describe this is the application of early appropriate care (EAC). However, toapply EAC, what constitutes appropriate care must be understood. To do so, it is help-\\nful to understand both sides of the historical argument between early total care (ETC)\\nand damage control orthopedics (DCO), which can be used to selectively provideappropriate care, depending on the patient’s clinical status and response to resusci-'),\n",
       " Document(metadata={'source': 'MSK_trauma.pdf', 'page': 7}, page_content='tation. Although most research evaluating optimal timing of fracture fixation is\\ncentered on the femur, the principles can be applied to fractures of other long bonesand the pelvic ring.\\nEarly Total Care\\nPatients with unstable fractures of the femur, pelvis, acetabulum, and spine are oftenforced into a recumbent position, which predisposes them to pulmonary complica-\\ntions and prolonged systemic inflammation. Early stabilization of these injuries can'),\n",
       " Document(metadata={'source': 'MSK_trauma.pdf', 'page': 7}, page_content='lead to improved pain relief and mobility. Several studies have clearly demonstratedthe benefits of ETC. Harvin and colleagues\\n34published their decade of experience\\ncomparing femur fractures definitively stabilized with intramedullary nails before and\\nafter 24 hours. After adjusting for anatomic (Injury Severity Score [ISS]) and physio-logic (Revised Trauma Score) indices, early fracture fixation was independently asso-'),\n",
       " Document(metadata={'source': 'MSK_trauma.pdf', 'page': 7}, page_content='ciated with a reduction in pulmonary complications by nearly 60%. It was also\\nassociated with a reduction in ventilator days, hospital length of stay, and overall hos-pital charges. These results are similar to those demonstrated by Vallier and col-leagues,\\n35who compared definitive fixation of unstable femur, acetabulum, pelvis,\\nand thoracolumbar fractures performed before and after 24 hours. After adjusting'),\n",
       " Document(metadata={'source': 'MSK_trauma.pdf', 'page': 7}, page_content='for age and ISS, days in the intensive care unit and total hospital stay were lowerwith early fixation. In addition, there were greater than 10% fewer overall complica-\\ntions (24% vs 35.8%), and lower rates of acute respiratory distress syndrome\\n(ARDS), pneumonia, and sepsis in those undergoing early versus delayed fixation.\\nAs this evidence suggests, early definitive treatment may be safely used for patients'),\n",
       " Document(metadata={'source': 'MSK_trauma.pdf', 'page': 7}, page_content='with multiple injuries. However, ETC is not ideal for all patients because there is a clear\\nsubset of patients who benefit from DCO.Musculoskeletal Trauma 1125'),\n",
       " Document(metadata={'source': 'MSK_trauma.pdf', 'page': 8}, page_content='Damage Control Orthopedics\\nAs the pendulum swung toward ETC, it was realized that not all patients did well hav-\\ning their fractures undergo definitive stabilization early. In fact, some types of patientsseemed to do quite poorly with ETC. It became apparent that in certain patients,\\nparticularly those with pulmonary or head injuries, a less aggressive approach to frac-'),\n",
       " Document(metadata={'source': 'MSK_trauma.pdf', 'page': 8}, page_content='ture fixation might be needed. Trauma causes a sustained response of the immunesystem and the early hyperinflammatory response is often followed by a hypoinflam-\\nmatory stage. In the polytrauma patient, extended surgery, which can lead to\\nincreased blood loss, hypothermia, and surgical trauma, can result in an excessive in-flammatory reaction, which has been termed the second hit. In these patients, exten-\\nsive surgical procedures can overwhelm the immune system, which can trigger a'),\n",
       " Document(metadata={'source': 'MSK_trauma.pdf', 'page': 8}, page_content='pulmonary complication, such as ARDS, or multiple organ failure.\\n36\\nOne alternative is delayed fracture care, that is, splinting or traction, of unstable\\nfractures and performing surgical skeletal stabilization days to weeks later. Before\\nthe advent of modern surgical skeletal stabilization techniques, this was the norm.There are, however, significant disadvantages to delayed fracture care. In patientswithout adequate stabilization, in the case of the femur this would usually involve'),\n",
       " Document(metadata={'source': 'MSK_trauma.pdf', 'page': 8}, page_content='some form of skeletal traction, patients cannot be mobilized. As a result, they are at\\nan increased risk for pulmonary complications and pressure ulcers. With the advance-ment in surgical skeletal stabilization techniques, there was a shift toward aggressive\\nearly stabilization of extremity fractures but, as alluded to earlier, ETC is not appro-\\npriate for everyone. Thus, the emergence of DCO.\\nDCO involves doing the necessary surgical interventions to stabilize the fracture to'),\n",
       " Document(metadata={'source': 'MSK_trauma.pdf', 'page': 8}, page_content='minimize excessive blood loss, improve pain, and promote mobilization. This usually in-\\nvolves procedures such as external fixation of long bone fractures or unstable pelvic ringinjuries. Through the placement of external fixation in the acute period, that is, avoidingopen and often lengthy and/or bloody surgical procedures, the second hit is theoretically\\navoided and definitive reconstruction can occur at a later point after the patient’s phys-'),\n",
       " Document(metadata={'source': 'MSK_trauma.pdf', 'page': 8}, page_content='iologic parameters have improved. The benefits of this strategy on the immune systemhave been demonstrated by Pape and colleagues.\\n37In a prospective, randomized, multi-\\ncenter study, 35 polytrauma subjects (ISS >16) with a diaphyseal femur fracture were ran-\\ndomized to either ETC or DCO, and serum inflammatory markers were trended over time.In those with ETC (intramedullary nail), there was a sustained increase in serum inflamma-'),\n",
       " Document(metadata={'source': 'MSK_trauma.pdf', 'page': 8}, page_content='tory markers, which was not seen in the DCO group following both the initial external fix-\\nation and subsequent conversion to definitive fixation with an intramedullary nail.\\nIn a retrospective study, Harwood and colleagues\\n38compared the Systemic Inflam-\\nmatory Response Syndrome (SIRS) Score and Marshall multiorgan dysfunction score'),\n",
       " Document(metadata={'source': 'MSK_trauma.pdf', 'page': 8}, page_content='of subjects with femur fractures treated with either ETC or DCO. It was not surprisingthat the DCO group had more severe injuries based on the new ISS, and more headand thoracic injuries. Despite this, they had a smaller, shorter postoperative SIRS and\\ndid not suffer significantly more pronounced organ failure than the ETC group. Interest-'),\n",
       " Document(metadata={'source': 'MSK_trauma.pdf', 'page': 8}, page_content='ingly, those in the DCO group who underwent conversion to an intramedullary nail whentheir SIRS score was raised suffered the most pronounced subsequent inflammatory\\nresponse and organ failure, which emphasizes the impact that the second hit can have\\nand the importance of planning the definitive fixation based on physiologic improvement.\\nEarly Appropriate Care: When to Choose Early Total Care Versus Damage Control\\nOrthopedics'),\n",
       " Document(metadata={'source': 'MSK_trauma.pdf', 'page': 8}, page_content='Orthopedics\\nWhat is very clear is that stable patients should be treated with ETC, whereas unstable\\npatients should undergo DCO. The challenge has been defining the appropriateStinner & Edwards 1126'),\n",
       " Document(metadata={'source': 'MSK_trauma.pdf', 'page': 9}, page_content='clinical indications to perform DCO or ETC in the borderline patient. Various definitions\\nof the borderline patient have been made to include that by Pape and colleagues,37\\nwho define it by the following: ISS greater than 40, multiple injuries (ISS >20) in com-\\nbination with thorax trauma, multiple injuries in combination with severe abdominal or'),\n",
       " Document(metadata={'source': 'MSK_trauma.pdf', 'page': 9}, page_content='pelvic injury, hemorrhagic shock at the moment of administration, moderate or severehead trauma, radiographic evidence of pulmonary contusion, bilateral femur fractures,\\nor a body temperature below 35\\n/C14C.36D’Alleyrand and O’Toole39have proposed 3\\ncommon indicators for DCO of borderline patients that they use at the R. Adams Cow-ley Shock Trauma Center in Baltimore, MD: (1) closed head injury, (2) poor response to'),\n",
       " Document(metadata={'source': 'MSK_trauma.pdf', 'page': 9}, page_content='resuscitation in the first 12 hours, and (3) poor respiratory status at the time of fracture\\ntreatment.\\nIt is helpful to know where these indications have come from and what defines an\\nappropriate response to resuscitation to safely apply them. One increasingly used\\nmethod of assessing response to resuscitation is trending lactate levels. In patients'),\n",
       " Document(metadata={'source': 'MSK_trauma.pdf', 'page': 9}, page_content='undergoing definitive fixation of a femur fracture with an intramedullary nail within24 hours of injury, admission lactate is significantly associated with pulmonary com-\\nplications when other factors such as age, Glasgow Coma Scale, and AIS were\\ncontrolled. However, preoperative lactate was not found to be a risk factor.\\n40A me-\\ndian preoperative lactate of 2.8 mmol/L was not associated with increased pulmonary\\ncomplications, as opposed to previous publications.41These results are similar to'),\n",
       " Document(metadata={'source': 'MSK_trauma.pdf', 'page': 9}, page_content='those seen by Vallier and colleagues35,42in which admission lactate, in addition to\\nthe severity of the abdominal and thoracic injuries, contribute most to the develop-\\nment of pulmonary morbidity. It is likely that the trend in lactate, that is, a lactate level'),\n",
       " Document(metadata={'source': 'MSK_trauma.pdf', 'page': 9}, page_content='improving and approaching 2.5 mmol/L, demonstrates an adequate response toresuscitation and, therefore, can lead to safe application of ETC. On the contrary, inthose with closed head injuries, severe abdominal, or severe thoracic injuries, DCO\\nshould be considered.\\nThis was also demonstrated in a review by Vallier and colleagues\\n42of subjects with\\npelvis, acetabulum, spine, and/or proximal or diaphyseal femur fractures treated sur-'),\n",
       " Document(metadata={'source': 'MSK_trauma.pdf', 'page': 9}, page_content='gically. Pulmonary complications occurred in 12% of subjects with 8.2% developing\\npneumonia. Lactate levels were greater with pulmonary complications and were thesingle most specific predictor of complications. An uncomplicated course was asso-\\nciated with absence of a chest injury and definitive fixation within 24 or 48 hours. The'),\n",
       " Document(metadata={'source': 'MSK_trauma.pdf', 'page': 9}, page_content='investigators concluded that complications can be minimized when isolated fracturesare treated on early and, when patients have injuries to other body systems and/or se-vere hemorrhage, DCO may be advisable to optimize outcomes.\\nIn summary, if the patient demonstrates any physiologic signs of end-organ hypo-\\nperfusion, DCO should be pursued. It is also important for the orthopedic surgeon tocommunicate with both the general surgeon and the anesthetist so that care is opti-'),\n",
       " Document(metadata={'source': 'MSK_trauma.pdf', 'page': 9}, page_content='mized. This allows the treatment plan to be altered in an effort to optimize the patient’s\\noutcomes if the patient’s physiologic parameters change throughout the resuscitationprocess or surgical procedure.\\nSUMMARY\\nSevere extremity injuries are not only a challenge to treat but doing so results in high\\nresource utilization and often high levels of levels of disability.3,43The decision to pur-'),\n",
       " Document(metadata={'source': 'MSK_trauma.pdf', 'page': 9}, page_content='sue DCO versus ETC may lead to a shorter hospital stay and fewer complications, butthere is likely more that surgeons can do optimize patient outcomes throughout the\\nentire care continuum beyond the decisions made or actions taken within the first\\nfew hours following injury. The best available data comparing outcomes of limbMusculoskeletal Trauma 1127'),\n",
       " Document(metadata={'source': 'MSK_trauma.pdf', 'page': 10}, page_content='salvage and amputees from the Lower Extremity Assessment Project (LEAP) Study\\nGroup found no difference in outcomes between groups at both 2 and 7 years.They did, however, identify several predictors of poor outcome, regardless of group,\\nto include a poor social support network and low self-efficacy.\\n3,44This concept of self-\\nefficacy and social support network is something that many orthopedic surgeons havenot paid much attention to in the past. Multiple studies have highlighted the impor-'),\n",
       " Document(metadata={'source': 'MSK_trauma.pdf', 'page': 10}, page_content='tance of various factors in a patient’s overall recovery process, such as access to\\nvocational and mental health support.\\n45In addition, certain psychological factors\\nplay a significant role in predicting pain following trauma.46,47It is important that ortho-\\npedic surgeons and members of the trauma team take their level of care a step further\\nbeyond saving life and limb, and take these factors into consideration when attempt-ing to optimize patient outcomes.\\nREFERENCES'),\n",
       " Document(metadata={'source': 'MSK_trauma.pdf', 'page': 10}, page_content='REFERENCES\\n1. WISQARS (Web-based Injury Statistics Query and Reporting System), Injury\\nCenter, CDC. Available at: https://www.cdc.gov/injury/wisqars/index.html . Ac-\\ncessed March 2, 2017.\\n2.Miller TR, Pindus NM, Douglass JB, et al. Databook on nonfatal injury: incidence,\\ncosts, and consequences. Washington, DC: Urban Institute Press; 1995 .\\n3.MacKenzie EJ, Bosse MJ, Pollak AN, et al. Long-term persistence of disability'),\n",
       " Document(metadata={'source': 'MSK_trauma.pdf', 'page': 10}, page_content='following severe lower-limb trauma. Results of a seven-year follow-up. J Bone\\nJoint Surg Am 2005;87(8):1801–9 .\\n4.Mackenzie EJ, Rivara FP, Jurkovich GJ, et al. The impact of trauma-center care\\non functional outcomes following major lower-limb trauma. J Bone Joint SurgAm 2008;90(1):101–9 .\\n5.Morshed S, Knops S, Jurkovich GJ, et al. The impact of trauma-center care on\\nmortality and function following pelvic ring and acetabular injuries. J Bone Joint\\nSurg Am 2015;97(4):265–72 .'),\n",
       " Document(metadata={'source': 'MSK_trauma.pdf', 'page': 10}, page_content='Surg Am 2015;97(4):265–72 .\\n6.Sielatycki JA, Sawyer JR, Mir HR. Supply and demand analysis of the orthopae-\\ndic trauma surgeon workforce in the United States. J Orthop Trauma 2016;30(5):278–83 .\\n7. American College of Surgeons Committee on Trauma. Statement on trauma cen-\\nter designation based upon system need. Bull Am Coll Surg 2015;100(1):51–2.\\nAvailable at: http://www.ncbi.nlm.nih.gov/pubmed/25626271 . Accessed March\\n2, 2017.'),\n",
       " Document(metadata={'source': 'MSK_trauma.pdf', 'page': 10}, page_content='2, 2017.\\n8. Stinner DJ, Johnson AE, Pollak A, et al. “Zero preventable deaths and minimizing\\ndisability” – the challenge set forth by the national academies of sciences, engi-\\nneering, and medicine. J Orthop Trauma 2017. http://dx.doi.org/10.1097/BOT.\\n0000000000000806 .\\n9. Trunkey DD. Trauma. Accidental and intentional injuries account for more years of'),\n",
       " Document(metadata={'source': 'MSK_trauma.pdf', 'page': 10}, page_content='life lost in the U.S. than cancer and heart disease. Among the prescribed rem-edies are improved preventive efforts, speedier surgery and further research.\\nSci Am 1983;249(2):28–35. Available at: http://www.ncbi.nlm.nih.gov/pubmed/\\n6623052 . Accessed March 2, 2017.\\n10. Baue AE. Multiple, progressive, or sequential systems failure. A syndrome of the\\n1970s. Arch Surg 1975;110(7):779–81. Available at: http://www.ncbi.nlm.nih.gov/\\npubmed/1079720 . Accessed March 2, 2017.'),\n",
       " Document(metadata={'source': 'MSK_trauma.pdf', 'page': 10}, page_content='pubmed/1079720 . Accessed March 2, 2017.\\n11.Giannakopoulos GF, Saltzherr TP , Beenen LFM, et al. Missed injuries during the\\ninitial assessment in a cohort of 1124 level-1 trauma patients. Injury 2012;43(9):\\n1517–21 .Stinner & Edwards 1128'),\n",
       " Document(metadata={'source': 'MSK_trauma.pdf', 'page': 11}, page_content='12.Huber-Wagner S, Lefering R, Qvick L-M, et al. Effect of whole-body CT during\\ntrauma resuscitation on survival: a retrospective, multicentre study. Lancet2009;373(9673):1455–61 .\\n13. Brodie S, Hodgetts TJ, Ollerton J, et al. Tourniquet use in combat trauma: UK mil-\\nitary experience. J R Army Med Corps 2007;153(4):310–3. Available at: http://\\nwww.ncbi.nlm.nih.gov/pubmed/18619170 . Accessed March 2, 2017.\\n14.Kragh JF , Walters TJ, Baer DG, et al. Survival with emergency tourniquet use to'),\n",
       " Document(metadata={'source': 'MSK_trauma.pdf', 'page': 11}, page_content='stop bleeding in major limb trauma. Ann Surg 2009;249(1):1–7 .\\n15. Gustilo RB, Anderson JT. Prevention of infection in the treatment of one thousand\\nand twenty-five open fractures of long bones: retrospective and prospective an-\\nalyses. J Bone Joint Surg Am 1976;58(4):453–8. Available at: http://www.ncbi.\\nnlm.nih.gov/pubmed/773941 . Accessed March 2, 2017.\\n16.Agel J, Evans AR, Marsh JL, et al. The OTA open fracture classification. J Orthop\\nTrauma 2013;27(7):379–84 .'),\n",
       " Document(metadata={'source': 'MSK_trauma.pdf', 'page': 11}, page_content='Trauma 2013;27(7):379–84 .\\n17.Lack WD, Karunakar MA, Angerame MR, et al. Type III open tibia fractures.\\nJ Orthop Trauma 2014;29(1):1 .\\n18.Murray CK, Obremskey WT, Hsu JR, et al. Prevention of infections associated with\\ncombat-related extremity injuries. J Trauma 2011;71(2 Suppl 2):S235–57 .\\n19.D’Alleyrand J-CG, Manson TT, Dancy L, et al. Is time to flap coverage of open\\ntibial fractures an independent predictor of flap-related complications?J Orthop Trauma 2014;28(5):288–93 .'),\n",
       " Document(metadata={'source': 'MSK_trauma.pdf', 'page': 11}, page_content='20. Powers WF, Hensley CD. Circulating blood volume changes incident to major or-\\nthopedic surgery. J Am Med Assoc 1959;169(6):545–7. Available at: http://www.\\nncbi.nlm.nih.gov/pubmed/13620501 . Accessed March 2, 2017.\\n21. Clarke R, Topley E, Flear CT. Assessment of blood-loss in civilian trauma. Lancet\\n1955;268(6865):629–38. Available at: http://www.ncbi.nlm.nih.gov/pubmed/\\n14354953 . Accessed March 2, 2017.\\n22. Lieurance R, Benjamin JB, Rappaport WD. Blood loss and transfusion in patients'),\n",
       " Document(metadata={'source': 'MSK_trauma.pdf', 'page': 11}, page_content='with isolated femur fractures. J Orthop Trauma 1992;6(2):175–9. Available at:\\nhttp://www.ncbi.nlm.nih.gov/pubmed/1602337 . Accessed March 2, 2017.\\n23.Even JL, Richards JE, Crosby CG, et al. Preoperative skeletal versus cutaneous\\ntraction for femoral shaft fractures treated within 24 hours. J Orthop Trauma 2012;\\n26(10):e177–82 .\\n24.Giannoudis PV, Grotz MRW, Tzioupis C, et al. Prevalence of pelvic fractures,\\nassociated injuries, and mortality: the United Kingdom perspective. J Trauma'),\n",
       " Document(metadata={'source': 'MSK_trauma.pdf', 'page': 11}, page_content='2007;63(4):875–83 .\\n25. Mills WJ, Barei DP, McNair P . The value of the ankle-brachial index for diagnosing\\narterial injury after knee dislocation: a prospective study. J Trauma 2004;56(6):\\n1261–5. Available at: http://www.ncbi.nlm.nih.gov/pubmed/15211135 . Accessed\\nMarch 2, 2017.\\n26.Sahin V , Karakas E, Aksu S, et al. Traumatic dislocation and fracture-dislocation of\\nthe hip: a long-term follow-up study. J Trauma 2003;54(3):520–9 .'),\n",
       " Document(metadata={'source': 'MSK_trauma.pdf', 'page': 11}, page_content='27. Johansen K, Daines M, Howey T, et al. Objective criteria accurately predict\\namputation following lower extremity trauma. J Trauma 1990;30(5):568–72 [dis-\\ncussion: 572–3]. Available at: http://www.ncbi.nlm.nih.gov/pubmed/2342140 . Ac-\\ncessed March 2, 2017.\\n28. Russell WL, Sailors DM, Whittle TB, et al. Limb salvage versus traumatic amputa-\\ntion. A decision based on a seven-part predictive index. Ann Surg 1991;213(5):'),\n",
       " Document(metadata={'source': 'MSK_trauma.pdf', 'page': 11}, page_content='473–80 [discussion: 480–1]. Available at: http://www.ncbi.nlm.nih.gov/pubmed/\\n2025068 . Accessed March 2, 2017.Musculoskeletal Trauma 1129'),\n",
       " Document(metadata={'source': 'MSK_trauma.pdf', 'page': 12}, page_content='29. Bosse MJ, MacKenzie EJ, Kellam JF , et al. A prospective evaluation of the clinical\\nutility of the lower-extremity injury-severity scores. J Bone Joint Surg Am 2001;83-A(1):3–14. Available at: http://www.ncbi.nlm.nih.gov/pubmed/11205855 .\\n30.Ly TV, Travison TG, Castillo RC, et al. Ability of lower-extremity injury severity\\nscores to predict functional outcome after limb salvage. J Bone Joint Surg Am\\n2008;90(8):1738–43 .'),\n",
       " Document(metadata={'source': 'MSK_trauma.pdf', 'page': 12}, page_content='2008;90(8):1738–43 .\\n31.Sheean AJ, Krueger CA, Napierala MA, et al, Skeletal Trauma and Research Con-\\nsortium (STReC). Evaluation of the mangled extremity severity score in combat-\\nrelated type III open tibia fracture. J Orthop Trauma 2014;28(9):523–6 .\\n32. MacKenzie EJ, Bosse MJ, Kellam JF, et al. Factors influencing the decision to\\namputate or reconstruct after high-energy lower extremity trauma. J Trauma2002;52(4):641–9. Available at: http://www.ncbi.nlm.nih.gov/pubmed/11956376 .'),\n",
       " Document(metadata={'source': 'MSK_trauma.pdf', 'page': 12}, page_content='Accessed March 2, 2017.\\n33.Bosse MJ, McCarthy ML, Jones AL, et al. The insensate foot following severe\\nlower extremity trauma: an indication for amputation? J Bone Joint Surg Am\\n2005;87(12):2601–8 .\\n34.Harvin JA, Harvin WH, Camp E, et al. Early femur fracture fixation is associated\\nwith a reduction in pulmonary complications and hospital charges: a decade ofexperience with 1,376 diaphyseal femur fractures. J Trauma Acute Care Surg\\n2012;73(6):1442–8 .'),\n",
       " Document(metadata={'source': 'MSK_trauma.pdf', 'page': 12}, page_content='2012;73(6):1442–8 .\\n35.Vallier HA, Super DM, Moore TA, et al. Do patients with multiple system injury\\nbenefit from early fixation of unstable axial fractures? The effects of timing of sur-\\ngery on initial hospital course. J Orthop Trauma 2013;27(7):405–12 .\\n36.Lichte P, Kobbe P , Dombroski D, et al. Damage control orthopedics: current ev-\\nidence. Curr Opin Crit Care 2012;18(6):647–50 .\\n37.Pape HC, Grimme K, van Griensven M, et al, EPOFF Study Group. Impact of in-'),\n",
       " Document(metadata={'source': 'MSK_trauma.pdf', 'page': 12}, page_content='tramedullary instrumentation versus damage control for femoral fractures on im-munoinflammatory parameters: prospective randomized analysis by the EPOFFStudy Group. J Trauma 2003;55(1):7–13 .\\n38.Harwood PJ, Giannoudis PV , van Griensven M, et al. Alterations in the systemic\\ninflammatory response after early total care and damage control procedures\\nfor femoral shaft fracture in severely injured patients. J Trauma 2005;58(3):\\n446–52 .'),\n",
       " Document(metadata={'source': 'MSK_trauma.pdf', 'page': 12}, page_content='446–52 .\\n39.D’Alleyrand JCG, O’Toole RV . The evolution of damage control orthopedics. Cur-\\nrent evidence and practical applications of early appropriate care. Orthop ClinNorth Am 2013;44(4):499–507 .\\n40.Richards JE, Matuszewski PE, Griffin SM, et al. The role of elevated lactate as a\\nrisk factor for pulmonary morbidity after early fixation of femoral shaft fractures.\\nJ Orthop Trauma 2016;30(6):312–8 .\\n41. Crowl AC, Young JS, Kahler DM, et al. Occult hypoperfusion is associated with'),\n",
       " Document(metadata={'source': 'MSK_trauma.pdf', 'page': 12}, page_content='increased morbidity in patients undergoing early femur fracture fixation.\\nJ Trauma 2000;48(2):260–7. Available at: http://www.ncbi.nlm.nih.gov/pubmed/\\n10697084 . Accessed March 2, 2017.\\n42.Vallier HA, Wang X, Moore TA, et al. Timing of orthopaedic surgery in multiple\\ntrauma patients: development of a protocol for early appropriate care. J Orthop\\nTrauma 2013;27(10):543–51 .\\n43.Masini BD, Waterman SM, Wenke JC, et al. Resource utilization and disability'),\n",
       " Document(metadata={'source': 'MSK_trauma.pdf', 'page': 12}, page_content='outcome assessment of combat casualties from operation Iraqi freedom and\\noperation enduring freedom. J Orthop Trauma 2009;23(4):261–6 .Stinner & Edwards 1130'),\n",
       " Document(metadata={'source': 'MSK_trauma.pdf', 'page': 13}, page_content='44.Bosse MJ, MacKenzie EJ, Kellam JF , et al. An analysis of outcomes of reconstruc-\\ntion or amputation after leg-threatening injuries. N Engl J Med 2002;347(24):1924–31 .\\n45.Archer KR, Castillo RC, MacKenzie EJ, et al, LEAP Study Group. Perceived need\\nand unmet need for vocational, mental health, and other support services aftersevere lower-extremity trauma. Arch Phys Med Rehabil 2010;91(5):774–80 .\\n46.Vranceanu A-M, Bachoura A, Weening A, et al. Psychological factors predict'),\n",
       " Document(metadata={'source': 'MSK_trauma.pdf', 'page': 13}, page_content='disability and pain intensity after skeletal trauma. J Bone Joint Surg Am 2014;96(3):e20 .\\n47.Castillo RC, Wegener ST, Heins SE, et al. Longitudinal relationships between anx-\\niety, depression, and pain: results from a two-year cohort study of lower extremitytrauma patients. Pain 2013;154(12):2860–6 .Musculoskeletal Trauma 1131\\nView publication stats')]"
      ]
     },
     "execution_count": 12,
     "metadata": {},
     "output_type": "execute_result"
    }
   ],
   "source": [
    "final_documents"
   ]
  },
  {
   "cell_type": "code",
   "execution_count": 13,
   "metadata": {},
   "outputs": [
    {
     "name": "stdout",
     "output_type": "stream",
     "text": [
      "page_content='See discussions, st ats, and author pr ofiles f or this public ation at : https://www .researchgate.ne t/public ation/320159486\n",
      "Surgical Management of Musculoskeletal T rauma\n",
      "Article    in  Surgical Clinics of North Americ a · Oct ober 2017\n",
      "DOI: 10.1016/ j.suc.2017.06.005\n",
      "CITATIONS\n",
      "35READS\n",
      "1,461\n",
      "2 author s:\n",
      "Daniel Stinner\n",
      "Vanderbilt Univ ersity\n",
      "132 PUBLICA TIONS    2,847  CITATIONS    \n",
      "SEE PROFILE\n",
      "Dafy dd S Edw ards\n",
      "The R oyal London Hospit al\n",
      "32 PUBLICA TIONS    569 CITATIONS    \n",
      "SEE PROFILE' metadata={'source': 'MSK_trauma.pdf', 'page': 0}\n"
     ]
    }
   ],
   "source": [
    "print(final_documents[0])"
   ]
  },
  {
   "cell_type": "code",
   "execution_count": 14,
   "metadata": {},
   "outputs": [
    {
     "name": "stdout",
     "output_type": "stream",
     "text": [
      "[Document(metadata={}, page_content='Rommel was a highly decorated officer in World War I and was awarded the Pour le Mérite for his'), Document(metadata={}, page_content='le Mérite for his actions on the Italian Front. In 1937, he published his classic book on military'), Document(metadata={}, page_content='book on military tactics, Infantry Attacks, drawing on his experiences in that war. In World War'), Document(metadata={}, page_content='war. In World War II, he commanded the 7th Panzer Division during the 1940 invasion of France. His'), Document(metadata={}, page_content='of France. His leadership of German and Italian forces in the North African campaign established'), Document(metadata={}, page_content='established his reputation as one of the ablest tank commanders of the war, and earned him the'), Document(metadata={}, page_content='and earned him the nickname der Wüstenfuchs, \"the Desert Fox\". Among his British adversaries he had'), Document(metadata={}, page_content='adversaries he had a reputation for chivalry, and his phrase \"war without hate\" has been'), Document(metadata={}, page_content='hate\" has been uncritically used to describe the North African campaign.[2] A number of historians'), Document(metadata={}, page_content='of historians have since rejected the phrase as a myth and uncovered numerous examples of German'), Document(metadata={}, page_content='examples of German war crimes and abuses towards enemy soldiers and native populations in Africa'), Document(metadata={}, page_content='in Africa during the conflict.[3] Other historians note that there is no clear evidence Rommel was'), Document(metadata={}, page_content='evidence Rommel was involved or aware of these crimes,[4] with some pointing out that the war in'), Document(metadata={}, page_content='out that the war in the desert, as fought by Rommel and his opponents, still came as close to a'), Document(metadata={}, page_content='came as close to a clean fight as there was in World War II.[5] He later commanded the German'), Document(metadata={}, page_content='the German forces opposing the Allied cross-channel invasion of Normandy in June 1944.'), Document(metadata={}, page_content='After the Nazis gained power in Germany, Rommel gradually accepted the new regime. Historians have'), Document(metadata={}, page_content='Historians have given different accounts of the specific period and his motivations.[6] He was a'), Document(metadata={}, page_content='He was a supporter of Adolf Hitler, at least until near the end of the war, if not necessarily'), Document(metadata={}, page_content='if not necessarily sympathetic to the party and the paramilitary forces associated with it.[7] In'), Document(metadata={}, page_content='with it.[7] In 1944, Rommel was implicated in the 20 July plot to assassinate Hitler. Because of'), Document(metadata={}, page_content=\"Hitler. Because of Rommel's status as a national hero, Hitler wanted to eliminate him quietly\"), Document(metadata={}, page_content='him quietly instead of having him immediately executed, as many other plotters were. Rommel was'), Document(metadata={}, page_content='were. Rommel was given a choice between suicide, in return for assurances that his reputation would'), Document(metadata={}, page_content='reputation would remain intact and that his family would not be persecuted following his death, or'), Document(metadata={}, page_content='his death, or facing a trial that would result in his disgrace and execution; he chose the former'), Document(metadata={}, page_content='he chose the former and took a cyanide pill.[8] Rommel was given a state funeral, and it was'), Document(metadata={}, page_content='funeral, and it was announced that he had succumbed to his injuries from the strafing of his staff'), Document(metadata={}, page_content='of his staff car in Normandy.'), Document(metadata={}, page_content='Rommel became a larger-than-life figure in both Allied and Nazi propaganda, and in postwar popular'), Document(metadata={}, page_content='in postwar popular culture. Numerous authors portray him as an apolitical, brilliant commander and'), Document(metadata={}, page_content='commander and a victim of Nazi Germany, although other authors have contested this assessment and'), Document(metadata={}, page_content='this assessment and called it the \"Rommel myth\". Rommel\\'s reputation for conducting a clean war was'), Document(metadata={}, page_content='a clean war was used in the interest of the West German rearmament and reconciliation between the'), Document(metadata={}, page_content='between the former enemies – the United Kingdom and the United States on one side and the new'), Document(metadata={}, page_content=\"side and the new Federal Republic of Germany on the other. Several of Rommel's former subordinates,\"), Document(metadata={}, page_content='subordinates, notably his chief of staff Hans Speidel, played key roles in German rearmament and'), Document(metadata={}, page_content=\"rearmament and integration into NATO in the postwar era. The German Army's largest military base,\"), Document(metadata={}, page_content='military base, the Field Marshal Rommel Barracks, Augustdorf, and a third ship of Lütjens-class'), Document(metadata={}, page_content='of Lütjens-class destroyer of the German Navy are both named in his honour. His son Manfred Rommel'), Document(metadata={}, page_content='son Manfred Rommel was the longtime mayor of Stuttgart, Germany and namesake of Stuttgart Airport')]\n"
     ]
    }
   ],
   "source": [
    "speech = \"\"\n",
    "with open(\"speech.txt\") as f:\n",
    "    speech=f.read()\n",
    "\n",
    "text_splitter=RecursiveCharacterTextSplitter(chunk_size=100, chunk_overlap=20)\n",
    "text=text_splitter.create_documents([speech])\n",
    "print(text)    "
   ]
  },
  {
   "cell_type": "code",
   "execution_count": 15,
   "metadata": {},
   "outputs": [
    {
     "data": {
      "text/plain": [
       "[Document(metadata={'source': 'speech.txt'}, page_content='Rommel was a highly decorated officer in World War I and was awarded the Pour le Mérite for his actions on the Italian Front. In 1937, he published his classic book on military tactics, Infantry Attacks, drawing on his experiences in that war. In World War II, he commanded the 7th Panzer Division during the 1940 invasion of France. His leadership of German and Italian forces in the North African campaign established his reputation as one of the ablest tank commanders of the war, and earned him the nickname der Wüstenfuchs, \"the Desert Fox\". Among his British adversaries he had a reputation for chivalry, and his phrase \"war without hate\" has been uncritically used to describe the North African campaign.[2] A number of historians have since rejected the phrase as a myth and uncovered numerous examples of German war crimes and abuses towards enemy soldiers and native populations in Africa during the conflict.[3] Other historians note that there is no clear evidence Rommel was involved or aware of these crimes,[4] with some pointing out that the war in the desert, as fought by Rommel and his opponents, still came as close to a clean fight as there was in World War II.[5] He later commanded the German forces opposing the Allied cross-channel invasion of Normandy in June 1944.\\n\\nAfter the Nazis gained power in Germany, Rommel gradually accepted the new regime. Historians have given different accounts of the specific period and his motivations.[6] He was a supporter of Adolf Hitler, at least until near the end of the war, if not necessarily sympathetic to the party and the paramilitary forces associated with it.[7] In 1944, Rommel was implicated in the 20 July plot to assassinate Hitler. Because of Rommel\\'s status as a national hero, Hitler wanted to eliminate him quietly instead of having him immediately executed, as many other plotters were. Rommel was given a choice between suicide, in return for assurances that his reputation would remain intact and that his family would not be persecuted following his death, or facing a trial that would result in his disgrace and execution; he chose the former and took a cyanide pill.[8] Rommel was given a state funeral, and it was announced that he had succumbed to his injuries from the strafing of his staff car in Normandy.\\n\\nRommel became a larger-than-life figure in both Allied and Nazi propaganda, and in postwar popular culture. Numerous authors portray him as an apolitical, brilliant commander and a victim of Nazi Germany, although other authors have contested this assessment and called it the \"Rommel myth\". Rommel\\'s reputation for conducting a clean war was used in the interest of the West German rearmament and reconciliation between the former enemies – the United Kingdom and the United States on one side and the new Federal Republic of Germany on the other. Several of Rommel\\'s former subordinates, notably his chief of staff Hans Speidel, played key roles in German rearmament and integration into NATO in the postwar era. The German Army\\'s largest military base, the Field Marshal Rommel Barracks, Augustdorf, and a third ship of Lütjens-class destroyer of the German Navy are both named in his honour. His son Manfred Rommel was the longtime mayor of Stuttgart, Germany and namesake of Stuttgart Airport')]"
      ]
     },
     "execution_count": 15,
     "metadata": {},
     "output_type": "execute_result"
    }
   ],
   "source": [
    "from langchain_community.document_loaders import TextLoader\n",
    "\n",
    "loader = TextLoader('speech.txt')\n",
    "docs = loader.load()\n",
    "docs"
   ]
  },
  {
   "cell_type": "code",
   "execution_count": 16,
   "metadata": {},
   "outputs": [
    {
     "name": "stderr",
     "output_type": "stream",
     "text": [
      "Created a chunk of size 1291, which is longer than the specified 100\n",
      "Created a chunk of size 1003, which is longer than the specified 100\n"
     ]
    },
    {
     "data": {
      "text/plain": [
       "[Document(metadata={'source': 'speech.txt'}, page_content='Rommel was a highly decorated officer in World War I and was awarded the Pour le Mérite for his actions on the Italian Front. In 1937, he published his classic book on military tactics, Infantry Attacks, drawing on his experiences in that war. In World War II, he commanded the 7th Panzer Division during the 1940 invasion of France. His leadership of German and Italian forces in the North African campaign established his reputation as one of the ablest tank commanders of the war, and earned him the nickname der Wüstenfuchs, \"the Desert Fox\". Among his British adversaries he had a reputation for chivalry, and his phrase \"war without hate\" has been uncritically used to describe the North African campaign.[2] A number of historians have since rejected the phrase as a myth and uncovered numerous examples of German war crimes and abuses towards enemy soldiers and native populations in Africa during the conflict.[3] Other historians note that there is no clear evidence Rommel was involved or aware of these crimes,[4] with some pointing out that the war in the desert, as fought by Rommel and his opponents, still came as close to a clean fight as there was in World War II.[5] He later commanded the German forces opposing the Allied cross-channel invasion of Normandy in June 1944.'),\n",
       " Document(metadata={'source': 'speech.txt'}, page_content=\"After the Nazis gained power in Germany, Rommel gradually accepted the new regime. Historians have given different accounts of the specific period and his motivations.[6] He was a supporter of Adolf Hitler, at least until near the end of the war, if not necessarily sympathetic to the party and the paramilitary forces associated with it.[7] In 1944, Rommel was implicated in the 20 July plot to assassinate Hitler. Because of Rommel's status as a national hero, Hitler wanted to eliminate him quietly instead of having him immediately executed, as many other plotters were. Rommel was given a choice between suicide, in return for assurances that his reputation would remain intact and that his family would not be persecuted following his death, or facing a trial that would result in his disgrace and execution; he chose the former and took a cyanide pill.[8] Rommel was given a state funeral, and it was announced that he had succumbed to his injuries from the strafing of his staff car in Normandy.\"),\n",
       " Document(metadata={'source': 'speech.txt'}, page_content='Rommel became a larger-than-life figure in both Allied and Nazi propaganda, and in postwar popular culture. Numerous authors portray him as an apolitical, brilliant commander and a victim of Nazi Germany, although other authors have contested this assessment and called it the \"Rommel myth\". Rommel\\'s reputation for conducting a clean war was used in the interest of the West German rearmament and reconciliation between the former enemies – the United Kingdom and the United States on one side and the new Federal Republic of Germany on the other. Several of Rommel\\'s former subordinates, notably his chief of staff Hans Speidel, played key roles in German rearmament and integration into NATO in the postwar era. The German Army\\'s largest military base, the Field Marshal Rommel Barracks, Augustdorf, and a third ship of Lütjens-class destroyer of the German Navy are both named in his honour. His son Manfred Rommel was the longtime mayor of Stuttgart, Germany and namesake of Stuttgart Airport')]"
      ]
     },
     "execution_count": 16,
     "metadata": {},
     "output_type": "execute_result"
    }
   ],
   "source": [
    "from langchain_text_splitters import CharacterTextSplitter\n",
    "text_splitter = CharacterTextSplitter(separator=\"\\n\\n\",chunk_size=100, chunk_overlap=20)\n",
    "text_splitter.split_documents(docs)"
   ]
  },
  {
   "cell_type": "code",
   "execution_count": 17,
   "metadata": {},
   "outputs": [],
   "source": [
    "import json\n",
    "import requests\n",
    "\n",
    "json_data = requests.get(\"https://api.smith.langchain.com/openapi-json\").json()"
   ]
  },
  {
   "cell_type": "code",
   "execution_count": 18,
   "metadata": {},
   "outputs": [
    {
     "data": {
      "text/plain": [
       "{'detail': 'Not Found'}"
      ]
     },
     "execution_count": 18,
     "metadata": {},
     "output_type": "execute_result"
    }
   ],
   "source": [
    "json_data"
   ]
  },
  {
   "cell_type": "code",
   "execution_count": 19,
   "metadata": {},
   "outputs": [
    {
     "data": {
      "text/plain": [
       "True"
      ]
     },
     "execution_count": 19,
     "metadata": {},
     "output_type": "execute_result"
    }
   ],
   "source": [
    "import os\n",
    "from dotenv import load_dotenv\n",
    "load_dotenv()"
   ]
  },
  {
   "cell_type": "code",
   "execution_count": 20,
   "metadata": {},
   "outputs": [],
   "source": [
    "os.environ['HF_TOKEN'] = os.getenv(\"HF_TOKEN\")\n"
   ]
  },
  {
   "cell_type": "code",
   "execution_count": 21,
   "metadata": {},
   "outputs": [
    {
     "name": "stderr",
     "output_type": "stream",
     "text": [
      "c:\\Users\\adhik\\anaconda3\\envs\\py310\\lib\\site-packages\\sentence_transformers\\cross_encoder\\CrossEncoder.py:13: TqdmWarning: IProgress not found. Please update jupyter and ipywidgets. See https://ipywidgets.readthedocs.io/en/stable/user_install.html\n",
      "  from tqdm.autonotebook import tqdm, trange\n",
      "c:\\Users\\adhik\\anaconda3\\envs\\py310\\lib\\site-packages\\transformers\\tokenization_utils_base.py:1601: FutureWarning: `clean_up_tokenization_spaces` was not set. It will be set to `True` by default. This behavior will be depracted in transformers v4.45, and will be then set to `False` by default. For more details check this issue: https://github.com/huggingface/transformers/issues/31884\n",
      "  warnings.warn(\n"
     ]
    }
   ],
   "source": [
    "from langchain_huggingface import HuggingFaceEmbeddings\n",
    "embeddings = HuggingFaceEmbeddings(model_name=\"all-MiniLM-L6-v2\")"
   ]
  },
  {
   "cell_type": "code",
   "execution_count": 22,
   "metadata": {},
   "outputs": [
    {
     "data": {
      "text/plain": [
       "[-0.0713779404759407,\n",
       " 0.0716109648346901,\n",
       " -0.06969110667705536,\n",
       " -0.00911658350378275,\n",
       " 0.0717349499464035,\n",
       " -0.021282123401761055,\n",
       " -0.028326479718089104,\n",
       " 0.07504888623952866,\n",
       " 0.019667990505695343,\n",
       " 0.06131063774228096,\n",
       " 0.02571071870625019,\n",
       " 0.11393745243549347,\n",
       " 0.005809764843434095,\n",
       " -0.0005444699781946838,\n",
       " 0.007608642801642418,\n",
       " 0.015904149040579796,\n",
       " 0.0115386126562953,\n",
       " -0.014088469557464123,\n",
       " 0.0018635670421645045,\n",
       " 0.05308214947581291,\n",
       " 0.0033612449187785387,\n",
       " -0.03960086777806282,\n",
       " 0.023965315893292427,\n",
       " -0.05505970120429993,\n",
       " 0.022127166390419006,\n",
       " 0.008573401719331741,\n",
       " -0.033638909459114075,\n",
       " 0.052048955112695694,\n",
       " 0.12279012054204941,\n",
       " -0.04161134734749794,\n",
       " 0.04064532741904259,\n",
       " 0.07875946164131165,\n",
       " 0.09543947130441666,\n",
       " 0.004376300610601902,\n",
       " 0.03301083296537399,\n",
       " -0.006440289784222841,\n",
       " 0.052667129784822464,\n",
       " -0.04387674480676651,\n",
       " -0.03533348813652992,\n",
       " 0.009147096425294876,\n",
       " -0.07720599323511124,\n",
       " -0.07508426159620285,\n",
       " -0.04811224341392517,\n",
       " 0.06093226373195648,\n",
       " 0.009603927843272686,\n",
       " -0.029011240229010582,\n",
       " -0.08784835785627365,\n",
       " -0.026083318516612053,\n",
       " 0.009108837693929672,\n",
       " 0.043863777071237564,\n",
       " -0.008773764595389366,\n",
       " -0.06691555678844452,\n",
       " -0.030514363199472427,\n",
       " -0.06491345912218094,\n",
       " 0.01900007389485836,\n",
       " 0.01273751724511385,\n",
       " 0.01162638794630766,\n",
       " -0.009130795486271381,\n",
       " -0.033577099442481995,\n",
       " -0.011064328253269196,\n",
       " 0.024979855865240097,\n",
       " 0.058143604546785355,\n",
       " -0.10955018550157547,\n",
       " 0.10466957092285156,\n",
       " 0.08473516255617142,\n",
       " 0.06743267923593521,\n",
       " -0.018980341032147408,\n",
       " -0.021824117749929428,\n",
       " 0.014030740596354008,\n",
       " -0.11627636104822159,\n",
       " -0.09837513417005539,\n",
       " -0.008307640440762043,\n",
       " 0.049175310879945755,\n",
       " -0.013380912132561207,\n",
       " -0.0011714458232745528,\n",
       " -0.07301920652389526,\n",
       " -0.012132487259805202,\n",
       " -0.04843480512499809,\n",
       " 0.015276545658707619,\n",
       " -0.0673687532544136,\n",
       " 0.0540127158164978,\n",
       " 0.007395454216748476,\n",
       " -0.02281191013753414,\n",
       " -0.009025178849697113,\n",
       " -0.021822141483426094,\n",
       " 0.06758653372526169,\n",
       " 0.052872542291879654,\n",
       " -0.04713580012321472,\n",
       " 0.05998590588569641,\n",
       " 0.016538919880986214,\n",
       " 0.004232226405292749,\n",
       " 0.013439330272376537,\n",
       " 0.04426812008023262,\n",
       " 0.009225296787917614,\n",
       " -0.0973246768116951,\n",
       " 0.0030474860686808825,\n",
       " 0.019325589761137962,\n",
       " -0.0010423865169286728,\n",
       " 0.020897842943668365,\n",
       " 0.07815826684236526,\n",
       " 0.015512553974986076,\n",
       " -0.009052164852619171,\n",
       " 0.00532514275982976,\n",
       " -0.03645608574151993,\n",
       " -0.06821869313716888,\n",
       " -0.12600962817668915,\n",
       " 0.026641514152288437,\n",
       " -0.005044594407081604,\n",
       " 0.04300027713179588,\n",
       " 0.015998419374227524,\n",
       " -0.021072840318083763,\n",
       " -0.017130743712186813,\n",
       " -0.08466511964797974,\n",
       " -0.0608392059803009,\n",
       " 0.03368794173002243,\n",
       " -0.04131175950169563,\n",
       " -0.06104584410786629,\n",
       " -0.027921797707676888,\n",
       " 0.05232800170779228,\n",
       " -0.054989397525787354,\n",
       " 0.04888978227972984,\n",
       " 0.030010787770152092,\n",
       " 0.005452003795653582,\n",
       " -0.06502681225538254,\n",
       " -0.020098403096199036,\n",
       " -0.06398317217826843,\n",
       " 0.013315138407051563,\n",
       " -3.5077563254323096e-33,\n",
       " 0.05908524617552757,\n",
       " -0.0022829941008239985,\n",
       " -0.05814876779913902,\n",
       " 0.07091430574655533,\n",
       " 0.044305309653282166,\n",
       " -0.08760061860084534,\n",
       " -0.017251664772629738,\n",
       " -0.007072496227920055,\n",
       " -0.13977856934070587,\n",
       " 0.00977466069161892,\n",
       " 0.07419773191213608,\n",
       " 0.014696834608912468,\n",
       " 0.027358435094356537,\n",
       " 0.12355014681816101,\n",
       " -0.030337918549776077,\n",
       " 0.002509856130927801,\n",
       " -0.042276326566934586,\n",
       " 0.09100956469774246,\n",
       " -0.03698105737566948,\n",
       " -0.012027987278997898,\n",
       " -0.01109754666686058,\n",
       " -0.03578019142150879,\n",
       " 0.05734088271856308,\n",
       " -0.02687922865152359,\n",
       " 0.015150987543165684,\n",
       " 0.07429426908493042,\n",
       " -0.025349654257297516,\n",
       " 0.04258934035897255,\n",
       " 0.06924355030059814,\n",
       " 0.012885745614767075,\n",
       " -0.023850087076425552,\n",
       " -0.02631153166294098,\n",
       " -0.06368210911750793,\n",
       " -0.04056305065751076,\n",
       " 0.03309488669037819,\n",
       " 0.09380694478750229,\n",
       " -0.03838561847805977,\n",
       " -0.054845698177814484,\n",
       " -0.0019500332418829203,\n",
       " 0.03463004529476166,\n",
       " -0.05666501820087433,\n",
       " -0.060789644718170166,\n",
       " 0.06838811933994293,\n",
       " -0.03221247345209122,\n",
       " 0.06357920169830322,\n",
       " 0.01887049898505211,\n",
       " 0.027380861341953278,\n",
       " -0.07269014418125153,\n",
       " 0.06460075080394745,\n",
       " 0.014945993199944496,\n",
       " -0.017535105347633362,\n",
       " 0.029386864975094795,\n",
       " -0.017639638856053352,\n",
       " 0.01701289415359497,\n",
       " 0.0619441457092762,\n",
       " 0.015941433608531952,\n",
       " 0.010686298832297325,\n",
       " -0.026238493621349335,\n",
       " 0.008215493522584438,\n",
       " 0.010890711098909378,\n",
       " -0.035934846848249435,\n",
       " -0.021639812737703323,\n",
       " -0.06467339396476746,\n",
       " 0.044175997376441956,\n",
       " -0.014962240122258663,\n",
       " 0.019463365897536278,\n",
       " -0.05557959899306297,\n",
       " -0.03253687173128128,\n",
       " 0.09057467430830002,\n",
       " -0.058308735489845276,\n",
       " -0.09787318110466003,\n",
       " -0.01118268258869648,\n",
       " -0.05436788499355316,\n",
       " -0.027130167931318283,\n",
       " -0.020828977227211,\n",
       " -0.013511931523680687,\n",
       " 0.050852615386247635,\n",
       " 0.06983089447021484,\n",
       " -0.006820670794695616,\n",
       " 0.01925186812877655,\n",
       " -0.05625973269343376,\n",
       " -0.08497293293476105,\n",
       " -0.05805021896958351,\n",
       " 0.024014534428715706,\n",
       " 0.013845805078744888,\n",
       " 0.04115304350852966,\n",
       " 0.024716567248106003,\n",
       " -0.062422432005405426,\n",
       " 0.04051806405186653,\n",
       " 0.020337343215942383,\n",
       " -0.017573539167642593,\n",
       " 0.044568438082933426,\n",
       " -0.0900266245007515,\n",
       " -0.06600552052259445,\n",
       " 0.06181728094816208,\n",
       " 1.66003991805795e-33,\n",
       " -0.026911724358797073,\n",
       " -0.01337796077132225,\n",
       " -0.12015537172555923,\n",
       " 0.06569316238164902,\n",
       " -0.025067711248993874,\n",
       " 0.05034222453832626,\n",
       " 0.030830157920718193,\n",
       " 0.02802693285048008,\n",
       " 0.02530987747013569,\n",
       " -0.022408409044146538,\n",
       " -0.0323924645781517,\n",
       " 0.003998208791017532,\n",
       " -0.012882773764431477,\n",
       " 0.013580254279077053,\n",
       " 0.021516701206564903,\n",
       " -0.04033491015434265,\n",
       " -0.03179822117090225,\n",
       " -0.11007478833198547,\n",
       " -0.04302098974585533,\n",
       " 0.013667961582541466,\n",
       " -0.052521392703056335,\n",
       " 0.0757111981511116,\n",
       " 0.005569056607782841,\n",
       " -0.009191266261041164,\n",
       " 0.07216718047857285,\n",
       " -0.07659535855054855,\n",
       " -0.08036291599273682,\n",
       " 0.00034212367609143257,\n",
       " 0.019035281613469124,\n",
       " -0.041485514491796494,\n",
       " 0.06139086186885834,\n",
       " -0.03544902801513672,\n",
       " -0.13066662847995758,\n",
       " 0.010970394127070904,\n",
       " 0.024289868772029877,\n",
       " -0.050691813230514526,\n",
       " 0.0917409136891365,\n",
       " 0.030730055645108223,\n",
       " 0.021369079127907753,\n",
       " 0.005332562606781721,\n",
       " -0.014356419444084167,\n",
       " 0.044966984540224075,\n",
       " -0.06384119391441345,\n",
       " -0.03765679523348808,\n",
       " -0.06098829582333565,\n",
       " -0.0056142788380384445,\n",
       " -0.00599806010723114,\n",
       " -0.07605370134115219,\n",
       " 0.08953406661748886,\n",
       " 0.015634266659617424,\n",
       " 0.02577739767730236,\n",
       " -0.05856248736381531,\n",
       " -0.01090430561453104,\n",
       " -0.12318368256092072,\n",
       " -0.011169787496328354,\n",
       " 0.006963443011045456,\n",
       " -0.02305477298796177,\n",
       " -0.009879684075713158,\n",
       " 0.02593408338725567,\n",
       " 0.03542769327759743,\n",
       " 0.04163384810090065,\n",
       " 0.03861391544342041,\n",
       " -0.012826294638216496,\n",
       " -0.03073868714272976,\n",
       " -0.006860787980258465,\n",
       " -0.0009967865189537406,\n",
       " -0.057448577135801315,\n",
       " 0.08789315819740295,\n",
       " -0.07691586017608643,\n",
       " 0.037990301847457886,\n",
       " -0.02524358220398426,\n",
       " -0.02332671545445919,\n",
       " -0.011347781866788864,\n",
       " -0.05126558989286423,\n",
       " 0.03709884732961655,\n",
       " -0.06817019730806351,\n",
       " 0.047968875616788864,\n",
       " 0.0186208114027977,\n",
       " -0.04614463821053505,\n",
       " -0.0192471481859684,\n",
       " 0.10378332436084747,\n",
       " -0.0007917034672573209,\n",
       " -0.0007770300144329667,\n",
       " -0.013031985610723495,\n",
       " -0.006115500815212727,\n",
       " 0.016477154567837715,\n",
       " -0.006207458209246397,\n",
       " -0.027513625100255013,\n",
       " -0.019175926223397255,\n",
       " 0.00781660433858633,\n",
       " -0.09497582167387009,\n",
       " 0.10469992458820343,\n",
       " 0.045866113156080246,\n",
       " 0.13233605027198792,\n",
       " -0.022878065705299377,\n",
       " -1.885365463749622e-08,\n",
       " -0.05146421119570732,\n",
       " 0.05801772698760033,\n",
       " 0.07486095279455185,\n",
       " -0.03231437876820564,\n",
       " -0.057123564183712006,\n",
       " 0.03406815230846405,\n",
       " 0.10868985950946808,\n",
       " -0.038723744451999664,\n",
       " -0.051379624754190445,\n",
       " -0.030585981905460358,\n",
       " 0.0746426209807396,\n",
       " -0.0643305778503418,\n",
       " -0.08895654231309891,\n",
       " 0.061381250619888306,\n",
       " 0.011840254999697208,\n",
       " 0.04068242013454437,\n",
       " 0.020217880606651306,\n",
       " 0.010447484441101551,\n",
       " -0.06606099009513855,\n",
       " 0.004488109610974789,\n",
       " 0.009035155177116394,\n",
       " 0.07116375863552094,\n",
       " 0.015154866501688957,\n",
       " -0.021401172503829002,\n",
       " 0.05309101939201355,\n",
       " 0.05102301388978958,\n",
       " 0.017902031540870667,\n",
       " 0.08400724083185196,\n",
       " -0.04539450258016586,\n",
       " -0.12161792814731598,\n",
       " 0.003113475628197193,\n",
       " 0.14888696372509003,\n",
       " 0.0019492917926982045,\n",
       " 0.04876044765114784,\n",
       " 0.07106820493936539,\n",
       " 0.05147959291934967,\n",
       " 0.014554545283317566,\n",
       " 0.04902829974889755,\n",
       " 0.00023884832626208663,\n",
       " 0.03172692283987999,\n",
       " 0.0053720492869615555,\n",
       " 0.04355667531490326,\n",
       " -0.06684520095586777,\n",
       " 0.03618950396776199,\n",
       " 0.043257053941488266,\n",
       " 0.016966352239251137,\n",
       " 0.024796029552817345,\n",
       " -0.0887083038687706,\n",
       " 0.0008599383872933686,\n",
       " -0.04672112688422203,\n",
       " -0.04918425902724266,\n",
       " -0.03759142756462097,\n",
       " 0.07604601234197617,\n",
       " 0.062146563082933426,\n",
       " 0.06262528151273727,\n",
       " 0.054871488362550735,\n",
       " 0.04317960888147354,\n",
       " 0.06420742720365524,\n",
       " 0.03738147020339966,\n",
       " 0.05169249698519707,\n",
       " 0.03340978920459747,\n",
       " 0.05647444352507591,\n",
       " 0.10298366099596024,\n",
       " 0.0002201527386205271]"
      ]
     },
     "execution_count": 22,
     "metadata": {},
     "output_type": "execute_result"
    }
   ],
   "source": [
    "text =\"this is demo document use it wisely\"\n",
    "query_result = embeddings.embed_query(text)\n",
    "query_result"
   ]
  },
  {
   "cell_type": "code",
   "execution_count": 23,
   "metadata": {},
   "outputs": [
    {
     "data": {
      "text/plain": [
       "384"
      ]
     },
     "execution_count": 23,
     "metadata": {},
     "output_type": "execute_result"
    }
   ],
   "source": [
    "len(query_result)"
   ]
  },
  {
   "cell_type": "code",
   "execution_count": 24,
   "metadata": {},
   "outputs": [
    {
     "name": "stderr",
     "output_type": "stream",
     "text": [
      "Created a chunk of size 1291, which is longer than the specified 200\n",
      "Created a chunk of size 1003, which is longer than the specified 200\n"
     ]
    }
   ],
   "source": [
    "from langchain_community.document_loaders import TextLoader\n",
    "from langchain_community.vectorstores import FAISS\n",
    "from langchain_community.embeddings import HuggingFaceBgeEmbeddings\n",
    "from langchain_text_splitters import CharacterTextSplitter\n",
    "\n",
    "loader = TextLoader(\"speech.txt\")\n",
    "documents = loader.load()\n",
    "text_splitter = CharacterTextSplitter(chunk_size=200, chunk_overlap=30)\n",
    "docs=text_splitter.split_documents(documents)"
   ]
  },
  {
   "cell_type": "code",
   "execution_count": 25,
   "metadata": {},
   "outputs": [
    {
     "data": {
      "text/plain": [
       "[Document(metadata={'source': 'speech.txt'}, page_content='Rommel was a highly decorated officer in World War I and was awarded the Pour le Mérite for his actions on the Italian Front. In 1937, he published his classic book on military tactics, Infantry Attacks, drawing on his experiences in that war. In World War II, he commanded the 7th Panzer Division during the 1940 invasion of France. His leadership of German and Italian forces in the North African campaign established his reputation as one of the ablest tank commanders of the war, and earned him the nickname der Wüstenfuchs, \"the Desert Fox\". Among his British adversaries he had a reputation for chivalry, and his phrase \"war without hate\" has been uncritically used to describe the North African campaign.[2] A number of historians have since rejected the phrase as a myth and uncovered numerous examples of German war crimes and abuses towards enemy soldiers and native populations in Africa during the conflict.[3] Other historians note that there is no clear evidence Rommel was involved or aware of these crimes,[4] with some pointing out that the war in the desert, as fought by Rommel and his opponents, still came as close to a clean fight as there was in World War II.[5] He later commanded the German forces opposing the Allied cross-channel invasion of Normandy in June 1944.'),\n",
       " Document(metadata={'source': 'speech.txt'}, page_content=\"After the Nazis gained power in Germany, Rommel gradually accepted the new regime. Historians have given different accounts of the specific period and his motivations.[6] He was a supporter of Adolf Hitler, at least until near the end of the war, if not necessarily sympathetic to the party and the paramilitary forces associated with it.[7] In 1944, Rommel was implicated in the 20 July plot to assassinate Hitler. Because of Rommel's status as a national hero, Hitler wanted to eliminate him quietly instead of having him immediately executed, as many other plotters were. Rommel was given a choice between suicide, in return for assurances that his reputation would remain intact and that his family would not be persecuted following his death, or facing a trial that would result in his disgrace and execution; he chose the former and took a cyanide pill.[8] Rommel was given a state funeral, and it was announced that he had succumbed to his injuries from the strafing of his staff car in Normandy.\"),\n",
       " Document(metadata={'source': 'speech.txt'}, page_content='Rommel became a larger-than-life figure in both Allied and Nazi propaganda, and in postwar popular culture. Numerous authors portray him as an apolitical, brilliant commander and a victim of Nazi Germany, although other authors have contested this assessment and called it the \"Rommel myth\". Rommel\\'s reputation for conducting a clean war was used in the interest of the West German rearmament and reconciliation between the former enemies – the United Kingdom and the United States on one side and the new Federal Republic of Germany on the other. Several of Rommel\\'s former subordinates, notably his chief of staff Hans Speidel, played key roles in German rearmament and integration into NATO in the postwar era. The German Army\\'s largest military base, the Field Marshal Rommel Barracks, Augustdorf, and a third ship of Lütjens-class destroyer of the German Navy are both named in his honour. His son Manfred Rommel was the longtime mayor of Stuttgart, Germany and namesake of Stuttgart Airport')]"
      ]
     },
     "execution_count": 25,
     "metadata": {},
     "output_type": "execute_result"
    }
   ],
   "source": [
    "docs"
   ]
  },
  {
   "cell_type": "code",
   "execution_count": 26,
   "metadata": {},
   "outputs": [
    {
     "data": {
      "text/plain": [
       "<langchain_community.vectorstores.faiss.FAISS at 0x20f162de230>"
      ]
     },
     "execution_count": 26,
     "metadata": {},
     "output_type": "execute_result"
    }
   ],
   "source": [
    "embeddings = HuggingFaceBgeEmbeddings(model_name=\"all-MiniLM-L6-v2\")\n",
    "db = FAISS.from_documents(docs,embeddings)\n",
    "db"
   ]
  },
  {
   "cell_type": "code",
   "execution_count": 34,
   "metadata": {},
   "outputs": [
    {
     "data": {
      "text/plain": [
       "'Rommel became a larger-than-life figure in both Allied and Nazi propaganda, and in postwar popular culture. Numerous authors portray him as an apolitical, brilliant commander and a victim of Nazi Germany, although other authors have contested this assessment and called it the \"Rommel myth\". Rommel\\'s reputation for conducting a clean war was used in the interest of the West German rearmament and reconciliation between the former enemies – the United Kingdom and the United States on one side and the new Federal Republic of Germany on the other. Several of Rommel\\'s former subordinates, notably his chief of staff Hans Speidel, played key roles in German rearmament and integration into NATO in the postwar era. The German Army\\'s largest military base, the Field Marshal Rommel Barracks, Augustdorf, and a third ship of Lütjens-class destroyer of the German Navy are both named in his honour. His son Manfred Rommel was the longtime mayor of Stuttgart, Germany and namesake of Stuttgart Airport'"
      ]
     },
     "execution_count": 34,
     "metadata": {},
     "output_type": "execute_result"
    }
   ],
   "source": [
    "##querying\n",
    "query = \"Rommel was a highly decorated officer in World War I\"\n",
    "docs = db.similarity_search(query)\n",
    "docs[0].page_content"
   ]
  },
  {
   "cell_type": "code",
   "execution_count": 35,
   "metadata": {},
   "outputs": [
    {
     "data": {
      "text/plain": [
       "'Rommel became a larger-than-life figure in both Allied and Nazi propaganda, and in postwar popular culture. Numerous authors portray him as an apolitical, brilliant commander and a victim of Nazi Germany, although other authors have contested this assessment and called it the \"Rommel myth\". Rommel\\'s reputation for conducting a clean war was used in the interest of the West German rearmament and reconciliation between the former enemies – the United Kingdom and the United States on one side and the new Federal Republic of Germany on the other. Several of Rommel\\'s former subordinates, notably his chief of staff Hans Speidel, played key roles in German rearmament and integration into NATO in the postwar era. The German Army\\'s largest military base, the Field Marshal Rommel Barracks, Augustdorf, and a third ship of Lütjens-class destroyer of the German Navy are both named in his honour. His son Manfred Rommel was the longtime mayor of Stuttgart, Germany and namesake of Stuttgart Airport'"
      ]
     },
     "execution_count": 35,
     "metadata": {},
     "output_type": "execute_result"
    }
   ],
   "source": [
    "retriever = db.as_retriever()\n",
    "retriever.invoke(query)\n",
    "docs[0].page_content"
   ]
  },
  {
   "cell_type": "code",
   "execution_count": 37,
   "metadata": {},
   "outputs": [
    {
     "data": {
      "text/plain": [
       "[(Document(metadata={'source': 'speech.txt'}, page_content='Rommel became a larger-than-life figure in both Allied and Nazi propaganda, and in postwar popular culture. Numerous authors portray him as an apolitical, brilliant commander and a victim of Nazi Germany, although other authors have contested this assessment and called it the \"Rommel myth\". Rommel\\'s reputation for conducting a clean war was used in the interest of the West German rearmament and reconciliation between the former enemies – the United Kingdom and the United States on one side and the new Federal Republic of Germany on the other. Several of Rommel\\'s former subordinates, notably his chief of staff Hans Speidel, played key roles in German rearmament and integration into NATO in the postwar era. The German Army\\'s largest military base, the Field Marshal Rommel Barracks, Augustdorf, and a third ship of Lütjens-class destroyer of the German Navy are both named in his honour. His son Manfred Rommel was the longtime mayor of Stuttgart, Germany and namesake of Stuttgart Airport'),\n",
       "  0.6866808),\n",
       " (Document(metadata={'source': 'speech.txt'}, page_content=\"After the Nazis gained power in Germany, Rommel gradually accepted the new regime. Historians have given different accounts of the specific period and his motivations.[6] He was a supporter of Adolf Hitler, at least until near the end of the war, if not necessarily sympathetic to the party and the paramilitary forces associated with it.[7] In 1944, Rommel was implicated in the 20 July plot to assassinate Hitler. Because of Rommel's status as a national hero, Hitler wanted to eliminate him quietly instead of having him immediately executed, as many other plotters were. Rommel was given a choice between suicide, in return for assurances that his reputation would remain intact and that his family would not be persecuted following his death, or facing a trial that would result in his disgrace and execution; he chose the former and took a cyanide pill.[8] Rommel was given a state funeral, and it was announced that he had succumbed to his injuries from the strafing of his staff car in Normandy.\"),\n",
       "  0.78139096),\n",
       " (Document(metadata={'source': 'speech.txt'}, page_content='Rommel was a highly decorated officer in World War I and was awarded the Pour le Mérite for his actions on the Italian Front. In 1937, he published his classic book on military tactics, Infantry Attacks, drawing on his experiences in that war. In World War II, he commanded the 7th Panzer Division during the 1940 invasion of France. His leadership of German and Italian forces in the North African campaign established his reputation as one of the ablest tank commanders of the war, and earned him the nickname der Wüstenfuchs, \"the Desert Fox\". Among his British adversaries he had a reputation for chivalry, and his phrase \"war without hate\" has been uncritically used to describe the North African campaign.[2] A number of historians have since rejected the phrase as a myth and uncovered numerous examples of German war crimes and abuses towards enemy soldiers and native populations in Africa during the conflict.[3] Other historians note that there is no clear evidence Rommel was involved or aware of these crimes,[4] with some pointing out that the war in the desert, as fought by Rommel and his opponents, still came as close to a clean fight as there was in World War II.[5] He later commanded the German forces opposing the Allied cross-channel invasion of Normandy in June 1944.'),\n",
       "  0.8378012)]"
      ]
     },
     "execution_count": 37,
     "metadata": {},
     "output_type": "execute_result"
    }
   ],
   "source": [
    "docs_and_score = db.similarity_search_with_score(query)\n",
    "docs_and_score "
   ]
  },
  {
   "cell_type": "code",
   "execution_count": 38,
   "metadata": {},
   "outputs": [],
   "source": [
    "embedding_vector = embeddings.embed_query(query)"
   ]
  },
  {
   "cell_type": "code",
   "execution_count": 39,
   "metadata": {},
   "outputs": [
    {
     "data": {
      "text/plain": [
       "[-0.06282830983400345,\n",
       " 0.10687868297100067,\n",
       " -0.03028883971273899,\n",
       " -0.0038105330895632505,\n",
       " -0.06688482314348221,\n",
       " 0.09637941420078278,\n",
       " 0.03582184016704559,\n",
       " 0.03981078043580055,\n",
       " -0.16657033562660217,\n",
       " -0.030735088512301445,\n",
       " 0.013433835469186306,\n",
       " 0.01938779465854168,\n",
       " 0.04348306730389595,\n",
       " 0.005342026241123676,\n",
       " -0.052741993218660355,\n",
       " 0.0411200150847435,\n",
       " 0.02105248160660267,\n",
       " 0.0691927894949913,\n",
       " -0.024255864322185516,\n",
       " -0.01568867452442646,\n",
       " -0.013761349953711033,\n",
       " -0.02522713504731655,\n",
       " 0.09106071293354034,\n",
       " 0.013839015737175941,\n",
       " -0.03969038277864456,\n",
       " 0.010309292934834957,\n",
       " 0.01578313298523426,\n",
       " 0.042463891208171844,\n",
       " -0.017566638067364693,\n",
       " 0.01585414446890354,\n",
       " 0.0150204598903656,\n",
       " 0.06700051575899124,\n",
       " 0.07618636637926102,\n",
       " 0.021816719323396683,\n",
       " 0.026629868894815445,\n",
       " 0.02795376628637314,\n",
       " 0.12697568535804749,\n",
       " 0.01797628402709961,\n",
       " 0.001233005546964705,\n",
       " 0.03767656162381172,\n",
       " 0.004268168937414885,\n",
       " -0.011959007941186428,\n",
       " 0.044539473950862885,\n",
       " 0.08525212854146957,\n",
       " -0.009160622023046017,\n",
       " -0.08538565784692764,\n",
       " -0.024467231705784798,\n",
       " -0.04222290217876434,\n",
       " -0.014578192494809628,\n",
       " 0.003412774298340082,\n",
       " -0.11378097534179688,\n",
       " 0.03225390985608101,\n",
       " -0.0030574542470276356,\n",
       " -0.1001482829451561,\n",
       " 0.06317290663719177,\n",
       " -0.00594731979072094,\n",
       " 0.06827729195356369,\n",
       " -0.024165844544768333,\n",
       " 0.01774173229932785,\n",
       " 0.026924531906843185,\n",
       " -0.0984349250793457,\n",
       " 0.018040746450424194,\n",
       " -0.0071403514593839645,\n",
       " 0.023525001481175423,\n",
       " -0.030804352834820747,\n",
       " -0.08064068853855133,\n",
       " 0.031139669939875603,\n",
       " 0.017917416989803314,\n",
       " -0.06059277057647705,\n",
       " 0.020386487245559692,\n",
       " 0.012042982503771782,\n",
       " -0.018763454630970955,\n",
       " -0.05784294754266739,\n",
       " -0.03862971439957619,\n",
       " -0.12713997066020966,\n",
       " -0.04601896554231644,\n",
       " 0.04900848865509033,\n",
       " -0.005015658680349588,\n",
       " -0.00010900125926127657,\n",
       " -0.06629627197980881,\n",
       " 0.008848621509969234,\n",
       " 0.022779835388064384,\n",
       " -0.02123200334608555,\n",
       " 0.004989062901586294,\n",
       " 0.03859066963195801,\n",
       " -0.059767238795757294,\n",
       " 0.01365327276289463,\n",
       " -0.025310132652521133,\n",
       " 0.03921164199709892,\n",
       " 0.12975266575813293,\n",
       " 0.11892571300268173,\n",
       " -0.03366738185286522,\n",
       " -0.030412225052714348,\n",
       " 0.06356029212474823,\n",
       " -0.01763961650431156,\n",
       " 0.009701470844447613,\n",
       " 0.016421198844909668,\n",
       " -0.0030877047684043646,\n",
       " -0.03935094550251961,\n",
       " 0.040380530059337616,\n",
       " 0.0290474072098732,\n",
       " -0.06654834002256393,\n",
       " -0.01433979906141758,\n",
       " 0.05850487947463989,\n",
       " -0.055182307958602905,\n",
       " -0.0003783616120927036,\n",
       " -0.006516436114907265,\n",
       " -0.02330893464386463,\n",
       " -0.12456654757261276,\n",
       " -0.02233588509261608,\n",
       " -0.052368562668561935,\n",
       " -0.0014451267197728157,\n",
       " -0.07205262035131454,\n",
       " 0.009652068838477135,\n",
       " 0.016628878191113472,\n",
       " -0.001209463458508253,\n",
       " 0.0012088293442502618,\n",
       " 0.06622827798128128,\n",
       " -0.0018811202608048916,\n",
       " -0.022414952516555786,\n",
       " 0.018249327316880226,\n",
       " -0.0005299060139805079,\n",
       " -0.056451767683029175,\n",
       " 0.03546005114912987,\n",
       " -0.05660784989595413,\n",
       " -0.037403326481580734,\n",
       " -0.02655443176627159,\n",
       " -1.771418742482331e-33,\n",
       " -0.010329327546060085,\n",
       " -0.02834240347146988,\n",
       " -0.004880105145275593,\n",
       " 0.11220267415046692,\n",
       " -0.11943317949771881,\n",
       " 0.020424216985702515,\n",
       " 0.005940223578363657,\n",
       " -0.0014753331197425723,\n",
       " 0.06691733747720718,\n",
       " -0.0006234678439795971,\n",
       " -0.01678205095231533,\n",
       " 0.018935710191726685,\n",
       " -0.021879492327570915,\n",
       " 0.02577168680727482,\n",
       " -0.04170640930533409,\n",
       " -0.003207191824913025,\n",
       " -0.058817602694034576,\n",
       " 0.013095200061798096,\n",
       " -0.022289283573627472,\n",
       " -0.032580383121967316,\n",
       " 0.025777844712138176,\n",
       " 0.04710865765810013,\n",
       " -0.08931796997785568,\n",
       " -0.09677892923355103,\n",
       " 0.016941551119089127,\n",
       " 0.024407096207141876,\n",
       " 0.05127669870853424,\n",
       " -0.04598879814147949,\n",
       " 0.06409816443920135,\n",
       " 0.06041480600833893,\n",
       " 0.021747184917330742,\n",
       " -0.043655432760715485,\n",
       " 0.005625193938612938,\n",
       " 0.004786395002156496,\n",
       " 0.13225455582141876,\n",
       " 0.05942933261394501,\n",
       " -0.0518852174282074,\n",
       " -0.08138346672058105,\n",
       " -0.034841034561395645,\n",
       " 0.04361234977841377,\n",
       " 0.016137633472681046,\n",
       " -0.022381465882062912,\n",
       " 0.025778932496905327,\n",
       " 0.07749754935503006,\n",
       " -0.009364360943436623,\n",
       " -0.035881929099559784,\n",
       " -0.027558879926800728,\n",
       " -0.010744201950728893,\n",
       " 0.10672026127576828,\n",
       " -0.0017833590973168612,\n",
       " 0.036511071026325226,\n",
       " -0.011880986392498016,\n",
       " -0.03998313471674919,\n",
       " -0.10126248002052307,\n",
       " 0.004281502682715654,\n",
       " 0.07009077817201614,\n",
       " -0.057399339973926544,\n",
       " 0.12002165615558624,\n",
       " -0.031427059322595596,\n",
       " -0.0183247160166502,\n",
       " -0.06023265793919563,\n",
       " 0.01249698456376791,\n",
       " -0.025713983923196793,\n",
       " 0.02850375510752201,\n",
       " -0.012884837575256824,\n",
       " -0.02531118504703045,\n",
       " -0.10676246136426926,\n",
       " 0.0064430455677211285,\n",
       " -0.037080686539411545,\n",
       " 0.04954110458493233,\n",
       " -0.014953202567994595,\n",
       " 0.019413314759731293,\n",
       " 0.05747533589601517,\n",
       " -0.050395622849464417,\n",
       " -0.052671100944280624,\n",
       " 0.03669712319970131,\n",
       " 0.03502858057618141,\n",
       " 0.02454996481537819,\n",
       " -0.06642716377973557,\n",
       " -0.08531337976455688,\n",
       " -0.1302284449338913,\n",
       " 0.05757785215973854,\n",
       " 0.05032558739185333,\n",
       " 0.021155260503292084,\n",
       " 0.025869974866509438,\n",
       " 0.004898885730654001,\n",
       " 0.0924331396818161,\n",
       " 0.01871667243540287,\n",
       " -0.0011681009782478213,\n",
       " 0.08424045145511627,\n",
       " 0.02464263327419758,\n",
       " -0.026841413229703903,\n",
       " 0.036582738161087036,\n",
       " -0.07206649333238602,\n",
       " -0.08354907482862473,\n",
       " -2.0381916752716798e-33,\n",
       " -0.06746571511030197,\n",
       " 0.028954600915312767,\n",
       " 0.05282803252339363,\n",
       " -0.023157358169555664,\n",
       " 0.00014604315219912678,\n",
       " -0.007271887734532356,\n",
       " -0.004136968404054642,\n",
       " 0.022927645593881607,\n",
       " -0.06624007970094681,\n",
       " -0.0369453988969326,\n",
       " -0.006861207541078329,\n",
       " 0.04822415113449097,\n",
       " 0.020739339292049408,\n",
       " -0.0684351846575737,\n",
       " -0.07670578360557556,\n",
       " 0.011690991930663586,\n",
       " 0.011675391346216202,\n",
       " -0.0048897601664066315,\n",
       " -0.09383981674909592,\n",
       " 0.04231153428554535,\n",
       " -0.04444226995110512,\n",
       " 0.009870186448097229,\n",
       " 0.03490646928548813,\n",
       " -0.005176482256501913,\n",
       " -0.03471808880567551,\n",
       " -0.002916068537160754,\n",
       " 0.036356158554553986,\n",
       " 0.02969985641539097,\n",
       " -0.008636760525405407,\n",
       " 0.02025296352803707,\n",
       " 0.11117482930421829,\n",
       " -0.06591294705867767,\n",
       " -0.11796420067548752,\n",
       " 0.03156925365328789,\n",
       " 0.066859170794487,\n",
       " 0.08681464195251465,\n",
       " 0.013113340362906456,\n",
       " -0.014275514520704746,\n",
       " -0.027545247226953506,\n",
       " 0.10410613566637039,\n",
       " -0.07222651690244675,\n",
       " -0.01674823649227619,\n",
       " 0.00033847487065941095,\n",
       " 0.07914983481168747,\n",
       " -0.03250996768474579,\n",
       " -0.035720594227313995,\n",
       " -0.09396816790103912,\n",
       " 0.006031653843820095,\n",
       " 0.005619709845632315,\n",
       " 0.019108401611447334,\n",
       " -0.13794738054275513,\n",
       " 0.04753665626049042,\n",
       " -0.04337207227945328,\n",
       " -0.0021824154537171125,\n",
       " -0.01073401141911745,\n",
       " -0.003206378547474742,\n",
       " -0.026406768709421158,\n",
       " -0.1025642454624176,\n",
       " 0.04537862166762352,\n",
       " 0.07427556812763214,\n",
       " 0.006046931259334087,\n",
       " 0.03270906209945679,\n",
       " 0.0038607034366577864,\n",
       " -0.0037789824418723583,\n",
       " 0.03134870156645775,\n",
       " -0.026674481108784676,\n",
       " -0.02331116795539856,\n",
       " 0.007208317518234253,\n",
       " -0.07878131419420242,\n",
       " 0.048424284905195236,\n",
       " 0.08283403515815735,\n",
       " 0.06631564348936081,\n",
       " -0.010393796488642693,\n",
       " 0.010810032486915588,\n",
       " -0.017753155902028084,\n",
       " -0.005737779662013054,\n",
       " -0.09235996752977371,\n",
       " 0.016158193349838257,\n",
       " -0.09455323964357376,\n",
       " 0.007072080858051777,\n",
       " 0.036751944571733475,\n",
       " -0.004625820554792881,\n",
       " -0.09336280822753906,\n",
       " 0.03595905750989914,\n",
       " -0.09434562176465988,\n",
       " -0.016951384022831917,\n",
       " -0.0008676348370499909,\n",
       " 0.03826949745416641,\n",
       " 0.05102755129337311,\n",
       " -0.06274927407503128,\n",
       " 0.02427249401807785,\n",
       " -0.06886932998895645,\n",
       " 0.005467262119054794,\n",
       " -0.006745369639247656,\n",
       " 0.01868041604757309,\n",
       " -2.1368435909607797e-08,\n",
       " -0.07515113800764084,\n",
       " 0.054757099598646164,\n",
       " 0.011247508227825165,\n",
       " 0.02931191772222519,\n",
       " -0.06179983541369438,\n",
       " -0.01675163209438324,\n",
       " -0.08688688278198242,\n",
       " -0.06403739750385284,\n",
       " 0.04255148768424988,\n",
       " 0.04554547369480133,\n",
       " 0.020516177639365196,\n",
       " 0.027661871165037155,\n",
       " -0.02763553336262703,\n",
       " -0.00994228944182396,\n",
       " 0.016791991889476776,\n",
       " -0.05636323615908623,\n",
       " -0.01071815937757492,\n",
       " -0.10069762170314789,\n",
       " -0.004988511558622122,\n",
       " 0.027418581768870354,\n",
       " 0.05473332852125168,\n",
       " -0.001723861787468195,\n",
       " -0.061889488250017166,\n",
       " -0.0032104579731822014,\n",
       " -0.05265440419316292,\n",
       " 0.10249345749616623,\n",
       " -0.036465514451265335,\n",
       " -0.0003630457795225084,\n",
       " 0.011773515492677689,\n",
       " 0.058548782020807266,\n",
       " 0.07003816962242126,\n",
       " 0.03737957030534744,\n",
       " -0.058391038328409195,\n",
       " -0.023488590493798256,\n",
       " 0.01052223052829504,\n",
       " 0.07800295948982239,\n",
       " 0.09371544420719147,\n",
       " -0.11901449412107468,\n",
       " 0.008607948198914528,\n",
       " -0.0064633553847670555,\n",
       " 0.03236871957778931,\n",
       " 0.021543659269809723,\n",
       " 0.06726661324501038,\n",
       " 0.06886401027441025,\n",
       " 0.07592126727104187,\n",
       " 0.05035676434636116,\n",
       " 0.03466115519404411,\n",
       " -0.010972559452056885,\n",
       " -0.045203790068626404,\n",
       " 0.020709237083792686,\n",
       " 0.05607160925865173,\n",
       " 0.055475857108831406,\n",
       " -0.05138338357210159,\n",
       " 0.08930875360965729,\n",
       " -0.01712709479033947,\n",
       " -0.0013199297245591879,\n",
       " 0.027715735137462616,\n",
       " 0.04344553127884865,\n",
       " -0.05224011838436127,\n",
       " 0.025708016008138657,\n",
       " -0.0030154213309288025,\n",
       " -0.054065801203250885,\n",
       " 0.012453190982341766,\n",
       " 0.004075643606483936]"
      ]
     },
     "execution_count": 39,
     "metadata": {},
     "output_type": "execute_result"
    }
   ],
   "source": [
    "embedding_vector\n"
   ]
  },
  {
   "cell_type": "code",
   "execution_count": 41,
   "metadata": {},
   "outputs": [],
   "source": [
    "docs_and_score = db.similarity_search_by_vector(embedding_vector)"
   ]
  },
  {
   "cell_type": "code",
   "execution_count": 42,
   "metadata": {},
   "outputs": [
    {
     "data": {
      "text/plain": [
       "[Document(metadata={'source': 'speech.txt'}, page_content='Rommel became a larger-than-life figure in both Allied and Nazi propaganda, and in postwar popular culture. Numerous authors portray him as an apolitical, brilliant commander and a victim of Nazi Germany, although other authors have contested this assessment and called it the \"Rommel myth\". Rommel\\'s reputation for conducting a clean war was used in the interest of the West German rearmament and reconciliation between the former enemies – the United Kingdom and the United States on one side and the new Federal Republic of Germany on the other. Several of Rommel\\'s former subordinates, notably his chief of staff Hans Speidel, played key roles in German rearmament and integration into NATO in the postwar era. The German Army\\'s largest military base, the Field Marshal Rommel Barracks, Augustdorf, and a third ship of Lütjens-class destroyer of the German Navy are both named in his honour. His son Manfred Rommel was the longtime mayor of Stuttgart, Germany and namesake of Stuttgart Airport'),\n",
       " Document(metadata={'source': 'speech.txt'}, page_content=\"After the Nazis gained power in Germany, Rommel gradually accepted the new regime. Historians have given different accounts of the specific period and his motivations.[6] He was a supporter of Adolf Hitler, at least until near the end of the war, if not necessarily sympathetic to the party and the paramilitary forces associated with it.[7] In 1944, Rommel was implicated in the 20 July plot to assassinate Hitler. Because of Rommel's status as a national hero, Hitler wanted to eliminate him quietly instead of having him immediately executed, as many other plotters were. Rommel was given a choice between suicide, in return for assurances that his reputation would remain intact and that his family would not be persecuted following his death, or facing a trial that would result in his disgrace and execution; he chose the former and took a cyanide pill.[8] Rommel was given a state funeral, and it was announced that he had succumbed to his injuries from the strafing of his staff car in Normandy.\"),\n",
       " Document(metadata={'source': 'speech.txt'}, page_content='Rommel was a highly decorated officer in World War I and was awarded the Pour le Mérite for his actions on the Italian Front. In 1937, he published his classic book on military tactics, Infantry Attacks, drawing on his experiences in that war. In World War II, he commanded the 7th Panzer Division during the 1940 invasion of France. His leadership of German and Italian forces in the North African campaign established his reputation as one of the ablest tank commanders of the war, and earned him the nickname der Wüstenfuchs, \"the Desert Fox\". Among his British adversaries he had a reputation for chivalry, and his phrase \"war without hate\" has been uncritically used to describe the North African campaign.[2] A number of historians have since rejected the phrase as a myth and uncovered numerous examples of German war crimes and abuses towards enemy soldiers and native populations in Africa during the conflict.[3] Other historians note that there is no clear evidence Rommel was involved or aware of these crimes,[4] with some pointing out that the war in the desert, as fought by Rommel and his opponents, still came as close to a clean fight as there was in World War II.[5] He later commanded the German forces opposing the Allied cross-channel invasion of Normandy in June 1944.')]"
      ]
     },
     "execution_count": 42,
     "metadata": {},
     "output_type": "execute_result"
    }
   ],
   "source": [
    "docs_and_score"
   ]
  },
  {
   "cell_type": "code",
   "execution_count": 43,
   "metadata": {},
   "outputs": [],
   "source": [
    "##saving \n",
    "db.save_local(\"faiss_index\")"
   ]
  },
  {
   "cell_type": "code",
   "execution_count": 45,
   "metadata": {},
   "outputs": [],
   "source": [
    "new_db = FAISS.load_local(\"faiss_index\",embeddings,allow_dangerous_deserialization=True)"
   ]
  },
  {
   "cell_type": "code",
   "execution_count": 49,
   "metadata": {},
   "outputs": [],
   "source": [
    "docs = new_db.similarity_search_by_vector(embedding_vector)"
   ]
  },
  {
   "cell_type": "code",
   "execution_count": 51,
   "metadata": {},
   "outputs": [],
   "source": [
    "from langchain_chroma import Chroma\n",
    "from langchain_community.document_loaders import TextLoader\n",
    "from langchain_huggingface.embeddings import HuggingFaceEmbeddings\n",
    "from langchain_text_splitters import RecursiveCharacterTextSplitter\n"
   ]
  },
  {
   "cell_type": "code",
   "execution_count": 52,
   "metadata": {},
   "outputs": [
    {
     "data": {
      "text/plain": [
       "[Document(metadata={'source': 'speech.txt'}, page_content='Rommel was a highly decorated officer in World War I and was awarded the Pour le Mérite for his actions on the Italian Front. In 1937, he published his classic book on military tactics, Infantry Attacks, drawing on his experiences in that war. In World War II, he commanded the 7th Panzer Division during the 1940 invasion of France. His leadership of German and Italian forces in the North African campaign established his reputation as one of the ablest tank commanders of the war, and earned him the nickname der Wüstenfuchs, \"the Desert Fox\". Among his British adversaries he had a reputation for chivalry, and his phrase \"war without hate\" has been uncritically used to describe the North African campaign.[2] A number of historians have since rejected the phrase as a myth and uncovered numerous examples of German war crimes and abuses towards enemy soldiers and native populations in Africa during the conflict.[3] Other historians note that there is no clear evidence Rommel was involved or aware of these crimes,[4] with some pointing out that the war in the desert, as fought by Rommel and his opponents, still came as close to a clean fight as there was in World War II.[5] He later commanded the German forces opposing the Allied cross-channel invasion of Normandy in June 1944.\\n\\nAfter the Nazis gained power in Germany, Rommel gradually accepted the new regime. Historians have given different accounts of the specific period and his motivations.[6] He was a supporter of Adolf Hitler, at least until near the end of the war, if not necessarily sympathetic to the party and the paramilitary forces associated with it.[7] In 1944, Rommel was implicated in the 20 July plot to assassinate Hitler. Because of Rommel\\'s status as a national hero, Hitler wanted to eliminate him quietly instead of having him immediately executed, as many other plotters were. Rommel was given a choice between suicide, in return for assurances that his reputation would remain intact and that his family would not be persecuted following his death, or facing a trial that would result in his disgrace and execution; he chose the former and took a cyanide pill.[8] Rommel was given a state funeral, and it was announced that he had succumbed to his injuries from the strafing of his staff car in Normandy.\\n\\nRommel became a larger-than-life figure in both Allied and Nazi propaganda, and in postwar popular culture. Numerous authors portray him as an apolitical, brilliant commander and a victim of Nazi Germany, although other authors have contested this assessment and called it the \"Rommel myth\". Rommel\\'s reputation for conducting a clean war was used in the interest of the West German rearmament and reconciliation between the former enemies – the United Kingdom and the United States on one side and the new Federal Republic of Germany on the other. Several of Rommel\\'s former subordinates, notably his chief of staff Hans Speidel, played key roles in German rearmament and integration into NATO in the postwar era. The German Army\\'s largest military base, the Field Marshal Rommel Barracks, Augustdorf, and a third ship of Lütjens-class destroyer of the German Navy are both named in his honour. His son Manfred Rommel was the longtime mayor of Stuttgart, Germany and namesake of Stuttgart Airport')]"
      ]
     },
     "execution_count": 52,
     "metadata": {},
     "output_type": "execute_result"
    }
   ],
   "source": [
    "loader = TextLoader(\"speech.txt\")\n",
    "data = loader.load()\n",
    "data"
   ]
  },
  {
   "cell_type": "code",
   "execution_count": 53,
   "metadata": {},
   "outputs": [],
   "source": [
    "text_splitter = RecursiveCharacterTextSplitter(chunk_size=500, chunk_overlap=0)\n",
    "splits =  text_splitter.split_documents(data)"
   ]
  },
  {
   "cell_type": "code",
   "execution_count": 55,
   "metadata": {},
   "outputs": [
    {
     "name": "stderr",
     "output_type": "stream",
     "text": [
      "c:\\Users\\adhik\\anaconda3\\envs\\py310\\lib\\site-packages\\IPython\\core\\interactiveshell.py:3577: LangChainDeprecationWarning: Default values for HuggingFaceBgeEmbeddings.model_name were deprecated in LangChain 0.2.5 and will be removed in 0.4.0. Explicitly pass a model_name to the HuggingFaceBgeEmbeddings constructor instead.\n",
      "  exec(code_obj, self.user_global_ns, self.user_ns)\n",
      "c:\\Users\\adhik\\anaconda3\\envs\\py310\\lib\\site-packages\\huggingface_hub\\file_download.py:147: UserWarning: `huggingface_hub` cache-system uses symlinks by default to efficiently store duplicated files but your machine does not support them in C:\\Users\\adhik\\.cache\\huggingface\\hub\\models--BAAI--bge-large-en. Caching files will still work but in a degraded version that might require more space on your disk. This warning can be disabled by setting the `HF_HUB_DISABLE_SYMLINKS_WARNING` environment variable. For more details, see https://huggingface.co/docs/huggingface_hub/how-to-cache#limitations.\n",
      "To support symlinks on Windows, you either need to activate Developer Mode or to run Python as an administrator. In order to activate developer mode, see this article: https://docs.microsoft.com/en-us/windows/apps/get-started/enable-your-device-for-development\n",
      "  warnings.warn(message)\n"
     ]
    },
    {
     "data": {
      "text/plain": [
       "<langchain_chroma.vectorstores.Chroma at 0x20f24dd0070>"
      ]
     },
     "execution_count": 55,
     "metadata": {},
     "output_type": "execute_result"
    }
   ],
   "source": [
    "embeddings = HuggingFaceBgeEmbeddings()\n",
    "vectordb = Chroma.from_documents(documents=splits,embedding=embeddings)\n",
    "vectordb"
   ]
  },
  {
   "cell_type": "code",
   "execution_count": 57,
   "metadata": {},
   "outputs": [
    {
     "data": {
      "text/plain": [
       "'Rommel became a larger-than-life figure in both Allied and Nazi propaganda, and in postwar popular culture. Numerous authors portray him as an apolitical, brilliant commander and a victim of Nazi Germany, although other authors have contested this assessment and called it the \"Rommel myth\". Rommel\\'s reputation for conducting a clean war was used in the interest of the West German rearmament and reconciliation between the former enemies – the United Kingdom and the United States on one side and'"
      ]
     },
     "execution_count": 57,
     "metadata": {},
     "output_type": "execute_result"
    }
   ],
   "source": [
    "query =  \"who was Rommel what he did in North Afrika\"\n",
    "docs = vectordb.similarity_search(query)\n",
    "docs[0].page_content"
   ]
  },
  {
   "cell_type": "code",
   "execution_count": 58,
   "metadata": {},
   "outputs": [],
   "source": [
    "vectordb = Chroma.from_documents(documents=splits,embedding=embeddings,persist_directory=\"./chroma_db\")\n"
   ]
  },
  {
   "cell_type": "code",
   "execution_count": 59,
   "metadata": {},
   "outputs": [],
   "source": [
    "db2 =  Chroma(persist_directory=\"./chroma_db\",embedding_function=embeddings)"
   ]
  },
  {
   "cell_type": "code",
   "execution_count": 62,
   "metadata": {},
   "outputs": [],
   "source": [
    "docs = db2.similarity_search(query)"
   ]
  },
  {
   "cell_type": "code",
   "execution_count": 63,
   "metadata": {},
   "outputs": [
    {
     "data": {
      "text/plain": [
       "[Document(metadata={'source': 'speech.txt'}, page_content='Rommel became a larger-than-life figure in both Allied and Nazi propaganda, and in postwar popular culture. Numerous authors portray him as an apolitical, brilliant commander and a victim of Nazi Germany, although other authors have contested this assessment and called it the \"Rommel myth\". Rommel\\'s reputation for conducting a clean war was used in the interest of the West German rearmament and reconciliation between the former enemies – the United Kingdom and the United States on one side and'),\n",
       " Document(metadata={'source': 'speech.txt'}, page_content='Rommel was a highly decorated officer in World War I and was awarded the Pour le Mérite for his actions on the Italian Front. In 1937, he published his classic book on military tactics, Infantry Attacks, drawing on his experiences in that war. In World War II, he commanded the 7th Panzer Division during the 1940 invasion of France. His leadership of German and Italian forces in the North African campaign established his reputation as one of the ablest tank commanders of the war, and earned him'),\n",
       " Document(metadata={'source': 'speech.txt'}, page_content=\"After the Nazis gained power in Germany, Rommel gradually accepted the new regime. Historians have given different accounts of the specific period and his motivations.[6] He was a supporter of Adolf Hitler, at least until near the end of the war, if not necessarily sympathetic to the party and the paramilitary forces associated with it.[7] In 1944, Rommel was implicated in the 20 July plot to assassinate Hitler. Because of Rommel's status as a national hero, Hitler wanted to eliminate him\"),\n",
       " Document(metadata={'source': 'speech.txt'}, page_content='the nickname der Wüstenfuchs, \"the Desert Fox\". Among his British adversaries he had a reputation for chivalry, and his phrase \"war without hate\" has been uncritically used to describe the North African campaign.[2] A number of historians have since rejected the phrase as a myth and uncovered numerous examples of German war crimes and abuses towards enemy soldiers and native populations in Africa during the conflict.[3] Other historians note that there is no clear evidence Rommel was involved')]"
      ]
     },
     "execution_count": 63,
     "metadata": {},
     "output_type": "execute_result"
    }
   ],
   "source": [
    "docs"
   ]
  },
  {
   "cell_type": "code",
   "execution_count": 64,
   "metadata": {},
   "outputs": [
    {
     "data": {
      "text/plain": [
       "'Rommel became a larger-than-life figure in both Allied and Nazi propaganda, and in postwar popular culture. Numerous authors portray him as an apolitical, brilliant commander and a victim of Nazi Germany, although other authors have contested this assessment and called it the \"Rommel myth\". Rommel\\'s reputation for conducting a clean war was used in the interest of the West German rearmament and reconciliation between the former enemies – the United Kingdom and the United States on one side and'"
      ]
     },
     "execution_count": 64,
     "metadata": {},
     "output_type": "execute_result"
    }
   ],
   "source": [
    "retriever = vectordb.as_retriever()\n",
    "retriever.invoke(query)[0].page_content"
   ]
  },
  {
   "cell_type": "code",
   "execution_count": null,
   "metadata": {},
   "outputs": [],
   "source": []
  }
 ],
 "metadata": {
  "kernelspec": {
   "display_name": "py310",
   "language": "python",
   "name": "python3"
  },
  "language_info": {
   "codemirror_mode": {
    "name": "ipython",
    "version": 3
   },
   "file_extension": ".py",
   "mimetype": "text/x-python",
   "name": "python",
   "nbconvert_exporter": "python",
   "pygments_lexer": "ipython3",
   "version": "3.10.14"
  }
 },
 "nbformat": 4,
 "nbformat_minor": 2
}
